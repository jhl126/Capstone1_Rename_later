{
 "cells": [
  {
   "cell_type": "code",
   "execution_count": 1,
   "metadata": {},
   "outputs": [
    {
     "name": "stdout",
     "output_type": "stream",
     "text": [
      "C:\\Users\\jlim7\\OneDrive\\Documents\\GitHub\\Capstone1_Rename_later\n",
      "['.git', '.gitignore', '.ipynb_checkpoints', '769175_1325857_bundle_archive.zip', 'Data Analysis.ipynb', 'Initial EDA.ipynb', 'modern-renewable-energy-consumption.csv', 'README.md', 'Research Proposal.ipynb']\n"
     ]
    },
    {
     "data": {
      "application/javascript": [
       "\n",
       "            setTimeout(function() {\n",
       "                var nbb_cell_id = 1;\n",
       "                var nbb_unformatted_code = \"%reload_ext nb_black\\n\\nimport pandas as pd\\nimport numpy as np\\nfrom scipy import stats\\nimport statsmodels.api as sm\\nfrom statsmodels.stats.multitest import multipletests\\nimport seaborn as sns\\nimport matplotlib.pyplot as plt\\nfrom statsmodels.graphics.gofplots import qqplot\\n\\n%matplotlib inline\\nimport os\\n\\nprint(os.getcwd())\\n\\nprint(os.listdir(os.getcwd()))\";\n",
       "                var nbb_formatted_code = \"%reload_ext nb_black\\n\\nimport pandas as pd\\nimport numpy as np\\nfrom scipy import stats\\nimport statsmodels.api as sm\\nfrom statsmodels.stats.multitest import multipletests\\nimport seaborn as sns\\nimport matplotlib.pyplot as plt\\nfrom statsmodels.graphics.gofplots import qqplot\\n\\n%matplotlib inline\\nimport os\\n\\nprint(os.getcwd())\\n\\nprint(os.listdir(os.getcwd()))\";\n",
       "                var nbb_cells = Jupyter.notebook.get_cells();\n",
       "                for (var i = 0; i < nbb_cells.length; ++i) {\n",
       "                    if (nbb_cells[i].input_prompt_number == nbb_cell_id) {\n",
       "                        if (nbb_cells[i].get_text() == nbb_unformatted_code) {\n",
       "                             nbb_cells[i].set_text(nbb_formatted_code);\n",
       "                        }\n",
       "                        break;\n",
       "                    }\n",
       "                }\n",
       "            }, 500);\n",
       "            "
      ],
      "text/plain": [
       "<IPython.core.display.Javascript object>"
      ]
     },
     "metadata": {},
     "output_type": "display_data"
    }
   ],
   "source": [
    "%reload_ext nb_black\n",
    "\n",
    "import pandas as pd\n",
    "import numpy as np\n",
    "from scipy import stats\n",
    "import statsmodels.api as sm\n",
    "from statsmodels.stats.multitest import multipletests\n",
    "import seaborn as sns\n",
    "import matplotlib.pyplot as plt\n",
    "from statsmodels.graphics.gofplots import qqplot\n",
    "\n",
    "%matplotlib inline\n",
    "import os\n",
    "\n",
    "print(os.getcwd())\n",
    "\n",
    "print(os.listdir(os.getcwd()))"
   ]
  },
  {
   "cell_type": "code",
   "execution_count": 2,
   "metadata": {},
   "outputs": [
    {
     "data": {
      "application/javascript": [
       "\n",
       "            setTimeout(function() {\n",
       "                var nbb_cell_id = 2;\n",
       "                var nbb_unformatted_code = \"energy = pd.read_csv(\\\"modern-renewable-energy-consumption.csv\\\")\";\n",
       "                var nbb_formatted_code = \"energy = pd.read_csv(\\\"modern-renewable-energy-consumption.csv\\\")\";\n",
       "                var nbb_cells = Jupyter.notebook.get_cells();\n",
       "                for (var i = 0; i < nbb_cells.length; ++i) {\n",
       "                    if (nbb_cells[i].input_prompt_number == nbb_cell_id) {\n",
       "                        if (nbb_cells[i].get_text() == nbb_unformatted_code) {\n",
       "                             nbb_cells[i].set_text(nbb_formatted_code);\n",
       "                        }\n",
       "                        break;\n",
       "                    }\n",
       "                }\n",
       "            }, 500);\n",
       "            "
      ],
      "text/plain": [
       "<IPython.core.display.Javascript object>"
      ]
     },
     "metadata": {},
     "output_type": "display_data"
    }
   ],
   "source": [
    "energy = pd.read_csv(\"modern-renewable-energy-consumption.csv\")"
   ]
  },
  {
   "cell_type": "markdown",
   "metadata": {},
   "source": [
    "From the website: https://www.statista.com/statistics/263455/primary-energy-consumption-of-selected-countries/\n",
    "We see that the top three energy consuming countries in 2019 (most to least) are China, the United States, and India."
   ]
  },
  {
   "cell_type": "code",
   "execution_count": 14,
   "metadata": {},
   "outputs": [
    {
     "data": {
      "text/html": [
       "<div>\n",
       "<style scoped>\n",
       "    .dataframe tbody tr th:only-of-type {\n",
       "        vertical-align: middle;\n",
       "    }\n",
       "\n",
       "    .dataframe tbody tr th {\n",
       "        vertical-align: top;\n",
       "    }\n",
       "\n",
       "    .dataframe thead th {\n",
       "        text-align: right;\n",
       "    }\n",
       "</style>\n",
       "<table border=\"1\" class=\"dataframe\">\n",
       "  <thead>\n",
       "    <tr style=\"text-align: right;\">\n",
       "      <th></th>\n",
       "      <th>Entity</th>\n",
       "      <th>Code</th>\n",
       "      <th>Year</th>\n",
       "      <th>Hydropower (terawatt-hours)</th>\n",
       "      <th>Solar (terawatt-hours)</th>\n",
       "      <th>Wind (terawatt-hours)</th>\n",
       "      <th>Other renewables (terawatt-hours)</th>\n",
       "    </tr>\n",
       "  </thead>\n",
       "  <tbody>\n",
       "    <tr>\n",
       "      <th>824</th>\n",
       "      <td>China</td>\n",
       "      <td>CHN</td>\n",
       "      <td>1965</td>\n",
       "      <td>22.097000</td>\n",
       "      <td>0.0</td>\n",
       "      <td>0.0</td>\n",
       "      <td>0.0</td>\n",
       "    </tr>\n",
       "    <tr>\n",
       "      <th>825</th>\n",
       "      <td>China</td>\n",
       "      <td>CHN</td>\n",
       "      <td>1966</td>\n",
       "      <td>22.485907</td>\n",
       "      <td>0.0</td>\n",
       "      <td>0.0</td>\n",
       "      <td>0.0</td>\n",
       "    </tr>\n",
       "    <tr>\n",
       "      <th>826</th>\n",
       "      <td>China</td>\n",
       "      <td>CHN</td>\n",
       "      <td>1967</td>\n",
       "      <td>19.383488</td>\n",
       "      <td>0.0</td>\n",
       "      <td>0.0</td>\n",
       "      <td>0.0</td>\n",
       "    </tr>\n",
       "    <tr>\n",
       "      <th>827</th>\n",
       "      <td>China</td>\n",
       "      <td>CHN</td>\n",
       "      <td>1968</td>\n",
       "      <td>22.870395</td>\n",
       "      <td>0.0</td>\n",
       "      <td>0.0</td>\n",
       "      <td>0.0</td>\n",
       "    </tr>\n",
       "    <tr>\n",
       "      <th>828</th>\n",
       "      <td>China</td>\n",
       "      <td>CHN</td>\n",
       "      <td>1969</td>\n",
       "      <td>23.259302</td>\n",
       "      <td>0.0</td>\n",
       "      <td>0.0</td>\n",
       "      <td>0.0</td>\n",
       "    </tr>\n",
       "  </tbody>\n",
       "</table>\n",
       "</div>"
      ],
      "text/plain": [
       "    Entity Code  Year  Hydropower (terawatt-hours)  Solar (terawatt-hours)  \\\n",
       "824  China  CHN  1965                    22.097000                     0.0   \n",
       "825  China  CHN  1966                    22.485907                     0.0   \n",
       "826  China  CHN  1967                    19.383488                     0.0   \n",
       "827  China  CHN  1968                    22.870395                     0.0   \n",
       "828  China  CHN  1969                    23.259302                     0.0   \n",
       "\n",
       "     Wind (terawatt-hours)  Other renewables (terawatt-hours)  \n",
       "824                    0.0                                0.0  \n",
       "825                    0.0                                0.0  \n",
       "826                    0.0                                0.0  \n",
       "827                    0.0                                0.0  \n",
       "828                    0.0                                0.0  "
      ]
     },
     "execution_count": 14,
     "metadata": {},
     "output_type": "execute_result"
    },
    {
     "data": {
      "application/javascript": [
       "\n",
       "            setTimeout(function() {\n",
       "                var nbb_cell_id = 14;\n",
       "                var nbb_unformatted_code = \"top = [\\\"United States\\\", \\\"China\\\", \\\"India\\\"]\\ntop_energy = energy[energy[\\\"Entity\\\"].isin(top)]\\ntop_energy.head()\";\n",
       "                var nbb_formatted_code = \"top = [\\\"United States\\\", \\\"China\\\", \\\"India\\\"]\\ntop_energy = energy[energy[\\\"Entity\\\"].isin(top)]\\ntop_energy.head()\";\n",
       "                var nbb_cells = Jupyter.notebook.get_cells();\n",
       "                for (var i = 0; i < nbb_cells.length; ++i) {\n",
       "                    if (nbb_cells[i].input_prompt_number == nbb_cell_id) {\n",
       "                        if (nbb_cells[i].get_text() == nbb_unformatted_code) {\n",
       "                             nbb_cells[i].set_text(nbb_formatted_code);\n",
       "                        }\n",
       "                        break;\n",
       "                    }\n",
       "                }\n",
       "            }, 500);\n",
       "            "
      ],
      "text/plain": [
       "<IPython.core.display.Javascript object>"
      ]
     },
     "metadata": {},
     "output_type": "display_data"
    }
   ],
   "source": [
    "#To clean up the data, I have filtered out the table to only include the top three energy consuming countries.\n",
    "top = [\"United States\", \"China\", \"India\"]\n",
    "top_energy = energy[energy[\"Entity\"].isin(top)]\n",
    "us = energy[energy[\"Entity\"] == \"United States\"]\n",
    "china = energy[energy[\"Entity\"] == \"China\"]\n",
    "india = energy[energy[\"Entity\"] == \"India\"]"
   ]
  },
  {
   "cell_type": "code",
   "execution_count": 18,
   "metadata": {},
   "outputs": [
    {
     "data": {
      "text/plain": [
       "array([[<matplotlib.axes._subplots.AxesSubplot object at 0x000001234CB44648>,\n",
       "        <matplotlib.axes._subplots.AxesSubplot object at 0x000001234BEC3408>],\n",
       "       [<matplotlib.axes._subplots.AxesSubplot object at 0x000001234AF6F388>,\n",
       "        <matplotlib.axes._subplots.AxesSubplot object at 0x000001234AEEB488>]],\n",
       "      dtype=object)"
      ]
     },
     "execution_count": 18,
     "metadata": {},
     "output_type": "execute_result"
    },
    {
     "data": {
      "image/png": "[encoded data removed]",
      "text/plain": [
       "<Figure size 432x288 with 4 Axes>"
      ]
     },
     "metadata": {
      "needs_background": "light"
     },
     "output_type": "display_data"
    },
    {
     "data": {
      "application/javascript": [
       "\n",
       "            setTimeout(function() {\n",
       "                var nbb_cell_id = 18;\n",
       "                var nbb_unformatted_code = \"top_energy['Solar (terawatt-hours)'].hist(by = top_energy['Entity'])\";\n",
       "                var nbb_formatted_code = \"top_energy[\\\"Solar (terawatt-hours)\\\"].hist(by=top_energy[\\\"Entity\\\"])\";\n",
       "                var nbb_cells = Jupyter.notebook.get_cells();\n",
       "                for (var i = 0; i < nbb_cells.length; ++i) {\n",
       "                    if (nbb_cells[i].input_prompt_number == nbb_cell_id) {\n",
       "                        if (nbb_cells[i].get_text() == nbb_unformatted_code) {\n",
       "                             nbb_cells[i].set_text(nbb_formatted_code);\n",
       "                        }\n",
       "                        break;\n",
       "                    }\n",
       "                }\n",
       "            }, 500);\n",
       "            "
      ],
      "text/plain": [
       "<IPython.core.display.Javascript object>"
      ]
     },
     "metadata": {},
     "output_type": "display_data"
    }
   ],
   "source": [
    "top_energy[\"Solar (terawatt-hours)\"].hist(by=top_energy[\"Entity\"])"
   ]
  },
  {
   "cell_type": "code",
   "execution_count": 25,
   "metadata": {},
   "outputs": [
    {
     "data": {
      "image/png": "[encoded data removed]",
      "text/plain": [
       "<Figure size 432x288 with 1 Axes>"
      ]
     },
     "execution_count": 25,
     "metadata": {},
     "output_type": "execute_result"
    },
    {
     "data": {
      "image/png": "[encoded data removed]",
      "text/plain": [
       "<Figure size 432x288 with 1 Axes>"
      ]
     },
     "metadata": {
      "needs_background": "light"
     },
     "output_type": "display_data"
    },
    {
     "data": {
      "application/javascript": [
       "\n",
       "            setTimeout(function() {\n",
       "                var nbb_cell_id = 25;\n",
       "                var nbb_unformatted_code = \"qqplot(top_energy['Solar (terawatt-hours)'], line=\\\"s\\\")\";\n",
       "                var nbb_formatted_code = \"qqplot(top_energy[\\\"Solar (terawatt-hours)\\\"], line=\\\"s\\\")\";\n",
       "                var nbb_cells = Jupyter.notebook.get_cells();\n",
       "                for (var i = 0; i < nbb_cells.length; ++i) {\n",
       "                    if (nbb_cells[i].input_prompt_number == nbb_cell_id) {\n",
       "                        if (nbb_cells[i].get_text() == nbb_unformatted_code) {\n",
       "                             nbb_cells[i].set_text(nbb_formatted_code);\n",
       "                        }\n",
       "                        break;\n",
       "                    }\n",
       "                }\n",
       "            }, 500);\n",
       "            "
      ],
      "text/plain": [
       "<IPython.core.display.Javascript object>"
      ]
     },
     "metadata": {},
     "output_type": "display_data"
    }
   ],
   "source": [
    "#Trying to plot qqplot for the top three countries.\n",
    "#Why are there only two qqplots\n",
    "qqplot(top_energy[\"Solar (terawatt-hours)\"], line=\"s\")"
   ]
  },
  {
   "cell_type": "code",
   "execution_count": 33,
   "metadata": {},
   "outputs": [
    {
     "name": "stdout",
     "output_type": "stream",
     "text": [
      "There is a significant difference. Reject the null hypothesis\n",
      "0.006402094683951255\n"
     ]
    },
    {
     "data": {
      "application/javascript": [
       "\n",
       "            setTimeout(function() {\n",
       "                var nbb_cell_id = 33;\n",
       "                var nbb_unformatted_code = \"# From the histograms above I noticed the data is not normalized.\\n# Additionally, each of the countries are independent of eachother.\\n# Therefore, to check if there is a siginificant difference between the three I used a Kruskal Wallice test.\\nt, p = stats.kruskal(\\n    top_energy.loc[top_energy[\\\"Entity\\\"] == \\\"United States\\\", [\\\"Solar (terawatt-hours)\\\"]],\\n    top_energy.loc[top_energy[\\\"Entity\\\"] == \\\"China\\\", [\\\"Solar (terawatt-hours)\\\"]],\\n    top_energy.loc[top_energy[\\\"Entity\\\"] == \\\"India\\\", [\\\"Solar (terawatt-hours)\\\"]],\\n)\\nif p < 0.05:\\n    print(\\\"There is a significant difference. Reject the null hypothesis\\\")\\nelse:\\n    print(\\\"There is no significant difference. Cannot reject the null hypothesis\\\")\\nprint(p)\";\n",
       "                var nbb_formatted_code = \"# From the histograms above I noticed the data is not normalized.\\n# Additionally, each of the countries are independent of eachother.\\n# Therefore, to check if there is a siginificant difference between the three I used a Kruskal Wallice test.\\nt, p = stats.kruskal(\\n    top_energy.loc[top_energy[\\\"Entity\\\"] == \\\"United States\\\", [\\\"Solar (terawatt-hours)\\\"]],\\n    top_energy.loc[top_energy[\\\"Entity\\\"] == \\\"China\\\", [\\\"Solar (terawatt-hours)\\\"]],\\n    top_energy.loc[top_energy[\\\"Entity\\\"] == \\\"India\\\", [\\\"Solar (terawatt-hours)\\\"]],\\n)\\nif p < 0.05:\\n    print(\\\"There is a significant difference. Reject the null hypothesis\\\")\\nelse:\\n    print(\\\"There is no significant difference. Cannot reject the null hypothesis\\\")\\nprint(p)\";\n",
       "                var nbb_cells = Jupyter.notebook.get_cells();\n",
       "                for (var i = 0; i < nbb_cells.length; ++i) {\n",
       "                    if (nbb_cells[i].input_prompt_number == nbb_cell_id) {\n",
       "                        if (nbb_cells[i].get_text() == nbb_unformatted_code) {\n",
       "                             nbb_cells[i].set_text(nbb_formatted_code);\n",
       "                        }\n",
       "                        break;\n",
       "                    }\n",
       "                }\n",
       "            }, 500);\n",
       "            "
      ],
      "text/plain": [
       "<IPython.core.display.Javascript object>"
      ]
     },
     "metadata": {},
     "output_type": "display_data"
    }
   ],
   "source": [
    "# From the histograms above I noticed the data is not normalized.\n",
    "# Additionally, each of the countries are independent of eachother.\n",
    "# Therefore, to check if there is a siginificant difference between the three I used a Kruskal Wallice test.\n",
    "t, p = stats.kruskal(\n",
    "    top_energy.loc[top_energy[\"Entity\"] == \"United States\", [\"Solar (terawatt-hours)\"]],\n",
    "    top_energy.loc[top_energy[\"Entity\"] == \"China\", [\"Solar (terawatt-hours)\"]],\n",
    "    top_energy.loc[top_energy[\"Entity\"] == \"India\", [\"Solar (terawatt-hours)\"]],\n",
    ")\n",
    "if p < 0.05:\n",
    "    print(\"There is a significant difference. Reject the null hypothesis\")\n",
    "else:\n",
    "    print(\"There is no significant difference. Cannot reject the null hypothesis\")\n",
    "print(p)"
   ]
  },
  {
   "cell_type": "code",
   "execution_count": 34,
   "metadata": {},
   "outputs": [
    {
     "data": {
      "application/javascript": [
       "\n",
       "            setTimeout(function() {\n",
       "                var nbb_cell_id = 34;\n",
       "                var nbb_unformatted_code = \"#Check confidence interval \\nx1 = us[\\\"Solar (terawatt-hours)\\\"]\\nx2 = china[\\\"Solar (terawatt-hours)\\\"]\\nx3 = india[\\\"Solar (terawatt-hours)\\\"]\";\n",
       "                var nbb_formatted_code = \"# Check confidence interval\\nx1 = us[\\\"Solar (terawatt-hours)\\\"]\\nx2 = china[\\\"Solar (terawatt-hours)\\\"]\\nx3 = india[\\\"Solar (terawatt-hours)\\\"]\";\n",
       "                var nbb_cells = Jupyter.notebook.get_cells();\n",
       "                for (var i = 0; i < nbb_cells.length; ++i) {\n",
       "                    if (nbb_cells[i].input_prompt_number == nbb_cell_id) {\n",
       "                        if (nbb_cells[i].get_text() == nbb_unformatted_code) {\n",
       "                             nbb_cells[i].set_text(nbb_formatted_code);\n",
       "                        }\n",
       "                        break;\n",
       "                    }\n",
       "                }\n",
       "            }, 500);\n",
       "            "
      ],
      "text/plain": [
       "<IPython.core.display.Javascript object>"
      ]
     },
     "metadata": {},
     "output_type": "display_data"
    }
   ],
   "source": [
    "x1 = us[\"Solar (terawatt-hours)\"]\n",
    "x2 = china[\"Solar (terawatt-hours)\"]\n",
    "x3 = india[\"Solar (terawatt-hours)\"]"
   ]
  },
  {
   "cell_type": "code",
   "execution_count": 36,
   "metadata": {},
   "outputs": [
    {
     "data": {
      "text/plain": [
       "(-11.240810952890772, 7.76833150900475)"
      ]
     },
     "execution_count": 36,
     "metadata": {},
     "output_type": "execute_result"
    },
    {
     "data": {
      "application/javascript": [
       "\n",
       "            setTimeout(function() {\n",
       "                var nbb_cell_id = 36;\n",
       "                var nbb_unformatted_code = \"# Check confidence interval between the US and China\\nsignal = x1.mean() - x2.mean()\\nnoise = np.sqrt(x1.var() / x1.size + x2.var() / x2.size)\\n\\nci_lo = signal - 1.96 * noise\\nci_hi = signal + 1.96 * noise\\n(ci_lo, ci_hi)\";\n",
       "                var nbb_formatted_code = \"# Check confidence interval between the US and China\\nsignal = x1.mean() - x2.mean()\\nnoise = np.sqrt(x1.var() / x1.size + x2.var() / x2.size)\\n\\nci_lo = signal - 1.96 * noise\\nci_hi = signal + 1.96 * noise\\n(ci_lo, ci_hi)\";\n",
       "                var nbb_cells = Jupyter.notebook.get_cells();\n",
       "                for (var i = 0; i < nbb_cells.length; ++i) {\n",
       "                    if (nbb_cells[i].input_prompt_number == nbb_cell_id) {\n",
       "                        if (nbb_cells[i].get_text() == nbb_unformatted_code) {\n",
       "                             nbb_cells[i].set_text(nbb_formatted_code);\n",
       "                        }\n",
       "                        break;\n",
       "                    }\n",
       "                }\n",
       "            }, 500);\n",
       "            "
      ],
      "text/plain": [
       "<IPython.core.display.Javascript object>"
      ]
     },
     "metadata": {},
     "output_type": "display_data"
    }
   ],
   "source": [
    "# Check confidence interval between the US and China\n",
    "signal = x1.mean() - x2.mean()\n",
    "noise = np.sqrt(x1.var() / x1.size + x2.var() / x2.size)\n",
    "\n",
    "ci_lo = signal - 1.96 * noise\n",
    "ci_hi = signal + 1.96 * noise\n",
    "(ci_lo, ci_hi)"
   ]
  },
  {
   "cell_type": "code",
   "execution_count": 37,
   "metadata": {},
   "outputs": [
    {
     "data": {
      "text/plain": [
       "(-0.36754084725138636, 10.165627660954591)"
      ]
     },
     "execution_count": 37,
     "metadata": {},
     "output_type": "execute_result"
    },
    {
     "data": {
      "application/javascript": [
       "\n",
       "            setTimeout(function() {\n",
       "                var nbb_cell_id = 37;\n",
       "                var nbb_unformatted_code = \"# Check confidence interval between the US and India\\nsignal = x1.mean() - x3.mean()\\nnoise = np.sqrt(x1.var() / x1.size + x3.var() / x3.size)\\n\\nci_lo = signal - 1.96 * noise\\nci_hi = signal + 1.96 * noise\\n(ci_lo, ci_hi)\";\n",
       "                var nbb_formatted_code = \"# Check confidence interval between the US and India\\nsignal = x1.mean() - x3.mean()\\nnoise = np.sqrt(x1.var() / x1.size + x3.var() / x3.size)\\n\\nci_lo = signal - 1.96 * noise\\nci_hi = signal + 1.96 * noise\\n(ci_lo, ci_hi)\";\n",
       "                var nbb_cells = Jupyter.notebook.get_cells();\n",
       "                for (var i = 0; i < nbb_cells.length; ++i) {\n",
       "                    if (nbb_cells[i].input_prompt_number == nbb_cell_id) {\n",
       "                        if (nbb_cells[i].get_text() == nbb_unformatted_code) {\n",
       "                             nbb_cells[i].set_text(nbb_formatted_code);\n",
       "                        }\n",
       "                        break;\n",
       "                    }\n",
       "                }\n",
       "            }, 500);\n",
       "            "
      ],
      "text/plain": [
       "<IPython.core.display.Javascript object>"
      ]
     },
     "metadata": {},
     "output_type": "display_data"
    }
   ],
   "source": [
    "# Check confidence interval between the US and India\n",
    "signal = x1.mean() - x3.mean()\n",
    "noise = np.sqrt(x1.var() / x1.size + x3.var() / x3.size)\n",
    "\n",
    "ci_lo = signal - 1.96 * noise\n",
    "ci_hi = signal + 1.96 * noise\n",
    "(ci_lo, ci_hi)"
   ]
  },
  {
   "cell_type": "code",
   "execution_count": 38,
   "metadata": {},
   "outputs": [
    {
     "data": {
      "text/plain": [
       "(-1.5273412233808061, 14.797907480970032)"
      ]
     },
     "execution_count": 38,
     "metadata": {},
     "output_type": "execute_result"
    },
    {
     "data": {
      "application/javascript": [
       "\n",
       "            setTimeout(function() {\n",
       "                var nbb_cell_id = 38;\n",
       "                var nbb_unformatted_code = \"# Check confidence interval between the China and India\\nsignal = x2.mean() - x3.mean()\\nnoise = np.sqrt(x2.var() / x2.size + x3.var() / x3.size)\\n\\nci_lo = signal - 1.96 * noise\\nci_hi = signal + 1.96 * noise\\n(ci_lo, ci_hi)\";\n",
       "                var nbb_formatted_code = \"# Check confidence interval between the China and India\\nsignal = x2.mean() - x3.mean()\\nnoise = np.sqrt(x2.var() / x2.size + x3.var() / x3.size)\\n\\nci_lo = signal - 1.96 * noise\\nci_hi = signal + 1.96 * noise\\n(ci_lo, ci_hi)\";\n",
       "                var nbb_cells = Jupyter.notebook.get_cells();\n",
       "                for (var i = 0; i < nbb_cells.length; ++i) {\n",
       "                    if (nbb_cells[i].input_prompt_number == nbb_cell_id) {\n",
       "                        if (nbb_cells[i].get_text() == nbb_unformatted_code) {\n",
       "                             nbb_cells[i].set_text(nbb_formatted_code);\n",
       "                        }\n",
       "                        break;\n",
       "                    }\n",
       "                }\n",
       "            }, 500);\n",
       "            "
      ],
      "text/plain": [
       "<IPython.core.display.Javascript object>"
      ]
     },
     "metadata": {},
     "output_type": "display_data"
    }
   ],
   "source": [
    "# Check confidence interval between the China and India\n",
    "signal = x2.mean() - x3.mean()\n",
    "noise = np.sqrt(x2.var() / x2.size + x3.var() / x3.size)\n",
    "\n",
    "ci_lo = signal - 1.96 * noise\n",
    "ci_hi = signal + 1.96 * noise\n",
    "(ci_lo, ci_hi)"
   ]
  },
  {
   "cell_type": "code",
   "execution_count": null,
   "metadata": {},
   "outputs": [],
   "source": [
    "# For the CI's above, the range includes 0. Doesn't that mean there is a chance of not having a significant difference?"
   ]
  },
  {
   "cell_type": "code",
   "execution_count": 58,
   "metadata": {},
   "outputs": [
    {
     "data": {
      "text/plain": [
       "<matplotlib.legend.Legend at 0x1fd189c5cc8>"
      ]
     },
     "execution_count": 58,
     "metadata": {},
     "output_type": "execute_result"
    },
    {
     "data": {
      "image/png": "[encoded data removed]",
      "text/plain": [
       "<Figure size 432x288 with 1 Axes>"
      ]
     },
     "metadata": {
      "needs_background": "light"
     },
     "output_type": "display_data"
    },
    {
     "data": {
      "application/javascript": [
       "\n",
       "            setTimeout(function() {\n",
       "                var nbb_cell_id = 58;\n",
       "                var nbb_unformatted_code = \"plt.plot(us[\\\"Year\\\"], us[\\\"Solar (terawatt-hours)\\\"], \\\"-b\\\", label=\\\"US\\\")\\nplt.plot(china[\\\"Year\\\"], china[\\\"Solar (terawatt-hours)\\\"], \\\"-r\\\", label=\\\"China\\\")\\nplt.plot(india[\\\"Year\\\"], india[\\\"Solar (terawatt-hours)\\\"], \\\"-g\\\", label=\\\" India\\\")\\nplt.title(\\\"Solar Production\\\")\\nplt.legend(loc=\\\"upper left\\\")\";\n",
       "                var nbb_formatted_code = \"plt.plot(us[\\\"Year\\\"], us[\\\"Solar (terawatt-hours)\\\"], \\\"-b\\\", label=\\\"US\\\")\\nplt.plot(china[\\\"Year\\\"], china[\\\"Solar (terawatt-hours)\\\"], \\\"-r\\\", label=\\\"China\\\")\\nplt.plot(india[\\\"Year\\\"], india[\\\"Solar (terawatt-hours)\\\"], \\\"-g\\\", label=\\\" India\\\")\\nplt.title(\\\"Solar Production\\\")\\nplt.legend(loc=\\\"upper left\\\")\";\n",
       "                var nbb_cells = Jupyter.notebook.get_cells();\n",
       "                for (var i = 0; i < nbb_cells.length; ++i) {\n",
       "                    if (nbb_cells[i].input_prompt_number == nbb_cell_id) {\n",
       "                        if (nbb_cells[i].get_text() == nbb_unformatted_code) {\n",
       "                             nbb_cells[i].set_text(nbb_formatted_code);\n",
       "                        }\n",
       "                        break;\n",
       "                    }\n",
       "                }\n",
       "            }, 500);\n",
       "            "
      ],
      "text/plain": [
       "<IPython.core.display.Javascript object>"
      ]
     },
     "metadata": {},
     "output_type": "display_data"
    }
   ],
   "source": [
    "plt.plot(us[\"Year\"], us[\"Solar (terawatt-hours)\"], \"-b\", label=\"US\")\n",
    "plt.plot(china[\"Year\"], china[\"Solar (terawatt-hours)\"], \"-r\", label=\"China\")\n",
    "plt.plot(india[\"Year\"], india[\"Solar (terawatt-hours)\"], \"-g\", label=\" India\")\n",
    "plt.title(\"Solar Production\")\n",
    "plt.legend(loc=\"upper left\")"
   ]
  },
  {
   "cell_type": "code",
   "execution_count": 27,
   "metadata": {},
   "outputs": [
    {
     "data": {
      "text/plain": [
       "array([[<matplotlib.axes._subplots.AxesSubplot object at 0x000001234C3B4B48>,\n",
       "        <matplotlib.axes._subplots.AxesSubplot object at 0x000001234AB7BC08>],\n",
       "       [<matplotlib.axes._subplots.AxesSubplot object at 0x000001234C424CC8>,\n",
       "        <matplotlib.axes._subplots.AxesSubplot object at 0x000001234C47E488>]],\n",
       "      dtype=object)"
      ]
     },
     "execution_count": 27,
     "metadata": {},
     "output_type": "execute_result"
    },
    {
     "data": {
      "image/png": "[encoded data removed]",
      "text/plain": [
       "<Figure size 432x288 with 4 Axes>"
      ]
     },
     "metadata": {
      "needs_background": "light"
     },
     "output_type": "display_data"
    },
    {
     "data": {
      "application/javascript": [
       "\n",
       "            setTimeout(function() {\n",
       "                var nbb_cell_id = 27;\n",
       "                var nbb_unformatted_code = \"top_energy[\\\"Wind (terawatt-hours)\\\"].hist(by=top_energy[\\\"Entity\\\"])\";\n",
       "                var nbb_formatted_code = \"top_energy[\\\"Wind (terawatt-hours)\\\"].hist(by=top_energy[\\\"Entity\\\"])\";\n",
       "                var nbb_cells = Jupyter.notebook.get_cells();\n",
       "                for (var i = 0; i < nbb_cells.length; ++i) {\n",
       "                    if (nbb_cells[i].input_prompt_number == nbb_cell_id) {\n",
       "                        if (nbb_cells[i].get_text() == nbb_unformatted_code) {\n",
       "                             nbb_cells[i].set_text(nbb_formatted_code);\n",
       "                        }\n",
       "                        break;\n",
       "                    }\n",
       "                }\n",
       "            }, 500);\n",
       "            "
      ],
      "text/plain": [
       "<IPython.core.display.Javascript object>"
      ]
     },
     "metadata": {},
     "output_type": "display_data"
    }
   ],
   "source": [
    "top_energy[\"Wind (terawatt-hours)\"].hist(by=top_energy[\"Entity\"])"
   ]
  },
  {
   "cell_type": "code",
   "execution_count": 28,
   "metadata": {},
   "outputs": [
    {
     "data": {
      "image/png": "[encoded data removed]",
      "text/plain": [
       "<Figure size 432x288 with 1 Axes>"
      ]
     },
     "execution_count": 28,
     "metadata": {},
     "output_type": "execute_result"
    },
    {
     "data": {
      "image/png": "[encoded data removed]",
      "text/plain": [
       "<Figure size 432x288 with 1 Axes>"
      ]
     },
     "metadata": {
      "needs_background": "light"
     },
     "output_type": "display_data"
    },
    {
     "data": {
      "application/javascript": [
       "\n",
       "            setTimeout(function() {\n",
       "                var nbb_cell_id = 28;\n",
       "                var nbb_unformatted_code = \"qqplot(top_energy[\\\"Wind (terawatt-hours)\\\"], line=\\\"s\\\")\";\n",
       "                var nbb_formatted_code = \"qqplot(top_energy[\\\"Wind (terawatt-hours)\\\"], line=\\\"s\\\")\";\n",
       "                var nbb_cells = Jupyter.notebook.get_cells();\n",
       "                for (var i = 0; i < nbb_cells.length; ++i) {\n",
       "                    if (nbb_cells[i].input_prompt_number == nbb_cell_id) {\n",
       "                        if (nbb_cells[i].get_text() == nbb_unformatted_code) {\n",
       "                             nbb_cells[i].set_text(nbb_formatted_code);\n",
       "                        }\n",
       "                        break;\n",
       "                    }\n",
       "                }\n",
       "            }, 500);\n",
       "            "
      ],
      "text/plain": [
       "<IPython.core.display.Javascript object>"
      ]
     },
     "metadata": {},
     "output_type": "display_data"
    }
   ],
   "source": [
    "#should there be three qqplots?\n",
    "qqplot(top_energy[\"Wind (terawatt-hours)\"], line=\"s\")"
   ]
  },
  {
   "cell_type": "code",
   "execution_count": 32,
   "metadata": {},
   "outputs": [
    {
     "name": "stdout",
     "output_type": "stream",
     "text": [
      "There is no significant difference. Cannot reject the null hypothesis\n",
      "0.12251965106037972\n"
     ]
    },
    {
     "data": {
      "application/javascript": [
       "\n",
       "            setTimeout(function() {\n",
       "                var nbb_cell_id = 32;\n",
       "                var nbb_unformatted_code = \"# Once again from the histograms above I noticed the data is not normalized.\\n# We know each of the countries are independent of eachother.\\n# So we stick with the Kruskal Wallice test.\\nt, p = stats.kruskal(\\n    top_energy.loc[top_energy[\\\"Entity\\\"] == \\\"United States\\\", [\\\"Wind (terawatt-hours)\\\"]],\\n    top_energy.loc[top_energy[\\\"Entity\\\"] == \\\"China\\\", [\\\"Wind (terawatt-hours)\\\"]],\\n    top_energy.loc[top_energy[\\\"Entity\\\"] == \\\"India\\\", [\\\"Wind (terawatt-hours)\\\"]],\\n)\\nif p < 0.05:\\n    print(\\\"There is a significant difference. Reject the null hypothesis\\\")\\nelse:\\n    print(\\\"There is no significant difference. Cannot reject the null hypothesis\\\")\\nprint(p)\";\n",
       "                var nbb_formatted_code = \"# Once again from the histograms above I noticed the data is not normalized.\\n# We know each of the countries are independent of eachother.\\n# So we stick with the Kruskal Wallice test.\\nt, p = stats.kruskal(\\n    top_energy.loc[top_energy[\\\"Entity\\\"] == \\\"United States\\\", [\\\"Wind (terawatt-hours)\\\"]],\\n    top_energy.loc[top_energy[\\\"Entity\\\"] == \\\"China\\\", [\\\"Wind (terawatt-hours)\\\"]],\\n    top_energy.loc[top_energy[\\\"Entity\\\"] == \\\"India\\\", [\\\"Wind (terawatt-hours)\\\"]],\\n)\\nif p < 0.05:\\n    print(\\\"There is a significant difference. Reject the null hypothesis\\\")\\nelse:\\n    print(\\\"There is no significant difference. Cannot reject the null hypothesis\\\")\\nprint(p)\";\n",
       "                var nbb_cells = Jupyter.notebook.get_cells();\n",
       "                for (var i = 0; i < nbb_cells.length; ++i) {\n",
       "                    if (nbb_cells[i].input_prompt_number == nbb_cell_id) {\n",
       "                        if (nbb_cells[i].get_text() == nbb_unformatted_code) {\n",
       "                             nbb_cells[i].set_text(nbb_formatted_code);\n",
       "                        }\n",
       "                        break;\n",
       "                    }\n",
       "                }\n",
       "            }, 500);\n",
       "            "
      ],
      "text/plain": [
       "<IPython.core.display.Javascript object>"
      ]
     },
     "metadata": {},
     "output_type": "display_data"
    }
   ],
   "source": [
    "# Once again from the histograms above I noticed the data is not normalized.\n",
    "# We know each of the countries are independent of eachother.\n",
    "# So we stick with the Kruskal Wallice test.\n",
    "t, p = stats.kruskal(\n",
    "    top_energy.loc[top_energy[\"Entity\"] == \"United States\", [\"Wind (terawatt-hours)\"]],\n",
    "    top_energy.loc[top_energy[\"Entity\"] == \"China\", [\"Wind (terawatt-hours)\"]],\n",
    "    top_energy.loc[top_energy[\"Entity\"] == \"India\", [\"Wind (terawatt-hours)\"]],\n",
    ")\n",
    "if p < 0.05:\n",
    "    print(\"There is a significant difference. Reject the null hypothesis\")\n",
    "else:\n",
    "    print(\"There is no significant difference. Cannot reject the null hypothesis\")\n",
    "print(p)"
   ]
  },
  {
   "cell_type": "code",
   "execution_count": null,
   "metadata": {},
   "outputs": [],
   "source": []
  },
  {
   "cell_type": "code",
   "execution_count": 57,
   "metadata": {},
   "outputs": [
    {
     "data": {
      "text/plain": [
       "<matplotlib.legend.Legend at 0x1fd1828f548>"
      ]
     },
     "execution_count": 57,
     "metadata": {},
     "output_type": "execute_result"
    },
    {
     "data": {
      "image/png": "[encoded data removed]",
      "text/plain": [
       "<Figure size 432x288 with 1 Axes>"
      ]
     },
     "metadata": {
      "needs_background": "light"
     },
     "output_type": "display_data"
    },
    {
     "data": {
      "application/javascript": [
       "\n",
       "            setTimeout(function() {\n",
       "                var nbb_cell_id = 57;\n",
       "                var nbb_unformatted_code = \"plt.plot(us[\\\"Year\\\"], us[\\\"Wind (terawatt-hours)\\\"], \\\"-b\\\", label=\\\"US\\\")\\nplt.plot(china[\\\"Year\\\"], china[\\\"Wind (terawatt-hours)\\\"], \\\"-r\\\", label=\\\"China\\\")\\nplt.plot(india[\\\"Year\\\"], india[\\\"Wind (terawatt-hours)\\\"], \\\"-g\\\", label=\\\" India\\\")\\nplt.title(\\\"Wind Production\\\")\\nplt.legend(loc=\\\"upper left\\\")\";\n",
       "                var nbb_formatted_code = \"plt.plot(us[\\\"Year\\\"], us[\\\"Wind (terawatt-hours)\\\"], \\\"-b\\\", label=\\\"US\\\")\\nplt.plot(china[\\\"Year\\\"], china[\\\"Wind (terawatt-hours)\\\"], \\\"-r\\\", label=\\\"China\\\")\\nplt.plot(india[\\\"Year\\\"], india[\\\"Wind (terawatt-hours)\\\"], \\\"-g\\\", label=\\\" India\\\")\\nplt.title(\\\"Wind Production\\\")\\nplt.legend(loc=\\\"upper left\\\")\";\n",
       "                var nbb_cells = Jupyter.notebook.get_cells();\n",
       "                for (var i = 0; i < nbb_cells.length; ++i) {\n",
       "                    if (nbb_cells[i].input_prompt_number == nbb_cell_id) {\n",
       "                        if (nbb_cells[i].get_text() == nbb_unformatted_code) {\n",
       "                             nbb_cells[i].set_text(nbb_formatted_code);\n",
       "                        }\n",
       "                        break;\n",
       "                    }\n",
       "                }\n",
       "            }, 500);\n",
       "            "
      ],
      "text/plain": [
       "<IPython.core.display.Javascript object>"
      ]
     },
     "metadata": {},
     "output_type": "display_data"
    }
   ],
   "source": [
    "plt.plot(us[\"Year\"], us[\"Wind (terawatt-hours)\"], \"-b\", label=\"US\")\n",
    "plt.plot(china[\"Year\"], china[\"Wind (terawatt-hours)\"], \"-r\", label=\"China\")\n",
    "plt.plot(india[\"Year\"], india[\"Wind (terawatt-hours)\"], \"-g\", label=\" India\")\n",
    "plt.title(\"Wind Production\")\n",
    "plt.legend(loc=\"upper left\")"
   ]
  }
 ],
 "metadata": {
  "kernelspec": {
   "display_name": "Python 3",
   "language": "python",
   "name": "python3"
  },
  "language_info": {
   "codemirror_mode": {
    "name": "ipython",
    "version": 3
   },
   "file_extension": ".py",
   "mimetype": "text/x-python",
   "name": "python",
   "nbconvert_exporter": "python",
   "pygments_lexer": "ipython3",
   "version": "3.7.6"
  }
 },
 "nbformat": 4,
 "nbformat_minor": 4
}
