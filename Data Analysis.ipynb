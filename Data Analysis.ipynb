{
 "cells": [
  {
   "cell_type": "code",
   "execution_count": 1,
   "metadata": {},
   "outputs": [
    {
     "name": "stdout",
     "output_type": "stream",
     "text": [
      "C:\\Users\\jlim7\\OneDrive\\Documents\\GitHub\\Capstone1_Rename_later\n",
      "['.git', '.gitignore', '.ipynb_checkpoints', '769175_1325857_bundle_archive.zip', 'Data Analysis.ipynb', 'Initial EDA.ipynb', 'modern-renewable-energy-consumption.csv', 'README.md', 'Research Proposal.ipynb']\n"
     ]
    },
    {
     "data": {
      "application/javascript": [
       "\n",
       "            setTimeout(function() {\n",
       "                var nbb_cell_id = 1;\n",
       "                var nbb_unformatted_code = \"%reload_ext nb_black\\n\\nimport pandas as pd\\nimport numpy as np\\nfrom scipy import stats\\nimport statsmodels.api as sm\\nfrom statsmodels.stats.multitest import multipletests\\nimport seaborn as sns\\nimport matplotlib.pyplot as plt\\nfrom statsmodels.graphics.gofplots import qqplot\\n\\n%matplotlib inline\\nimport os\\n\\nprint(os.getcwd())\\n\\nprint(os.listdir(os.getcwd()))\";\n",
       "                var nbb_formatted_code = \"%reload_ext nb_black\\n\\nimport pandas as pd\\nimport numpy as np\\nfrom scipy import stats\\nimport statsmodels.api as sm\\nfrom statsmodels.stats.multitest import multipletests\\nimport seaborn as sns\\nimport matplotlib.pyplot as plt\\nfrom statsmodels.graphics.gofplots import qqplot\\n\\n%matplotlib inline\\nimport os\\n\\nprint(os.getcwd())\\n\\nprint(os.listdir(os.getcwd()))\";\n",
       "                var nbb_cells = Jupyter.notebook.get_cells();\n",
       "                for (var i = 0; i < nbb_cells.length; ++i) {\n",
       "                    if (nbb_cells[i].input_prompt_number == nbb_cell_id) {\n",
       "                        if (nbb_cells[i].get_text() == nbb_unformatted_code) {\n",
       "                             nbb_cells[i].set_text(nbb_formatted_code);\n",
       "                        }\n",
       "                        break;\n",
       "                    }\n",
       "                }\n",
       "            }, 500);\n",
       "            "
      ],
      "text/plain": [
       "<IPython.core.display.Javascript object>"
      ]
     },
     "metadata": {},
     "output_type": "display_data"
    }
   ],
   "source": [
    "%reload_ext nb_black\n",
    "\n",
    "import pandas as pd\n",
    "import numpy as np\n",
    "from scipy import stats\n",
    "import statsmodels.api as sm\n",
    "from statsmodels.stats.multitest import multipletests\n",
    "import seaborn as sns\n",
    "import matplotlib.pyplot as plt\n",
    "from statsmodels.graphics.gofplots import qqplot\n",
    "\n",
    "%matplotlib inline\n",
    "import os\n",
    "\n",
    "print(os.getcwd())\n",
    "\n",
    "print(os.listdir(os.getcwd()))"
   ]
  },
  {
   "cell_type": "code",
   "execution_count": 2,
   "metadata": {},
   "outputs": [
    {
     "data": {
      "application/javascript": [
       "\n",
       "            setTimeout(function() {\n",
       "                var nbb_cell_id = 2;\n",
       "                var nbb_unformatted_code = \"energy = pd.read_csv(\\\"modern-renewable-energy-consumption.csv\\\")\";\n",
       "                var nbb_formatted_code = \"energy = pd.read_csv(\\\"modern-renewable-energy-consumption.csv\\\")\";\n",
       "                var nbb_cells = Jupyter.notebook.get_cells();\n",
       "                for (var i = 0; i < nbb_cells.length; ++i) {\n",
       "                    if (nbb_cells[i].input_prompt_number == nbb_cell_id) {\n",
       "                        if (nbb_cells[i].get_text() == nbb_unformatted_code) {\n",
       "                             nbb_cells[i].set_text(nbb_formatted_code);\n",
       "                        }\n",
       "                        break;\n",
       "                    }\n",
       "                }\n",
       "            }, 500);\n",
       "            "
      ],
      "text/plain": [
       "<IPython.core.display.Javascript object>"
      ]
     },
     "metadata": {},
     "output_type": "display_data"
    }
   ],
   "source": [
    "energy = pd.read_csv(\"modern-renewable-energy-consumption.csv\")"
   ]
  },
  {
   "cell_type": "code",
   "execution_count": 16,
   "metadata": {},
   "outputs": [
    {
     "data": {
      "application/javascript": [
       "\n",
       "            setTimeout(function() {\n",
       "                var nbb_cell_id = 16;\n",
       "                var nbb_unformatted_code = \"us = energy[energy[\\\"Entity\\\"] == \\\"United States\\\"]\\nchina = energy[energy[\\\"Entity\\\"] == \\\"China\\\"]\\nindia = energy[energy[\\\"Entity\\\"] == \\\"India\\\"]\";\n",
       "                var nbb_formatted_code = \"us = energy[energy[\\\"Entity\\\"] == \\\"United States\\\"]\\nchina = energy[energy[\\\"Entity\\\"] == \\\"China\\\"]\\nindia = energy[energy[\\\"Entity\\\"] == \\\"India\\\"]\";\n",
       "                var nbb_cells = Jupyter.notebook.get_cells();\n",
       "                for (var i = 0; i < nbb_cells.length; ++i) {\n",
       "                    if (nbb_cells[i].input_prompt_number == nbb_cell_id) {\n",
       "                        if (nbb_cells[i].get_text() == nbb_unformatted_code) {\n",
       "                             nbb_cells[i].set_text(nbb_formatted_code);\n",
       "                        }\n",
       "                        break;\n",
       "                    }\n",
       "                }\n",
       "            }, 500);\n",
       "            "
      ],
      "text/plain": [
       "<IPython.core.display.Javascript object>"
      ]
     },
     "metadata": {},
     "output_type": "display_data"
    }
   ],
   "source": [
    "us = energy[energy[\"Entity\"] == \"United States\"]\n",
    "china = energy[energy[\"Entity\"] == \"China\"]\n",
    "india = energy[energy[\"Entity\"] == \"India\"]"
   ]
  },
  {
   "cell_type": "code",
   "execution_count": 24,
   "metadata": {
    "scrolled": true
   },
   "outputs": [
    {
     "data": {
      "image/png": "[encoded data removed]",
      "text/plain": [
       "<Figure size 432x288 with 1 Axes>"
      ]
     },
     "metadata": {
      "needs_background": "light"
     },
     "output_type": "display_data"
    },
    {
     "name": "stdout",
     "output_type": "stream",
     "text": [
      "DescribeResult(nobs=54, minmax=(0.0, 97.1181818181818), mean=6.418881630705138, variance=361.5744448211558, skewness=3.517263877065951, kurtosis=11.896304854245331)\n",
      "DescribeResult(nobs=54, minmax=(0.0, 177.5), mean=8.155121352648148, variance=908.2587526342356, skewness=4.418925359265665, kurtosis=19.767091841491474)\n",
      "DescribeResult(nobs=54, minmax=(0.0, 30.732403179000002), mean=1.5198382238535355, variance=28.31339464691459, skewness=4.292845795015623, kurtosis=18.570513829939806)\n"
     ]
    },
    {
     "data": {
      "application/javascript": [
       "\n",
       "            setTimeout(function() {\n",
       "                var nbb_cell_id = 24;\n",
       "                var nbb_unformatted_code = \"# With a skewness and kurtosis of > 3, we can tell the data is not normal\\nplt.hist(us[\\\"Solar (terawatt-hours)\\\"], alpha=0.5)\\nplt.hist(china[\\\"Solar (terawatt-hours)\\\"], alpha=0.5)\\nplt.hist(india[\\\"Solar (terawatt-hours)\\\"], alpha=0.5)\\nplt.show()\\nprint(stats.describe(us[\\\"Solar (terawatt-hours)\\\"]))\\nprint(stats.describe(china[\\\"Solar (terawatt-hours)\\\"]))\\nprint(stats.describe(india[\\\"Solar (terawatt-hours)\\\"]))\";\n",
       "                var nbb_formatted_code = \"# With a skewness and kurtosis of > 3, we can tell the data is not normal\\nplt.hist(us[\\\"Solar (terawatt-hours)\\\"], alpha=0.5)\\nplt.hist(china[\\\"Solar (terawatt-hours)\\\"], alpha=0.5)\\nplt.hist(india[\\\"Solar (terawatt-hours)\\\"], alpha=0.5)\\nplt.show()\\nprint(stats.describe(us[\\\"Solar (terawatt-hours)\\\"]))\\nprint(stats.describe(china[\\\"Solar (terawatt-hours)\\\"]))\\nprint(stats.describe(india[\\\"Solar (terawatt-hours)\\\"]))\";\n",
       "                var nbb_cells = Jupyter.notebook.get_cells();\n",
       "                for (var i = 0; i < nbb_cells.length; ++i) {\n",
       "                    if (nbb_cells[i].input_prompt_number == nbb_cell_id) {\n",
       "                        if (nbb_cells[i].get_text() == nbb_unformatted_code) {\n",
       "                             nbb_cells[i].set_text(nbb_formatted_code);\n",
       "                        }\n",
       "                        break;\n",
       "                    }\n",
       "                }\n",
       "            }, 500);\n",
       "            "
      ],
      "text/plain": [
       "<IPython.core.display.Javascript object>"
      ]
     },
     "metadata": {},
     "output_type": "display_data"
    }
   ],
   "source": [
    "# With a skewness and kurtosis of > 3, we can tell the data is not normal\n",
    "plt.hist(us[\"Solar (terawatt-hours)\"], alpha=0.5)\n",
    "plt.hist(china[\"Solar (terawatt-hours)\"], alpha=0.5)\n",
    "plt.hist(india[\"Solar (terawatt-hours)\"], alpha=0.5)\n",
    "plt.show()\n",
    "print(stats.describe(us[\"Solar (terawatt-hours)\"]))\n",
    "print(stats.describe(china[\"Solar (terawatt-hours)\"]))\n",
    "print(stats.describe(india[\"Solar (terawatt-hours)\"]))"
   ]
  },
  {
   "cell_type": "code",
   "execution_count": 26,
   "metadata": {},
   "outputs": [
    {
     "name": "stdout",
     "output_type": "stream",
     "text": [
      "DescribeResult(nobs=54, minmax=(0.0, 277.729106060603), mean=36.338228787878386, variance=5275.500039845446, skewness=2.075558098704107, kurtosis=3.0633358251444864)\n",
      "DescribeResult(nobs=54, minmax=(0.0, 366.0), mean=30.569947063224838, variance=6087.941857488773, skewness=2.8571847007209397, kurtosis=7.581960344575439)\n",
      "DescribeResult(nobs=54, minmax=(0.0, 60.31116), mean=7.408920611672278, variance=205.82878096986, skewness=2.1550043635377016, kurtosis=3.897299222618037)\n"
     ]
    },
    {
     "data": {
      "image/png": "[encoded data removed]",
      "text/plain": [
       "<Figure size 432x288 with 1 Axes>"
      ]
     },
     "metadata": {
      "needs_background": "light"
     },
     "output_type": "display_data"
    },
    {
     "data": {
      "application/javascript": [
       "\n",
       "            setTimeout(function() {\n",
       "                var nbb_cell_id = 26;\n",
       "                var nbb_unformatted_code = \"plt.hist(us[\\\"Wind (terawatt-hours)\\\"], alpha = 0.5)\\nplt.hist(china[\\\"Wind (terawatt-hours)\\\"], alpha = 0.5)\\nplt.hist(india[\\\"Wind (terawatt-hours)\\\"], alpha = 0.5)\\nprint(stats.describe(us[\\\"Wind (terawatt-hours)\\\"]))\\nprint(stats.describe(china[\\\"Wind (terawatt-hours)\\\"]))\\nprint(stats.describe(india[\\\"Wind (terawatt-hours)\\\"]))\";\n",
       "                var nbb_formatted_code = \"plt.hist(us[\\\"Wind (terawatt-hours)\\\"], alpha=0.5)\\nplt.hist(china[\\\"Wind (terawatt-hours)\\\"], alpha=0.5)\\nplt.hist(india[\\\"Wind (terawatt-hours)\\\"], alpha=0.5)\\nprint(stats.describe(us[\\\"Wind (terawatt-hours)\\\"]))\\nprint(stats.describe(china[\\\"Wind (terawatt-hours)\\\"]))\\nprint(stats.describe(india[\\\"Wind (terawatt-hours)\\\"]))\";\n",
       "                var nbb_cells = Jupyter.notebook.get_cells();\n",
       "                for (var i = 0; i < nbb_cells.length; ++i) {\n",
       "                    if (nbb_cells[i].input_prompt_number == nbb_cell_id) {\n",
       "                        if (nbb_cells[i].get_text() == nbb_unformatted_code) {\n",
       "                             nbb_cells[i].set_text(nbb_formatted_code);\n",
       "                        }\n",
       "                        break;\n",
       "                    }\n",
       "                }\n",
       "            }, 500);\n",
       "            "
      ],
      "text/plain": [
       "<IPython.core.display.Javascript object>"
      ]
     },
     "metadata": {},
     "output_type": "display_data"
    }
   ],
   "source": [
    "plt.hist(us[\"Wind (terawatt-hours)\"], alpha=0.5)\n",
    "plt.hist(china[\"Wind (terawatt-hours)\"], alpha=0.5)\n",
    "plt.hist(india[\"Wind (terawatt-hours)\"], alpha=0.5)\n",
    "print(stats.describe(us[\"Wind (terawatt-hours)\"]))\n",
    "print(stats.describe(china[\"Wind (terawatt-hours)\"]))\n",
    "print(stats.describe(india[\"Wind (terawatt-hours)\"]))"
   ]
  },
  {
   "cell_type": "code",
   "execution_count": null,
   "metadata": {},
   "outputs": [],
   "source": []
  }
 ],
 "metadata": {
  "kernelspec": {
   "display_name": "Python 3",
   "language": "python",
   "name": "python3"
  },
  "language_info": {
   "codemirror_mode": {
    "name": "ipython",
    "version": 3
   },
   "file_extension": ".py",
   "mimetype": "text/x-python",
   "name": "python",
   "nbconvert_exporter": "python",
   "pygments_lexer": "ipython3",
   "version": "3.7.6"
  }
 },
 "nbformat": 4,
 "nbformat_minor": 4
}
