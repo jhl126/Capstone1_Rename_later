{
 "cells": [
  {
   "cell_type": "markdown",
   "metadata": {},
   "source": [
    "3) Audience\n",
    "\n",
    "    1) Proposal clearly outlines the user or stakeholder who this research will be valuable for.\n",
    "    2) Proposal identifies why the audience will benefit from the research's findings."
   ]
  },
  {
   "cell_type": "markdown",
   "metadata": {},
   "source": [
    "1) Data\n",
    "\n",
    "    1) Student has clearly described what the dataset is and why it's interesting.\n",
    "    2) Student has provided a link to the dataset."
   ]
  },
  {
   "cell_type": "markdown",
   "metadata": {},
   "source": [
    "The data set that I have chosen illustrates the production of renewable energy sources. The energy sources include hydropower, solar, wind, geothermal and modern biofuel. The 'Other renewables' column in the data set represents geothermal and modern biofuel production. The data set contains renewable energy production for 99 different countries and includes years from 1965 to 2018."
   ]
  },
  {
   "cell_type": "markdown",
   "metadata": {},
   "source": [
    "The link to the data set is: https://www.kaggle.com/khadeejahalghadeer/renewable-energy-generation-world-1965-to-2018\n",
    "The data used in the data set is from: http://www.bp.com/statisticalreview"
   ]
  },
  {
   "cell_type": "markdown",
   "metadata": {},
   "source": [
    "2) Research design\n",
    "\n",
    "    1) Proposal has a clear research or business question.\n",
    "    2) Student identifies at least one hypothesis that they plan to test.\n",
    "    3) Student states how they will test the hypothesis using their data source."
   ]
  },
  {
   "cell_type": "code",
   "execution_count": null,
   "metadata": {},
   "outputs": [],
   "source": []
  }
 ],
 "metadata": {
  "kernelspec": {
   "display_name": "Python 3",
   "language": "python",
   "name": "python3"
  },
  "language_info": {
   "codemirror_mode": {
    "name": "ipython",
    "version": 3
   },
   "file_extension": ".py",
   "mimetype": "text/x-python",
   "name": "python",
   "nbconvert_exporter": "python",
   "pygments_lexer": "ipython3",
   "version": "3.7.6"
  }
 },
 "nbformat": 4,
 "nbformat_minor": 4
}
