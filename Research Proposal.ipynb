{
 "cells": [
  {
   "cell_type": "markdown",
   "metadata": {},
   "source": [
    "1) Data\n",
    "\n",
    "    1) Student has clearly described what the dataset is and why it's interesting.\n",
    "    2) Student has provided a link to the dataset."
   ]
  },
  {
   "cell_type": "markdown",
   "metadata": {},
   "source": [
    "The data set that I have chosen illustrates the production of renewable energy sources. The energy sources include hydropower, solar, wind, geothermal and modern biofuel. The 'Other renewables' column in the data set represents geothermal and modern biofuel production. The data set contains renewable energy production for 99 different countries and includes years from 1965 to 2018."
   ]
  },
  {
   "cell_type": "markdown",
   "metadata": {},
   "source": [
    "The link to the data set is: https://www.kaggle.com/khadeejahalghadeer/renewable-energy-generation-world-1965-to-2018\n",
    "The data used in the data set is from: http://www.bp.com/statisticalreview"
   ]
  },
  {
   "cell_type": "markdown",
   "metadata": {},
   "source": [
    "2) Research design\n",
    "\n",
    "    1) Proposal has a clear research or business question.\n",
    "    2) Student identifies at least one hypothesis that they plan to test.\n",
    "    3) Student states how they will test the hypothesis using their data source."
   ]
  },
  {
   "cell_type": "markdown",
   "metadata": {},
   "source": [
    "Renewable energy sources have proven to be a great alternative to fossil fuels. Additionally, the US, China, and India are considered to be some of the world's top energy consumers. Using the data set above, I would like to determine if there is a significant difference between the production of solar and wind energy in the US versus the production of solar and wind energy in China and India.\n",
    "\n",
    "Hypothesis\n",
    "\n",
    "Ho: There is no significant difference between the production of solar and wind energy in the United States when compared to the production of solar and wind energy in China and India.\n",
    "\n",
    "Ha: There is a significant difference between the production of solar and wind energy in the United States compared to the production of solar and wind energy in China and India."
   ]
  },
  {
   "cell_type": "markdown",
   "metadata": {},
   "source": [
    "I plan on testing this hypothesis by splitting up the data frames and grouping it by Countries. From there I will compare the solar and wind energy production between the US, China, and India from the years 1965-2018. Depending on if the data is normalized or not, I will be using ANOVA tests or Kruskal Wallice tests. "
   ]
  },
  {
   "cell_type": "markdown",
   "metadata": {},
   "source": [
    "3) Audience\n",
    "\n",
    "    1) Proposal clearly outlines the user or stakeholder who this research will be valuable for.\n",
    "    2) Proposal identifies why the audience will benefit from the research's findings."
   ]
  },
  {
   "cell_type": "markdown",
   "metadata": {},
   "source": [
    "Scientists who are looking to compare how energy consumption and energy production is related will benefit from this research question. The results will also help scientists visualize how production of renewable energies has changed throughout the years in major energy consuming countries. Additionally, the results to this research will be beneficial to people looking to invest in solar or wind energy, as the data will show trends on how production has increased or decreased throughout the years."
   ]
  }
 ],
 "metadata": {
  "kernelspec": {
   "display_name": "Python 3",
   "language": "python",
   "name": "python3"
  },
  "language_info": {
   "codemirror_mode": {
    "name": "ipython",
    "version": 3
   },
   "file_extension": ".py",
   "mimetype": "text/x-python",
   "name": "python",
   "nbconvert_exporter": "python",
   "pygments_lexer": "ipython3",
   "version": "3.7.6"
  }
 },
 "nbformat": 4,
 "nbformat_minor": 4
}
