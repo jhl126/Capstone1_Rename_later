{
 "cells": [
  {
   "cell_type": "code",
   "execution_count": 1,
   "metadata": {},
   "outputs": [
    {
     "name": "stdout",
     "output_type": "stream",
     "text": [
      "C:\\Users\\jlim7\\OneDrive\\Documents\\GitHub\\Capstone1_Rename_later\n",
      "['.git', '.gitignore', '.ipynb_checkpoints', '769175_1325857_bundle_archive.zip', 'Data Analysis.ipynb', 'Initial EDA.ipynb', 'modern-renewable-energy-consumption.csv', 'README.md', 'Research Proposal.ipynb']\n"
     ]
    },
    {
     "data": {
      "application/javascript": [
       "\n",
       "            setTimeout(function() {\n",
       "                var nbb_cell_id = 1;\n",
       "                var nbb_unformatted_code = \"%reload_ext nb_black\\n\\nimport pandas as pd\\nimport numpy as np\\nfrom scipy import stats\\nimport statsmodels.api as sm\\nfrom statsmodels.stats.multitest import multipletests\\nimport seaborn as sns\\nimport matplotlib.pyplot as plt\\nfrom statsmodels.graphics.gofplots import qqplot\\n\\n%matplotlib inline\\nimport os\\n\\nprint(os.getcwd())\\n\\nprint(os.listdir(os.getcwd()))\";\n",
       "                var nbb_formatted_code = \"%reload_ext nb_black\\n\\nimport pandas as pd\\nimport numpy as np\\nfrom scipy import stats\\nimport statsmodels.api as sm\\nfrom statsmodels.stats.multitest import multipletests\\nimport seaborn as sns\\nimport matplotlib.pyplot as plt\\nfrom statsmodels.graphics.gofplots import qqplot\\n\\n%matplotlib inline\\nimport os\\n\\nprint(os.getcwd())\\n\\nprint(os.listdir(os.getcwd()))\";\n",
       "                var nbb_cells = Jupyter.notebook.get_cells();\n",
       "                for (var i = 0; i < nbb_cells.length; ++i) {\n",
       "                    if (nbb_cells[i].input_prompt_number == nbb_cell_id) {\n",
       "                        if (nbb_cells[i].get_text() == nbb_unformatted_code) {\n",
       "                             nbb_cells[i].set_text(nbb_formatted_code);\n",
       "                        }\n",
       "                        break;\n",
       "                    }\n",
       "                }\n",
       "            }, 500);\n",
       "            "
      ],
      "text/plain": [
       "<IPython.core.display.Javascript object>"
      ]
     },
     "metadata": {},
     "output_type": "display_data"
    }
   ],
   "source": [
    "%reload_ext nb_black\n",
    "\n",
    "import pandas as pd\n",
    "import numpy as np\n",
    "from scipy import stats\n",
    "import statsmodels.api as sm\n",
    "from statsmodels.stats.multitest import multipletests\n",
    "import seaborn as sns\n",
    "import matplotlib.pyplot as plt\n",
    "from statsmodels.graphics.gofplots import qqplot\n",
    "\n",
    "%matplotlib inline\n",
    "import os\n",
    "\n",
    "print(os.getcwd())\n",
    "\n",
    "print(os.listdir(os.getcwd()))"
   ]
  },
  {
   "cell_type": "code",
   "execution_count": 60,
   "metadata": {},
   "outputs": [
    {
     "data": {
      "text/html": [
       "<div>\n",
       "<style scoped>\n",
       "    .dataframe tbody tr th:only-of-type {\n",
       "        vertical-align: middle;\n",
       "    }\n",
       "\n",
       "    .dataframe tbody tr th {\n",
       "        vertical-align: top;\n",
       "    }\n",
       "\n",
       "    .dataframe thead th {\n",
       "        text-align: right;\n",
       "    }\n",
       "</style>\n",
       "<table border=\"1\" class=\"dataframe\">\n",
       "  <thead>\n",
       "    <tr style=\"text-align: right;\">\n",
       "      <th></th>\n",
       "      <th>Entity</th>\n",
       "      <th>Code</th>\n",
       "      <th>Year</th>\n",
       "      <th>Hydropower (terawatt-hours)</th>\n",
       "      <th>Solar (terawatt-hours)</th>\n",
       "      <th>Wind (terawatt-hours)</th>\n",
       "      <th>Other renewables (terawatt-hours)</th>\n",
       "    </tr>\n",
       "  </thead>\n",
       "  <tbody>\n",
       "    <tr>\n",
       "      <th>0</th>\n",
       "      <td>Africa</td>\n",
       "      <td>NaN</td>\n",
       "      <td>1965</td>\n",
       "      <td>14.278806</td>\n",
       "      <td>0.0</td>\n",
       "      <td>0.0</td>\n",
       "      <td>0.0</td>\n",
       "    </tr>\n",
       "    <tr>\n",
       "      <th>1</th>\n",
       "      <td>Africa</td>\n",
       "      <td>NaN</td>\n",
       "      <td>1966</td>\n",
       "      <td>15.649049</td>\n",
       "      <td>0.0</td>\n",
       "      <td>0.0</td>\n",
       "      <td>0.0</td>\n",
       "    </tr>\n",
       "    <tr>\n",
       "      <th>2</th>\n",
       "      <td>Africa</td>\n",
       "      <td>NaN</td>\n",
       "      <td>1967</td>\n",
       "      <td>16.158333</td>\n",
       "      <td>0.0</td>\n",
       "      <td>0.0</td>\n",
       "      <td>0.0</td>\n",
       "    </tr>\n",
       "    <tr>\n",
       "      <th>3</th>\n",
       "      <td>Africa</td>\n",
       "      <td>NaN</td>\n",
       "      <td>1968</td>\n",
       "      <td>18.622983</td>\n",
       "      <td>0.0</td>\n",
       "      <td>0.0</td>\n",
       "      <td>0.0</td>\n",
       "    </tr>\n",
       "    <tr>\n",
       "      <th>4</th>\n",
       "      <td>Africa</td>\n",
       "      <td>NaN</td>\n",
       "      <td>1969</td>\n",
       "      <td>21.582897</td>\n",
       "      <td>0.0</td>\n",
       "      <td>0.0</td>\n",
       "      <td>0.0</td>\n",
       "    </tr>\n",
       "  </tbody>\n",
       "</table>\n",
       "</div>"
      ],
      "text/plain": [
       "   Entity Code  Year  Hydropower (terawatt-hours)  Solar (terawatt-hours)  \\\n",
       "0  Africa  NaN  1965                    14.278806                     0.0   \n",
       "1  Africa  NaN  1966                    15.649049                     0.0   \n",
       "2  Africa  NaN  1967                    16.158333                     0.0   \n",
       "3  Africa  NaN  1968                    18.622983                     0.0   \n",
       "4  Africa  NaN  1969                    21.582897                     0.0   \n",
       "\n",
       "   Wind (terawatt-hours)  Other renewables (terawatt-hours)  \n",
       "0                    0.0                                0.0  \n",
       "1                    0.0                                0.0  \n",
       "2                    0.0                                0.0  \n",
       "3                    0.0                                0.0  \n",
       "4                    0.0                                0.0  "
      ]
     },
     "execution_count": 60,
     "metadata": {},
     "output_type": "execute_result"
    },
    {
     "data": {
      "application/javascript": [
       "\n",
       "            setTimeout(function() {\n",
       "                var nbb_cell_id = 60;\n",
       "                var nbb_unformatted_code = \"energy = pd.read_csv(\\\"modern-renewable-energy-consumption.csv\\\")\\nenergy.head()\";\n",
       "                var nbb_formatted_code = \"energy = pd.read_csv(\\\"modern-renewable-energy-consumption.csv\\\")\\nenergy.head()\";\n",
       "                var nbb_cells = Jupyter.notebook.get_cells();\n",
       "                for (var i = 0; i < nbb_cells.length; ++i) {\n",
       "                    if (nbb_cells[i].input_prompt_number == nbb_cell_id) {\n",
       "                        if (nbb_cells[i].get_text() == nbb_unformatted_code) {\n",
       "                             nbb_cells[i].set_text(nbb_formatted_code);\n",
       "                        }\n",
       "                        break;\n",
       "                    }\n",
       "                }\n",
       "            }, 500);\n",
       "            "
      ],
      "text/plain": [
       "<IPython.core.display.Javascript object>"
      ]
     },
     "metadata": {},
     "output_type": "display_data"
    }
   ],
   "source": [
    "energy = pd.read_csv(\"modern-renewable-energy-consumption.csv\")\n",
    "energy.head()"
   ]
  },
  {
   "cell_type": "markdown",
   "metadata": {},
   "source": [
    "From the website: https://www.statista.com/statistics/263455/primary-energy-consumption-of-selected-countries/\n",
    "We see that the top three energy consuming countries in 2019 (most to least) are China, the United States, and India."
   ]
  },
  {
   "cell_type": "code",
   "execution_count": 52,
   "metadata": {},
   "outputs": [
    {
     "data": {
      "text/html": [
       "<div>\n",
       "<style scoped>\n",
       "    .dataframe tbody tr th:only-of-type {\n",
       "        vertical-align: middle;\n",
       "    }\n",
       "\n",
       "    .dataframe tbody tr th {\n",
       "        vertical-align: top;\n",
       "    }\n",
       "\n",
       "    .dataframe thead th {\n",
       "        text-align: right;\n",
       "    }\n",
       "</style>\n",
       "<table border=\"1\" class=\"dataframe\">\n",
       "  <thead>\n",
       "    <tr style=\"text-align: right;\">\n",
       "      <th></th>\n",
       "      <th>Entity</th>\n",
       "      <th>Code</th>\n",
       "      <th>Year</th>\n",
       "      <th>Hydropower (terawatt-hours)</th>\n",
       "      <th>Solar (terawatt-hours)</th>\n",
       "      <th>Wind (terawatt-hours)</th>\n",
       "      <th>Other renewables (terawatt-hours)</th>\n",
       "    </tr>\n",
       "  </thead>\n",
       "  <tbody>\n",
       "    <tr>\n",
       "      <th>824</th>\n",
       "      <td>China</td>\n",
       "      <td>CHN</td>\n",
       "      <td>1965</td>\n",
       "      <td>22.097000</td>\n",
       "      <td>0.0</td>\n",
       "      <td>0.0</td>\n",
       "      <td>0.0</td>\n",
       "    </tr>\n",
       "    <tr>\n",
       "      <th>825</th>\n",
       "      <td>China</td>\n",
       "      <td>CHN</td>\n",
       "      <td>1966</td>\n",
       "      <td>22.485907</td>\n",
       "      <td>0.0</td>\n",
       "      <td>0.0</td>\n",
       "      <td>0.0</td>\n",
       "    </tr>\n",
       "    <tr>\n",
       "      <th>826</th>\n",
       "      <td>China</td>\n",
       "      <td>CHN</td>\n",
       "      <td>1967</td>\n",
       "      <td>19.383488</td>\n",
       "      <td>0.0</td>\n",
       "      <td>0.0</td>\n",
       "      <td>0.0</td>\n",
       "    </tr>\n",
       "    <tr>\n",
       "      <th>827</th>\n",
       "      <td>China</td>\n",
       "      <td>CHN</td>\n",
       "      <td>1968</td>\n",
       "      <td>22.870395</td>\n",
       "      <td>0.0</td>\n",
       "      <td>0.0</td>\n",
       "      <td>0.0</td>\n",
       "    </tr>\n",
       "    <tr>\n",
       "      <th>828</th>\n",
       "      <td>China</td>\n",
       "      <td>CHN</td>\n",
       "      <td>1969</td>\n",
       "      <td>23.259302</td>\n",
       "      <td>0.0</td>\n",
       "      <td>0.0</td>\n",
       "      <td>0.0</td>\n",
       "    </tr>\n",
       "  </tbody>\n",
       "</table>\n",
       "</div>"
      ],
      "text/plain": [
       "    Entity Code  Year  Hydropower (terawatt-hours)  Solar (terawatt-hours)  \\\n",
       "824  China  CHN  1965                    22.097000                     0.0   \n",
       "825  China  CHN  1966                    22.485907                     0.0   \n",
       "826  China  CHN  1967                    19.383488                     0.0   \n",
       "827  China  CHN  1968                    22.870395                     0.0   \n",
       "828  China  CHN  1969                    23.259302                     0.0   \n",
       "\n",
       "     Wind (terawatt-hours)  Other renewables (terawatt-hours)  \n",
       "824                    0.0                                0.0  \n",
       "825                    0.0                                0.0  \n",
       "826                    0.0                                0.0  \n",
       "827                    0.0                                0.0  \n",
       "828                    0.0                                0.0  "
      ]
     },
     "execution_count": 52,
     "metadata": {},
     "output_type": "execute_result"
    },
    {
     "data": {
      "application/javascript": [
       "\n",
       "            setTimeout(function() {\n",
       "                var nbb_cell_id = 52;\n",
       "                var nbb_unformatted_code = \"# To clean up the data, I have filtered out the table to only include the top three energy consuming countries.\\ntop = [\\\"United States\\\", \\\"China\\\", \\\"India\\\"]\\ntop_energy = energy[energy[\\\"Entity\\\"].isin(top)]\\nus = energy[energy[\\\"Entity\\\"] == \\\"United States\\\"]\\nchina = energy[energy[\\\"Entity\\\"] == \\\"China\\\"]\\nindia = energy[energy[\\\"Entity\\\"] == \\\"India\\\"]\\ntop_energy.head()\";\n",
       "                var nbb_formatted_code = \"# To clean up the data, I have filtered out the table to only include the top three energy consuming countries.\\ntop = [\\\"United States\\\", \\\"China\\\", \\\"India\\\"]\\ntop_energy = energy[energy[\\\"Entity\\\"].isin(top)]\\nus = energy[energy[\\\"Entity\\\"] == \\\"United States\\\"]\\nchina = energy[energy[\\\"Entity\\\"] == \\\"China\\\"]\\nindia = energy[energy[\\\"Entity\\\"] == \\\"India\\\"]\\ntop_energy.head()\";\n",
       "                var nbb_cells = Jupyter.notebook.get_cells();\n",
       "                for (var i = 0; i < nbb_cells.length; ++i) {\n",
       "                    if (nbb_cells[i].input_prompt_number == nbb_cell_id) {\n",
       "                        if (nbb_cells[i].get_text() == nbb_unformatted_code) {\n",
       "                             nbb_cells[i].set_text(nbb_formatted_code);\n",
       "                        }\n",
       "                        break;\n",
       "                    }\n",
       "                }\n",
       "            }, 500);\n",
       "            "
      ],
      "text/plain": [
       "<IPython.core.display.Javascript object>"
      ]
     },
     "metadata": {},
     "output_type": "display_data"
    }
   ],
   "source": [
    "# To clean up the data, I have filtered out the table to only include the top three energy consuming countries.\n",
    "top = [\"United States\", \"China\", \"India\"]\n",
    "top_energy = energy[energy[\"Entity\"].isin(top)]\n",
    "us = energy[energy[\"Entity\"] == \"United States\"]\n",
    "china = energy[energy[\"Entity\"] == \"China\"]\n",
    "india = energy[energy[\"Entity\"] == \"India\"]\n",
    "top_energy.head()"
   ]
  },
  {
   "cell_type": "code",
   "execution_count": 40,
   "metadata": {},
   "outputs": [
    {
     "data": {
      "text/plain": [
       "array([[<matplotlib.axes._subplots.AxesSubplot object at 0x000001234C81B288>,\n",
       "        <matplotlib.axes._subplots.AxesSubplot object at 0x000001234C543688>],\n",
       "       [<matplotlib.axes._subplots.AxesSubplot object at 0x000001234C8E44C8>,\n",
       "        <matplotlib.axes._subplots.AxesSubplot object at 0x000001234C7F9748>]],\n",
       "      dtype=object)"
      ]
     },
     "execution_count": 40,
     "metadata": {},
     "output_type": "execute_result"
    },
    {
     "data": {
      "image/png": "[encoded data removed]",
      "text/plain": [
       "<Figure size 432x288 with 4 Axes>"
      ]
     },
     "metadata": {
      "needs_background": "light"
     },
     "output_type": "display_data"
    },
    {
     "data": {
      "application/javascript": [
       "\n",
       "            setTimeout(function() {\n",
       "                var nbb_cell_id = 40;\n",
       "                var nbb_unformatted_code = \"top_energy[\\\"Solar (terawatt-hours)\\\"].hist(by=top_energy[\\\"Entity\\\"])\";\n",
       "                var nbb_formatted_code = \"top_energy[\\\"Solar (terawatt-hours)\\\"].hist(by=top_energy[\\\"Entity\\\"])\";\n",
       "                var nbb_cells = Jupyter.notebook.get_cells();\n",
       "                for (var i = 0; i < nbb_cells.length; ++i) {\n",
       "                    if (nbb_cells[i].input_prompt_number == nbb_cell_id) {\n",
       "                        if (nbb_cells[i].get_text() == nbb_unformatted_code) {\n",
       "                             nbb_cells[i].set_text(nbb_formatted_code);\n",
       "                        }\n",
       "                        break;\n",
       "                    }\n",
       "                }\n",
       "            }, 500);\n",
       "            "
      ],
      "text/plain": [
       "<IPython.core.display.Javascript object>"
      ]
     },
     "metadata": {},
     "output_type": "display_data"
    }
   ],
   "source": [
    "#To check for normality between the three variables I have plotted histograms for each country and the solar energy produced.\n",
    "top_energy[\"Solar (terawatt-hours)\"].hist(by=top_energy[\"Entity\"])"
   ]
  },
  {
   "cell_type": "code",
   "execution_count": 70,
   "metadata": {
    "scrolled": false
   },
   "outputs": [
    {
     "data": {
      "image/png": "[encoded data removed]",
      "text/plain": [
       "<Figure size 432x288 with 1 Axes>"
      ]
     },
     "metadata": {
      "needs_background": "light"
     },
     "output_type": "display_data"
    },
    {
     "data": {
      "image/png": "[encoded data removed]",
      "text/plain": [
       "<Figure size 432x288 with 1 Axes>"
      ]
     },
     "metadata": {
      "needs_background": "light"
     },
     "output_type": "display_data"
    },
    {
     "data": {
      "image/png": "[encoded data removed]",
      "text/plain": [
       "<Figure size 432x288 with 1 Axes>"
      ]
     },
     "metadata": {
      "needs_background": "light"
     },
     "output_type": "display_data"
    },
    {
     "data": {
      "application/javascript": [
       "\n",
       "            setTimeout(function() {\n",
       "                var nbb_cell_id = 70;\n",
       "                var nbb_unformatted_code = \"qqplot(us[\\\"Solar (terawatt-hours)\\\"], line=\\\"s\\\")\\nqqplot(china[\\\"Solar (terawatt-hours)\\\"], line=\\\"s\\\")\\nqqplot(india[\\\"Solar (terawatt-hours)\\\"], line=\\\"s\\\")\\nplt.show()\";\n",
       "                var nbb_formatted_code = \"qqplot(us[\\\"Solar (terawatt-hours)\\\"], line=\\\"s\\\")\\nqqplot(china[\\\"Solar (terawatt-hours)\\\"], line=\\\"s\\\")\\nqqplot(india[\\\"Solar (terawatt-hours)\\\"], line=\\\"s\\\")\\nplt.show()\";\n",
       "                var nbb_cells = Jupyter.notebook.get_cells();\n",
       "                for (var i = 0; i < nbb_cells.length; ++i) {\n",
       "                    if (nbb_cells[i].input_prompt_number == nbb_cell_id) {\n",
       "                        if (nbb_cells[i].get_text() == nbb_unformatted_code) {\n",
       "                             nbb_cells[i].set_text(nbb_formatted_code);\n",
       "                        }\n",
       "                        break;\n",
       "                    }\n",
       "                }\n",
       "            }, 500);\n",
       "            "
      ],
      "text/plain": [
       "<IPython.core.display.Javascript object>"
      ]
     },
     "metadata": {},
     "output_type": "display_data"
    }
   ],
   "source": [
    "qqplot(us[\"Solar (terawatt-hours)\"], line=\"s\")\n",
    "qqplot(china[\"Solar (terawatt-hours)\"], line=\"s\")\n",
    "qqplot(india[\"Solar (terawatt-hours)\"], line=\"s\")\n",
    "plt.show()"
   ]
  },
  {
   "cell_type": "code",
   "execution_count": 42,
   "metadata": {},
   "outputs": [
    {
     "name": "stdout",
     "output_type": "stream",
     "text": [
      "There is a significant difference. Reject the null hypothesis\n",
      "0.006402094683951255\n"
     ]
    },
    {
     "data": {
      "application/javascript": [
       "\n",
       "            setTimeout(function() {\n",
       "                var nbb_cell_id = 42;\n",
       "                var nbb_unformatted_code = \"# From the histograms above I noticed the data is not normalized.\\n# Additionally, each of the countries are independent of eachother.\\n# Therefore, to check if there is a siginificant difference between the three I used a Kruskal Wallice test.\\nt, p = stats.kruskal(\\n    top_energy.loc[top_energy[\\\"Entity\\\"] == \\\"United States\\\", [\\\"Solar (terawatt-hours)\\\"]],\\n    top_energy.loc[top_energy[\\\"Entity\\\"] == \\\"China\\\", [\\\"Solar (terawatt-hours)\\\"]],\\n    top_energy.loc[top_energy[\\\"Entity\\\"] == \\\"India\\\", [\\\"Solar (terawatt-hours)\\\"]],\\n)\\nif p < 0.05:\\n    print(\\\"There is a significant difference. Reject the null hypothesis\\\")\\nelse:\\n    print(\\\"There is no significant difference. Cannot reject the null hypothesis\\\")\\nprint(p)\";\n",
       "                var nbb_formatted_code = \"# From the histograms above I noticed the data is not normalized.\\n# Additionally, each of the countries are independent of eachother.\\n# Therefore, to check if there is a siginificant difference between the three I used a Kruskal Wallice test.\\nt, p = stats.kruskal(\\n    top_energy.loc[top_energy[\\\"Entity\\\"] == \\\"United States\\\", [\\\"Solar (terawatt-hours)\\\"]],\\n    top_energy.loc[top_energy[\\\"Entity\\\"] == \\\"China\\\", [\\\"Solar (terawatt-hours)\\\"]],\\n    top_energy.loc[top_energy[\\\"Entity\\\"] == \\\"India\\\", [\\\"Solar (terawatt-hours)\\\"]],\\n)\\nif p < 0.05:\\n    print(\\\"There is a significant difference. Reject the null hypothesis\\\")\\nelse:\\n    print(\\\"There is no significant difference. Cannot reject the null hypothesis\\\")\\nprint(p)\";\n",
       "                var nbb_cells = Jupyter.notebook.get_cells();\n",
       "                for (var i = 0; i < nbb_cells.length; ++i) {\n",
       "                    if (nbb_cells[i].input_prompt_number == nbb_cell_id) {\n",
       "                        if (nbb_cells[i].get_text() == nbb_unformatted_code) {\n",
       "                             nbb_cells[i].set_text(nbb_formatted_code);\n",
       "                        }\n",
       "                        break;\n",
       "                    }\n",
       "                }\n",
       "            }, 500);\n",
       "            "
      ],
      "text/plain": [
       "<IPython.core.display.Javascript object>"
      ]
     },
     "metadata": {},
     "output_type": "display_data"
    }
   ],
   "source": [
    "# From the histograms and qqplots above I noticed the data is not normalized.\n",
    "# Additionally, each of the countries are independent of eachother.\n",
    "# Therefore, to check if there is a siginificant difference between the three I used a Kruskal Wallice test.\n",
    "t, p = stats.kruskal(\n",
    "    top_energy.loc[top_energy[\"Entity\"] == \"United States\", [\"Solar (terawatt-hours)\"]],\n",
    "    top_energy.loc[top_energy[\"Entity\"] == \"China\", [\"Solar (terawatt-hours)\"]],\n",
    "    top_energy.loc[top_energy[\"Entity\"] == \"India\", [\"Solar (terawatt-hours)\"]],\n",
    ")\n",
    "if p < 0.05:\n",
    "    print(\"There is a significant difference. Reject the null hypothesis\")\n",
    "else:\n",
    "    print(\"There is no significant difference. Cannot reject the null hypothesis\")\n",
    "print(p)"
   ]
  },
  {
   "cell_type": "code",
   "execution_count": 73,
   "metadata": {},
   "outputs": [
    {
     "name": "stdout",
     "output_type": "stream",
     "text": [
      "[0.012935468271930638, 0.001493744735485237, 0.1375139249718007]\n",
      "[ True  True False]\n"
     ]
    },
    {
     "data": {
      "application/javascript": [
       "\n",
       "            setTimeout(function() {\n",
       "                var nbb_cell_id = 73;\n",
       "                var nbb_unformatted_code = \"# Posthoc follow up tests with mannwhitneyu shows we are able to reject the null hypothesis and state there is a significant\\n# difference in the solar production between the U.S and China, and the U.S and India.\\n# However, we are not able to reject the null hypothesis for China and India. \\n_, p1 = stats.mannwhitneyu(\\n    us[\\\"Solar (terawatt-hours)\\\"], china[\\\"Solar (terawatt-hours)\\\"]\\n)\\n_, p2 = stats.mannwhitneyu(\\n    us[\\\"Solar (terawatt-hours)\\\"], india[\\\"Solar (terawatt-hours)\\\"]\\n)\\n_, p3 = stats.mannwhitneyu(\\n    china[\\\"Solar (terawatt-hours)\\\"], india[\\\"Solar (terawatt-hours)\\\"]\\n)\\n\\np_values = [p1, p2, p3]\\nreject, corr_p, sidak, bonf = multipletests(p_values, alpha=0.05)\\nprint(p_values)\\nprint(reject)\";\n",
       "                var nbb_formatted_code = \"# Posthoc follow up tests with mannwhitneyu shows we are able to reject the null hypothesis and state there is a significant\\n# difference in the solar production between the U.S and China, and the U.S and India.\\n# However, we are not able to reject the null hypothesis for China and India.\\n_, p1 = stats.mannwhitneyu(\\n    us[\\\"Solar (terawatt-hours)\\\"], china[\\\"Solar (terawatt-hours)\\\"]\\n)\\n_, p2 = stats.mannwhitneyu(\\n    us[\\\"Solar (terawatt-hours)\\\"], india[\\\"Solar (terawatt-hours)\\\"]\\n)\\n_, p3 = stats.mannwhitneyu(\\n    china[\\\"Solar (terawatt-hours)\\\"], india[\\\"Solar (terawatt-hours)\\\"]\\n)\\n\\np_values = [p1, p2, p3]\\nreject, corr_p, sidak, bonf = multipletests(p_values, alpha=0.05)\\nprint(p_values)\\nprint(reject)\";\n",
       "                var nbb_cells = Jupyter.notebook.get_cells();\n",
       "                for (var i = 0; i < nbb_cells.length; ++i) {\n",
       "                    if (nbb_cells[i].input_prompt_number == nbb_cell_id) {\n",
       "                        if (nbb_cells[i].get_text() == nbb_unformatted_code) {\n",
       "                             nbb_cells[i].set_text(nbb_formatted_code);\n",
       "                        }\n",
       "                        break;\n",
       "                    }\n",
       "                }\n",
       "            }, 500);\n",
       "            "
      ],
      "text/plain": [
       "<IPython.core.display.Javascript object>"
      ]
     },
     "metadata": {},
     "output_type": "display_data"
    }
   ],
   "source": [
    "# Posthoc follow up tests with mannwhitneyu shows we are able to reject the null hypothesis and state there is a significant\n",
    "# difference in the solar production between the U.S and China, and the U.S and India.\n",
    "# However, we are not able to reject the null hypothesis for China and India.\n",
    "_, p1 = stats.mannwhitneyu(\n",
    "    us[\"Solar (terawatt-hours)\"], china[\"Solar (terawatt-hours)\"]\n",
    ")\n",
    "_, p2 = stats.mannwhitneyu(\n",
    "    us[\"Solar (terawatt-hours)\"], india[\"Solar (terawatt-hours)\"]\n",
    ")\n",
    "_, p3 = stats.mannwhitneyu(\n",
    "    china[\"Solar (terawatt-hours)\"], india[\"Solar (terawatt-hours)\"]\n",
    ")\n",
    "\n",
    "p_values = [p1, p2, p3]\n",
    "reject, corr_p, sidak, bonf = multipletests(p_values, alpha=0.05)\n",
    "print(p_values)\n",
    "print(reject)"
   ]
  },
  {
   "cell_type": "code",
   "execution_count": 63,
   "metadata": {},
   "outputs": [
    {
     "data": {
      "application/javascript": [
       "\n",
       "            setTimeout(function() {\n",
       "                var nbb_cell_id = 63;\n",
       "                var nbb_unformatted_code = \"def cles_ind(x1, x2):\\n    \\\"\\\"\\\"Calc common language effect size\\n\\n    Interpret as the probability that a score sampled\\n    at random from one distribution will be greater than\\n    a score sampled from some other distribution.\\n\\n    Based on: http://psycnet.apa.org/doi/10.1037/0033-2909.111.2.361\\n\\n    :param x1: sample 1\\n    :param x2: sample 2\\n    :return: (float) common language effect size\\n    \\\"\\\"\\\"\\n    x1 = np.array(x1)\\n    x2 = np.array(x2)\\n\\n    diff = x1[:, None] - x2\\n    cles = max((diff < 0).sum(), (diff > 0).sum()) / diff.size\\n\\n    return cles\";\n",
       "                var nbb_formatted_code = \"def cles_ind(x1, x2):\\n    \\\"\\\"\\\"Calc common language effect size\\n\\n    Interpret as the probability that a score sampled\\n    at random from one distribution will be greater than\\n    a score sampled from some other distribution.\\n\\n    Based on: http://psycnet.apa.org/doi/10.1037/0033-2909.111.2.361\\n\\n    :param x1: sample 1\\n    :param x2: sample 2\\n    :return: (float) common language effect size\\n    \\\"\\\"\\\"\\n    x1 = np.array(x1)\\n    x2 = np.array(x2)\\n\\n    diff = x1[:, None] - x2\\n    cles = max((diff < 0).sum(), (diff > 0).sum()) / diff.size\\n\\n    return cles\";\n",
       "                var nbb_cells = Jupyter.notebook.get_cells();\n",
       "                for (var i = 0; i < nbb_cells.length; ++i) {\n",
       "                    if (nbb_cells[i].input_prompt_number == nbb_cell_id) {\n",
       "                        if (nbb_cells[i].get_text() == nbb_unformatted_code) {\n",
       "                             nbb_cells[i].set_text(nbb_formatted_code);\n",
       "                        }\n",
       "                        break;\n",
       "                    }\n",
       "                }\n",
       "            }, 500);\n",
       "            "
      ],
      "text/plain": [
       "<IPython.core.display.Javascript object>"
      ]
     },
     "metadata": {},
     "output_type": "display_data"
    }
   ],
   "source": [
    "# Function to determine common language effect size\n",
    "def cles_ind(x1, x2):\n",
    "    x1 = np.array(x1)\n",
    "    x2 = np.array(x2)\n",
    "\n",
    "    diff = x1[:, None] - x2\n",
    "    cles = max((diff < 0).sum(), (diff > 0).sum()) / diff.size\n",
    "\n",
    "    return cles"
   ]
  },
  {
   "cell_type": "code",
   "execution_count": 43,
   "metadata": {},
   "outputs": [
    {
     "data": {
      "application/javascript": [
       "\n",
       "            setTimeout(function() {\n",
       "                var nbb_cell_id = 43;\n",
       "                var nbb_unformatted_code = \"x1 = us[\\\"Solar (terawatt-hours)\\\"]\\nx2 = china[\\\"Solar (terawatt-hours)\\\"]\\nx3 = india[\\\"Solar (terawatt-hours)\\\"]\";\n",
       "                var nbb_formatted_code = \"x1 = us[\\\"Solar (terawatt-hours)\\\"]\\nx2 = china[\\\"Solar (terawatt-hours)\\\"]\\nx3 = india[\\\"Solar (terawatt-hours)\\\"]\";\n",
       "                var nbb_cells = Jupyter.notebook.get_cells();\n",
       "                for (var i = 0; i < nbb_cells.length; ++i) {\n",
       "                    if (nbb_cells[i].input_prompt_number == nbb_cell_id) {\n",
       "                        if (nbb_cells[i].get_text() == nbb_unformatted_code) {\n",
       "                             nbb_cells[i].set_text(nbb_formatted_code);\n",
       "                        }\n",
       "                        break;\n",
       "                    }\n",
       "                }\n",
       "            }, 500);\n",
       "            "
      ],
      "text/plain": [
       "<IPython.core.display.Javascript object>"
      ]
     },
     "metadata": {},
     "output_type": "display_data"
    }
   ],
   "source": [
    "# Next I created different variables to make calculating the confidence interval easier.\n",
    "x1 = us[\"Solar (terawatt-hours)\"]\n",
    "x2 = china[\"Solar (terawatt-hours)\"]\n",
    "x3 = india[\"Solar (terawatt-hours)\"]"
   ]
  },
  {
   "cell_type": "code",
   "execution_count": 64,
   "metadata": {},
   "outputs": [
    {
     "data": {
      "text/plain": [
       "0.5432098765432098"
      ]
     },
     "execution_count": 64,
     "metadata": {},
     "output_type": "execute_result"
    },
    {
     "data": {
      "application/javascript": [
       "\n",
       "            setTimeout(function() {\n",
       "                var nbb_cell_id = 64;\n",
       "                var nbb_unformatted_code = \"cles_ind(x1, x2)\";\n",
       "                var nbb_formatted_code = \"cles_ind(x1, x2)\";\n",
       "                var nbb_cells = Jupyter.notebook.get_cells();\n",
       "                for (var i = 0; i < nbb_cells.length; ++i) {\n",
       "                    if (nbb_cells[i].input_prompt_number == nbb_cell_id) {\n",
       "                        if (nbb_cells[i].get_text() == nbb_unformatted_code) {\n",
       "                             nbb_cells[i].set_text(nbb_formatted_code);\n",
       "                        }\n",
       "                        break;\n",
       "                    }\n",
       "                }\n",
       "            }, 500);\n",
       "            "
      ],
      "text/plain": [
       "<IPython.core.display.Javascript object>"
      ]
     },
     "metadata": {},
     "output_type": "display_data"
    }
   ],
   "source": [
    "#If a random value was picked from the U.S solar production and a random value was picked\n",
    "#from the China solar production, there is a 54.32% chance the U.S solar production is greater.\n",
    "cles_ind(x1, x2)"
   ]
  },
  {
   "cell_type": "code",
   "execution_count": 65,
   "metadata": {},
   "outputs": [
    {
     "data": {
      "text/plain": [
       "0.565843621399177"
      ]
     },
     "execution_count": 65,
     "metadata": {},
     "output_type": "execute_result"
    },
    {
     "data": {
      "application/javascript": [
       "\n",
       "            setTimeout(function() {\n",
       "                var nbb_cell_id = 65;\n",
       "                var nbb_unformatted_code = \"cles_ind(x1, x3)\";\n",
       "                var nbb_formatted_code = \"cles_ind(x1, x3)\";\n",
       "                var nbb_cells = Jupyter.notebook.get_cells();\n",
       "                for (var i = 0; i < nbb_cells.length; ++i) {\n",
       "                    if (nbb_cells[i].input_prompt_number == nbb_cell_id) {\n",
       "                        if (nbb_cells[i].get_text() == nbb_unformatted_code) {\n",
       "                             nbb_cells[i].set_text(nbb_formatted_code);\n",
       "                        }\n",
       "                        break;\n",
       "                    }\n",
       "                }\n",
       "            }, 500);\n",
       "            "
      ],
      "text/plain": [
       "<IPython.core.display.Javascript object>"
      ]
     },
     "metadata": {},
     "output_type": "display_data"
    }
   ],
   "source": [
    "#If a random value was picked from the U.S solar production and a random value was picked\n",
    "#from the India solar production, there is a 56.58% chance the U.S solar production is greater.\n",
    "cles_ind(x1, x3)"
   ]
  },
  {
   "cell_type": "code",
   "execution_count": 66,
   "metadata": {},
   "outputs": [
    {
     "data": {
      "text/plain": [
       "0.4283264746227709"
      ]
     },
     "execution_count": 66,
     "metadata": {},
     "output_type": "execute_result"
    },
    {
     "data": {
      "application/javascript": [
       "\n",
       "            setTimeout(function() {\n",
       "                var nbb_cell_id = 66;\n",
       "                var nbb_unformatted_code = \"cles_ind(x2, x3)\";\n",
       "                var nbb_formatted_code = \"cles_ind(x2, x3)\";\n",
       "                var nbb_cells = Jupyter.notebook.get_cells();\n",
       "                for (var i = 0; i < nbb_cells.length; ++i) {\n",
       "                    if (nbb_cells[i].input_prompt_number == nbb_cell_id) {\n",
       "                        if (nbb_cells[i].get_text() == nbb_unformatted_code) {\n",
       "                             nbb_cells[i].set_text(nbb_formatted_code);\n",
       "                        }\n",
       "                        break;\n",
       "                    }\n",
       "                }\n",
       "            }, 500);\n",
       "            "
      ],
      "text/plain": [
       "<IPython.core.display.Javascript object>"
      ]
     },
     "metadata": {},
     "output_type": "display_data"
    }
   ],
   "source": [
    "#If a random value was picked from the China solar production and a random value was picked\n",
    "#from the India solar production, there is a 42.83% chance the China solar production is greater.\n",
    "cles_ind(x2, x3)"
   ]
  },
  {
   "cell_type": "code",
   "execution_count": 48,
   "metadata": {},
   "outputs": [
    {
     "data": {
      "text/plain": [
       "array([[<matplotlib.axes._subplots.AxesSubplot object at 0x000001234CAE5848>,\n",
       "        <matplotlib.axes._subplots.AxesSubplot object at 0x000001234BF88D88>],\n",
       "       [<matplotlib.axes._subplots.AxesSubplot object at 0x000001234ABBAF08>,\n",
       "        <matplotlib.axes._subplots.AxesSubplot object at 0x000001234C5C8748>]],\n",
       "      dtype=object)"
      ]
     },
     "execution_count": 48,
     "metadata": {},
     "output_type": "execute_result"
    },
    {
     "data": {
      "image/png": "[encoded data removed]",
      "text/plain": [
       "<Figure size 432x288 with 4 Axes>"
      ]
     },
     "metadata": {
      "needs_background": "light"
     },
     "output_type": "display_data"
    },
    {
     "data": {
      "application/javascript": [
       "\n",
       "            setTimeout(function() {\n",
       "                var nbb_cell_id = 48;\n",
       "                var nbb_unformatted_code = \"top_energy[\\\"Wind (terawatt-hours)\\\"].hist(by=top_energy[\\\"Entity\\\"])\";\n",
       "                var nbb_formatted_code = \"top_energy[\\\"Wind (terawatt-hours)\\\"].hist(by=top_energy[\\\"Entity\\\"])\";\n",
       "                var nbb_cells = Jupyter.notebook.get_cells();\n",
       "                for (var i = 0; i < nbb_cells.length; ++i) {\n",
       "                    if (nbb_cells[i].input_prompt_number == nbb_cell_id) {\n",
       "                        if (nbb_cells[i].get_text() == nbb_unformatted_code) {\n",
       "                             nbb_cells[i].set_text(nbb_formatted_code);\n",
       "                        }\n",
       "                        break;\n",
       "                    }\n",
       "                }\n",
       "            }, 500);\n",
       "            "
      ],
      "text/plain": [
       "<IPython.core.display.Javascript object>"
      ]
     },
     "metadata": {},
     "output_type": "display_data"
    }
   ],
   "source": [
    "# Like above, I have plotted histograms for each country and the wind energy produced to check for normality.\n",
    "top_energy[\"Wind (terawatt-hours)\"].hist(by=top_energy[\"Entity\"])"
   ]
  },
  {
   "cell_type": "code",
   "execution_count": 71,
   "metadata": {},
   "outputs": [
    {
     "data": {
      "image/png": "[encoded data removed]",
      "text/plain": [
       "<Figure size 432x288 with 1 Axes>"
      ]
     },
     "metadata": {
      "needs_background": "light"
     },
     "output_type": "display_data"
    },
    {
     "data": {
      "image/png": "[encoded data removed]",
      "text/plain": [
       "<Figure size 432x288 with 1 Axes>"
      ]
     },
     "metadata": {
      "needs_background": "light"
     },
     "output_type": "display_data"
    },
    {
     "data": {
      "image/png": "[encoded data removed]",
      "text/plain": [
       "<Figure size 432x288 with 1 Axes>"
      ]
     },
     "metadata": {
      "needs_background": "light"
     },
     "output_type": "display_data"
    },
    {
     "data": {
      "application/javascript": [
       "\n",
       "            setTimeout(function() {\n",
       "                var nbb_cell_id = 71;\n",
       "                var nbb_unformatted_code = \"qqplot(us[\\\"Wind (terawatt-hours)\\\"], line=\\\"s\\\")\\nqqplot(china[\\\"Wind (terawatt-hours)\\\"], line=\\\"s\\\")\\nqqplot(india[\\\"Wind (terawatt-hours)\\\"], line=\\\"s\\\")\\nplt.show()\";\n",
       "                var nbb_formatted_code = \"qqplot(us[\\\"Wind (terawatt-hours)\\\"], line=\\\"s\\\")\\nqqplot(china[\\\"Wind (terawatt-hours)\\\"], line=\\\"s\\\")\\nqqplot(india[\\\"Wind (terawatt-hours)\\\"], line=\\\"s\\\")\\nplt.show()\";\n",
       "                var nbb_cells = Jupyter.notebook.get_cells();\n",
       "                for (var i = 0; i < nbb_cells.length; ++i) {\n",
       "                    if (nbb_cells[i].input_prompt_number == nbb_cell_id) {\n",
       "                        if (nbb_cells[i].get_text() == nbb_unformatted_code) {\n",
       "                             nbb_cells[i].set_text(nbb_formatted_code);\n",
       "                        }\n",
       "                        break;\n",
       "                    }\n",
       "                }\n",
       "            }, 500);\n",
       "            "
      ],
      "text/plain": [
       "<IPython.core.display.Javascript object>"
      ]
     },
     "metadata": {},
     "output_type": "display_data"
    }
   ],
   "source": [
    "qqplot(us[\"Wind (terawatt-hours)\"], line=\"s\")\n",
    "qqplot(china[\"Wind (terawatt-hours)\"], line=\"s\")\n",
    "qqplot(india[\"Wind (terawatt-hours)\"], line=\"s\")\n",
    "plt.show()"
   ]
  },
  {
   "cell_type": "code",
   "execution_count": 50,
   "metadata": {},
   "outputs": [
    {
     "name": "stdout",
     "output_type": "stream",
     "text": [
      "There is no significant difference. Cannot reject the null hypothesis\n",
      "0.12251965106037972\n"
     ]
    },
    {
     "data": {
      "application/javascript": [
       "\n",
       "            setTimeout(function() {\n",
       "                var nbb_cell_id = 50;\n",
       "                var nbb_unformatted_code = \"# Once again from the histograms above I noticed the data is not normalized.\\n# We know each of the countries are independent of eachother.\\n# So we stick with the Kruskal Wallice test.\\nt, p = stats.kruskal(\\n    top_energy.loc[top_energy[\\\"Entity\\\"] == \\\"United States\\\", [\\\"Wind (terawatt-hours)\\\"]],\\n    top_energy.loc[top_energy[\\\"Entity\\\"] == \\\"China\\\", [\\\"Wind (terawatt-hours)\\\"]],\\n    top_energy.loc[top_energy[\\\"Entity\\\"] == \\\"India\\\", [\\\"Wind (terawatt-hours)\\\"]],\\n)\\nif p < 0.05:\\n    print(\\\"There is a significant difference. Reject the null hypothesis\\\")\\nelse:\\n    print(\\\"There is no significant difference. Cannot reject the null hypothesis\\\")\\nprint(p)\";\n",
       "                var nbb_formatted_code = \"# Once again from the histograms above I noticed the data is not normalized.\\n# We know each of the countries are independent of eachother.\\n# So we stick with the Kruskal Wallice test.\\nt, p = stats.kruskal(\\n    top_energy.loc[top_energy[\\\"Entity\\\"] == \\\"United States\\\", [\\\"Wind (terawatt-hours)\\\"]],\\n    top_energy.loc[top_energy[\\\"Entity\\\"] == \\\"China\\\", [\\\"Wind (terawatt-hours)\\\"]],\\n    top_energy.loc[top_energy[\\\"Entity\\\"] == \\\"India\\\", [\\\"Wind (terawatt-hours)\\\"]],\\n)\\nif p < 0.05:\\n    print(\\\"There is a significant difference. Reject the null hypothesis\\\")\\nelse:\\n    print(\\\"There is no significant difference. Cannot reject the null hypothesis\\\")\\nprint(p)\";\n",
       "                var nbb_cells = Jupyter.notebook.get_cells();\n",
       "                for (var i = 0; i < nbb_cells.length; ++i) {\n",
       "                    if (nbb_cells[i].input_prompt_number == nbb_cell_id) {\n",
       "                        if (nbb_cells[i].get_text() == nbb_unformatted_code) {\n",
       "                             nbb_cells[i].set_text(nbb_formatted_code);\n",
       "                        }\n",
       "                        break;\n",
       "                    }\n",
       "                }\n",
       "            }, 500);\n",
       "            "
      ],
      "text/plain": [
       "<IPython.core.display.Javascript object>"
      ]
     },
     "metadata": {},
     "output_type": "display_data"
    }
   ],
   "source": [
    "# Once again from the histograms and qqplots above I noticed the data is not normalized.\n",
    "# We know each of the countries are independent of eachother.\n",
    "# So we stick with the Kruskal Wallice test.\n",
    "t, p = stats.kruskal(\n",
    "    top_energy.loc[top_energy[\"Entity\"] == \"United States\", [\"Wind (terawatt-hours)\"]],\n",
    "    top_energy.loc[top_energy[\"Entity\"] == \"China\", [\"Wind (terawatt-hours)\"]],\n",
    "    top_energy.loc[top_energy[\"Entity\"] == \"India\", [\"Wind (terawatt-hours)\"]],\n",
    ")\n",
    "if p < 0.05:\n",
    "    print(\"There is a significant difference. Reject the null hypothesis\")\n",
    "else:\n",
    "    print(\"There is no significant difference. Cannot reject the null hypothesis\")\n",
    "print(p)"
   ]
  },
  {
   "cell_type": "code",
   "execution_count": 74,
   "metadata": {},
   "outputs": [
    {
     "name": "stdout",
     "output_type": "stream",
     "text": [
      "[0.04595743267799342, 0.03352119293398198, 0.47934734052822003]\n",
      "[False False False]\n"
     ]
    },
    {
     "data": {
      "application/javascript": [
       "\n",
       "            setTimeout(function() {\n",
       "                var nbb_cell_id = 74;\n",
       "                var nbb_unformatted_code = \"# Posthoc follow up tests with mannwhitneyu shows we are not able to reject the null hypothesis for any of the countries.\\n# There is no significant difference between wind energy production in the U.S, China, and India.\\n_, p1 = stats.mannwhitneyu(us[\\\"Wind (terawatt-hours)\\\"], china[\\\"Wind (terawatt-hours)\\\"])\\n_, p2 = stats.mannwhitneyu(us[\\\"Wind (terawatt-hours)\\\"], india[\\\"Wind (terawatt-hours)\\\"])\\n_, p3 = stats.mannwhitneyu(\\n    china[\\\"Wind (terawatt-hours)\\\"], india[\\\"Wind (terawatt-hours)\\\"]\\n)\\n\\np_values = [p1, p2, p3]\\nreject, corr_p, sidak, bonf = multipletests(p_values, alpha=0.05)\\nprint (p_values)\\nprint(reject)\";\n",
       "                var nbb_formatted_code = \"# Posthoc follow up tests with mannwhitneyu shows we are not able to reject the null hypothesis for any of the countries.\\n# There is no significant difference between wind energy production in the U.S, China, and India.\\n_, p1 = stats.mannwhitneyu(us[\\\"Wind (terawatt-hours)\\\"], china[\\\"Wind (terawatt-hours)\\\"])\\n_, p2 = stats.mannwhitneyu(us[\\\"Wind (terawatt-hours)\\\"], india[\\\"Wind (terawatt-hours)\\\"])\\n_, p3 = stats.mannwhitneyu(\\n    china[\\\"Wind (terawatt-hours)\\\"], india[\\\"Wind (terawatt-hours)\\\"]\\n)\\n\\np_values = [p1, p2, p3]\\nreject, corr_p, sidak, bonf = multipletests(p_values, alpha=0.05)\\nprint(p_values)\\nprint(reject)\";\n",
       "                var nbb_cells = Jupyter.notebook.get_cells();\n",
       "                for (var i = 0; i < nbb_cells.length; ++i) {\n",
       "                    if (nbb_cells[i].input_prompt_number == nbb_cell_id) {\n",
       "                        if (nbb_cells[i].get_text() == nbb_unformatted_code) {\n",
       "                             nbb_cells[i].set_text(nbb_formatted_code);\n",
       "                        }\n",
       "                        break;\n",
       "                    }\n",
       "                }\n",
       "            }, 500);\n",
       "            "
      ],
      "text/plain": [
       "<IPython.core.display.Javascript object>"
      ]
     },
     "metadata": {},
     "output_type": "display_data"
    }
   ],
   "source": [
    "# Posthoc follow up tests with mannwhitneyu shows we are not able to reject the null hypothesis for any of the countries.\n",
    "# There is no significant difference between wind energy production in the U.S, China, and India.\n",
    "_, p1 = stats.mannwhitneyu(us[\"Wind (terawatt-hours)\"], china[\"Wind (terawatt-hours)\"])\n",
    "_, p2 = stats.mannwhitneyu(us[\"Wind (terawatt-hours)\"], india[\"Wind (terawatt-hours)\"])\n",
    "_, p3 = stats.mannwhitneyu(\n",
    "    china[\"Wind (terawatt-hours)\"], india[\"Wind (terawatt-hours)\"]\n",
    ")\n",
    "\n",
    "p_values = [p1, p2, p3]\n",
    "reject, corr_p, sidak, bonf = multipletests(p_values, alpha=0.05)\n",
    "print(p_values)\n",
    "print(reject)"
   ]
  },
  {
   "cell_type": "markdown",
   "metadata": {},
   "source": [
    "# Conclusion\n",
    "From the visualized data, I have concluded solar and wind production are not normally distributed and are both independent variables. Therefore, I conducted Kruskal Wallice tests for each variable and had follow up tests with mannwhitneyu tests. The solar energy production Kruskal Wallice test resulted in a calculated p-value of 0.0064. This led to a the mannwhitneyu follow up test which gave p-values of 0.0129, 0.0015, and 0.1375 when comparing the U.S to China, the U.S to India, and China to India respectively. With the calculated p-values, I am able to reject part of the null hypothesis and state that there is a significant difference in the solar energy production between the U.S and China and the U.S and India, but not between China and India. As for wind production, the Kruskal Wallice calculated p-value of 0.1225 indicates that there is not a significant difference in the production of wind energy between the United States, China, and India. This is further proved by obtaining mannwhitneyu calculated p-values of 0.0460, 0.0335, and 0.4793. Thus, we are not able to reject the null hypothesis. \n",
    "\n",
    "Using the common language effect size indicator function, I learned that if a random value were to be picked from the U.S solar production and a random value were to be picked from the China solar production, there is a 54.32% chance the U.S solar production is greater than the China solar production. It was also used to determine if a random value was picked from the U.S solar production and a random value was picked from the India solar production, there is a 56.58% chance the U.S solar production is greater.\n"
   ]
  }
 ],
 "metadata": {
  "kernelspec": {
   "display_name": "Python 3",
   "language": "python",
   "name": "python3"
  },
  "language_info": {
   "codemirror_mode": {
    "name": "ipython",
    "version": 3
   },
   "file_extension": ".py",
   "mimetype": "text/x-python",
   "name": "python",
   "nbconvert_exporter": "python",
   "pygments_lexer": "ipython3",
   "version": "3.7.6"
  }
 },
 "nbformat": 4,
 "nbformat_minor": 4
}
