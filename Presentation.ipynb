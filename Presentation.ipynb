{
 "cells": [
  {
   "cell_type": "code",
   "execution_count": 1,
   "metadata": {},
   "outputs": [
    {
     "name": "stdout",
     "output_type": "stream",
     "text": [
      "C:\\Users\\jlim7\\OneDrive\\Documents\\GitHub\\Capstone1_Rename_later\n",
      "['.git', '.gitignore', '.ipynb_checkpoints', '769175_1325857_bundle_archive.zip', 'Data Analysis.ipynb', 'Initial EDA.ipynb', 'modern-renewable-energy-consumption.csv', 'Presentation.ipynb', 'README.md', 'Research Proposal.ipynb', 'Solar and Wind Energy Production Analysis.pdf']\n"
     ]
    },
    {
     "data": {
      "application/javascript": [
       "\n",
       "            setTimeout(function() {\n",
       "                var nbb_cell_id = 1;\n",
       "                var nbb_unformatted_code = \"%reload_ext nb_black\\n\\nimport pandas as pd\\nimport numpy as np\\nfrom scipy import stats\\nimport statsmodels.api as sm\\nfrom statsmodels.stats.multitest import multipletests\\nimport seaborn as sns\\nimport matplotlib.pyplot as plt\\nfrom statsmodels.graphics.gofplots import qqplot\\n\\n%matplotlib inline\\nimport os\\n\\nprint(os.getcwd())\\n\\nprint(os.listdir(os.getcwd()))\\nenergy = pd.read_csv(\\\"modern-renewable-energy-consumption.csv\\\")\";\n",
       "                var nbb_formatted_code = \"%reload_ext nb_black\\n\\nimport pandas as pd\\nimport numpy as np\\nfrom scipy import stats\\nimport statsmodels.api as sm\\nfrom statsmodels.stats.multitest import multipletests\\nimport seaborn as sns\\nimport matplotlib.pyplot as plt\\nfrom statsmodels.graphics.gofplots import qqplot\\n\\n%matplotlib inline\\nimport os\\n\\nprint(os.getcwd())\\n\\nprint(os.listdir(os.getcwd()))\\nenergy = pd.read_csv(\\\"modern-renewable-energy-consumption.csv\\\")\";\n",
       "                var nbb_cells = Jupyter.notebook.get_cells();\n",
       "                for (var i = 0; i < nbb_cells.length; ++i) {\n",
       "                    if (nbb_cells[i].input_prompt_number == nbb_cell_id) {\n",
       "                        if (nbb_cells[i].get_text() == nbb_unformatted_code) {\n",
       "                             nbb_cells[i].set_text(nbb_formatted_code);\n",
       "                        }\n",
       "                        break;\n",
       "                    }\n",
       "                }\n",
       "            }, 500);\n",
       "            "
      ],
      "text/plain": [
       "<IPython.core.display.Javascript object>"
      ]
     },
     "metadata": {},
     "output_type": "display_data"
    }
   ],
   "source": [
    "%reload_ext nb_black\n",
    "\n",
    "import pandas as pd\n",
    "import numpy as np\n",
    "from scipy import stats\n",
    "import statsmodels.api as sm\n",
    "from statsmodels.stats.multitest import multipletests\n",
    "import seaborn as sns\n",
    "import matplotlib.pyplot as plt\n",
    "from statsmodels.graphics.gofplots import qqplot\n",
    "\n",
    "%matplotlib inline\n",
    "import os\n",
    "\n",
    "print(os.getcwd())\n",
    "\n",
    "print(os.listdir(os.getcwd()))\n",
    "energy = pd.read_csv(\"modern-renewable-energy-consumption.csv\")"
   ]
  },
  {
   "cell_type": "code",
   "execution_count": 2,
   "metadata": {},
   "outputs": [
    {
     "data": {
      "application/javascript": [
       "\n",
       "            setTimeout(function() {\n",
       "                var nbb_cell_id = 2;\n",
       "                var nbb_unformatted_code = \"top = [\\\"United States\\\", \\\"China\\\", \\\"India\\\"]\\ntop_energy = energy[energy[\\\"Entity\\\"].isin(top)]\\nus = energy[energy[\\\"Entity\\\"] == \\\"United States\\\"]\\nchina = energy[energy[\\\"Entity\\\"] == \\\"China\\\"]\\nindia = energy[energy[\\\"Entity\\\"] == \\\"India\\\"]\\nrec_year = top_energy[top_energy[\\\"Year\\\"] >= 2010]\";\n",
       "                var nbb_formatted_code = \"top = [\\\"United States\\\", \\\"China\\\", \\\"India\\\"]\\ntop_energy = energy[energy[\\\"Entity\\\"].isin(top)]\\nus = energy[energy[\\\"Entity\\\"] == \\\"United States\\\"]\\nchina = energy[energy[\\\"Entity\\\"] == \\\"China\\\"]\\nindia = energy[energy[\\\"Entity\\\"] == \\\"India\\\"]\\nrec_year = top_energy[top_energy[\\\"Year\\\"] >= 2010]\";\n",
       "                var nbb_cells = Jupyter.notebook.get_cells();\n",
       "                for (var i = 0; i < nbb_cells.length; ++i) {\n",
       "                    if (nbb_cells[i].input_prompt_number == nbb_cell_id) {\n",
       "                        if (nbb_cells[i].get_text() == nbb_unformatted_code) {\n",
       "                             nbb_cells[i].set_text(nbb_formatted_code);\n",
       "                        }\n",
       "                        break;\n",
       "                    }\n",
       "                }\n",
       "            }, 500);\n",
       "            "
      ],
      "text/plain": [
       "<IPython.core.display.Javascript object>"
      ]
     },
     "metadata": {},
     "output_type": "display_data"
    }
   ],
   "source": [
    "top = [\"United States\", \"China\", \"India\"]\n",
    "top_energy = energy[energy[\"Entity\"].isin(top)]\n",
    "us = energy[energy[\"Entity\"] == \"United States\"]\n",
    "china = energy[energy[\"Entity\"] == \"China\"]\n",
    "india = energy[energy[\"Entity\"] == \"India\"]\n",
    "rec_year = top_energy[top_energy[\"Year\"] >= 2010]"
   ]
  },
  {
   "cell_type": "markdown",
   "metadata": {},
   "source": [
    "This data set illustrates the production of renewable energy sources for 99 different countries all around the world from the years 1965 to 2018. The energy sources include hydropower, solar, wind, geothermal and modern biofuel.\n",
    "The data set was obtained from https://www.kaggle.com/khadeejahalghadeer/renewable-energy-generation-world-1965-to-2018. \n",
    "The creator of this data set obtained the data from BP's Statistical Review of World Energy and can be found at http://www.bp.com/statisticalreview.\n",
    "\n",
    "According to statista, in 2019 the top three energy consuming countries were China, the United States, and India. (Include chart on the website as a visual https://www.statista.com/statistics/263455/primary-energy-consumption-of-selected-countries/) \n",
    "I analyzed the kaggle data to determine if there was a significant difference between the production of solar and wind energy in the US versus the production of solar and wind energy in China and India."
   ]
  },
  {
   "cell_type": "code",
   "execution_count": 5,
   "metadata": {},
   "outputs": [
    {
     "name": "stdout",
     "output_type": "stream",
     "text": [
      "There is a significant difference. Reject the null hypothesis\n",
      "0.006402094683951255\n",
      "[0.012935468271930638, 0.001493744735485237, 0.1375139249718007]\n",
      "[ True  True False]\n"
     ]
    },
    {
     "data": {
      "application/javascript": [
       "\n",
       "            setTimeout(function() {\n",
       "                var nbb_cell_id = 5;\n",
       "                var nbb_unformatted_code = \"t, p = stats.kruskal(\\n    top_energy.loc[top_energy[\\\"Entity\\\"] == \\\"United States\\\", [\\\"Solar (terawatt-hours)\\\"]],\\n    top_energy.loc[top_energy[\\\"Entity\\\"] == \\\"China\\\", [\\\"Solar (terawatt-hours)\\\"]],\\n    top_energy.loc[top_energy[\\\"Entity\\\"] == \\\"India\\\", [\\\"Solar (terawatt-hours)\\\"]],\\n)\\nif p < 0.05:\\n    print(\\\"There is a significant difference. Reject the null hypothesis\\\")\\nelse:\\n    print(\\\"There is no significant difference. Cannot reject the null hypothesis\\\")\\nprint(p)\\n_, p1 = stats.mannwhitneyu(\\n    us[\\\"Solar (terawatt-hours)\\\"], china[\\\"Solar (terawatt-hours)\\\"]\\n)\\n_, p2 = stats.mannwhitneyu(\\n    us[\\\"Solar (terawatt-hours)\\\"], india[\\\"Solar (terawatt-hours)\\\"]\\n)\\n_, p3 = stats.mannwhitneyu(\\n    china[\\\"Solar (terawatt-hours)\\\"], india[\\\"Solar (terawatt-hours)\\\"]\\n)\\n\\np_values = [p1, p2, p3]\\nreject, corr_p, sidak, bonf = multipletests(p_values, alpha=0.05)\\nprint(p_values)\\nprint(reject)\";\n",
       "                var nbb_formatted_code = \"t, p = stats.kruskal(\\n    top_energy.loc[top_energy[\\\"Entity\\\"] == \\\"United States\\\", [\\\"Solar (terawatt-hours)\\\"]],\\n    top_energy.loc[top_energy[\\\"Entity\\\"] == \\\"China\\\", [\\\"Solar (terawatt-hours)\\\"]],\\n    top_energy.loc[top_energy[\\\"Entity\\\"] == \\\"India\\\", [\\\"Solar (terawatt-hours)\\\"]],\\n)\\nif p < 0.05:\\n    print(\\\"There is a significant difference. Reject the null hypothesis\\\")\\nelse:\\n    print(\\\"There is no significant difference. Cannot reject the null hypothesis\\\")\\nprint(p)\\n_, p1 = stats.mannwhitneyu(\\n    us[\\\"Solar (terawatt-hours)\\\"], china[\\\"Solar (terawatt-hours)\\\"]\\n)\\n_, p2 = stats.mannwhitneyu(\\n    us[\\\"Solar (terawatt-hours)\\\"], india[\\\"Solar (terawatt-hours)\\\"]\\n)\\n_, p3 = stats.mannwhitneyu(\\n    china[\\\"Solar (terawatt-hours)\\\"], india[\\\"Solar (terawatt-hours)\\\"]\\n)\\n\\np_values = [p1, p2, p3]\\nreject, corr_p, sidak, bonf = multipletests(p_values, alpha=0.05)\\nprint(p_values)\\nprint(reject)\";\n",
       "                var nbb_cells = Jupyter.notebook.get_cells();\n",
       "                for (var i = 0; i < nbb_cells.length; ++i) {\n",
       "                    if (nbb_cells[i].input_prompt_number == nbb_cell_id) {\n",
       "                        if (nbb_cells[i].get_text() == nbb_unformatted_code) {\n",
       "                             nbb_cells[i].set_text(nbb_formatted_code);\n",
       "                        }\n",
       "                        break;\n",
       "                    }\n",
       "                }\n",
       "            }, 500);\n",
       "            "
      ],
      "text/plain": [
       "<IPython.core.display.Javascript object>"
      ]
     },
     "metadata": {},
     "output_type": "display_data"
    }
   ],
   "source": [
    "t, p = stats.kruskal(\n",
    "    top_energy.loc[top_energy[\"Entity\"] == \"United States\", [\"Solar (terawatt-hours)\"]],\n",
    "    top_energy.loc[top_energy[\"Entity\"] == \"China\", [\"Solar (terawatt-hours)\"]],\n",
    "    top_energy.loc[top_energy[\"Entity\"] == \"India\", [\"Solar (terawatt-hours)\"]],\n",
    ")\n",
    "if p < 0.05:\n",
    "    print(\"There is a significant difference. Reject the null hypothesis\")\n",
    "else:\n",
    "    print(\"There is no significant difference. Cannot reject the null hypothesis\")\n",
    "print(p)\n",
    "_, p1 = stats.mannwhitneyu(\n",
    "    us[\"Solar (terawatt-hours)\"], china[\"Solar (terawatt-hours)\"]\n",
    ")\n",
    "_, p2 = stats.mannwhitneyu(\n",
    "    us[\"Solar (terawatt-hours)\"], india[\"Solar (terawatt-hours)\"]\n",
    ")\n",
    "_, p3 = stats.mannwhitneyu(\n",
    "    china[\"Solar (terawatt-hours)\"], india[\"Solar (terawatt-hours)\"]\n",
    ")\n",
    "\n",
    "p_values = [p1, p2, p3]\n",
    "reject, corr_p, sidak, bonf = multipletests(p_values, alpha=0.05)\n",
    "print(p_values)\n",
    "print(reject)"
   ]
  },
  {
   "cell_type": "code",
   "execution_count": 6,
   "metadata": {},
   "outputs": [
    {
     "name": "stdout",
     "output_type": "stream",
     "text": [
      "0.5432098765432098\n",
      "0.565843621399177\n"
     ]
    },
    {
     "data": {
      "application/javascript": [
       "\n",
       "            setTimeout(function() {\n",
       "                var nbb_cell_id = 6;\n",
       "                var nbb_unformatted_code = \"def cles_ind(x1, x2):\\n    x1 = np.array(x1)\\n    x2 = np.array(x2)\\n\\n    diff = x1[:, None] - x2\\n    cles = max((diff < 0).sum(), (diff > 0).sum()) / diff.size\\n\\n    return cles\\n\\n\\nx1 = us[\\\"Solar (terawatt-hours)\\\"]\\nx2 = china[\\\"Solar (terawatt-hours)\\\"]\\nx3 = india[\\\"Solar (terawatt-hours)\\\"]\\nprint(cles_ind(x1, x2))\\nprint(cles_ind(x1, x3))\";\n",
       "                var nbb_formatted_code = \"def cles_ind(x1, x2):\\n    x1 = np.array(x1)\\n    x2 = np.array(x2)\\n\\n    diff = x1[:, None] - x2\\n    cles = max((diff < 0).sum(), (diff > 0).sum()) / diff.size\\n\\n    return cles\\n\\n\\nx1 = us[\\\"Solar (terawatt-hours)\\\"]\\nx2 = china[\\\"Solar (terawatt-hours)\\\"]\\nx3 = india[\\\"Solar (terawatt-hours)\\\"]\\nprint(cles_ind(x1, x2))\\nprint(cles_ind(x1, x3))\";\n",
       "                var nbb_cells = Jupyter.notebook.get_cells();\n",
       "                for (var i = 0; i < nbb_cells.length; ++i) {\n",
       "                    if (nbb_cells[i].input_prompt_number == nbb_cell_id) {\n",
       "                        if (nbb_cells[i].get_text() == nbb_unformatted_code) {\n",
       "                             nbb_cells[i].set_text(nbb_formatted_code);\n",
       "                        }\n",
       "                        break;\n",
       "                    }\n",
       "                }\n",
       "            }, 500);\n",
       "            "
      ],
      "text/plain": [
       "<IPython.core.display.Javascript object>"
      ]
     },
     "metadata": {},
     "output_type": "display_data"
    }
   ],
   "source": [
    "def cles_ind(x1, x2):\n",
    "    x1 = np.array(x1)\n",
    "    x2 = np.array(x2)\n",
    "\n",
    "    diff = x1[:, None] - x2\n",
    "    cles = max((diff < 0).sum(), (diff > 0).sum()) / diff.size\n",
    "\n",
    "    return cles\n",
    "\n",
    "\n",
    "x1 = us[\"Solar (terawatt-hours)\"]\n",
    "x2 = china[\"Solar (terawatt-hours)\"]\n",
    "x3 = india[\"Solar (terawatt-hours)\"]\n",
    "print(cles_ind(x1, x2))\n",
    "print(cles_ind(x1, x3))"
   ]
  },
  {
   "cell_type": "code",
   "execution_count": 7,
   "metadata": {
    "scrolled": true
   },
   "outputs": [
    {
     "data": {
      "text/html": [
       "<div>\n",
       "<style scoped>\n",
       "    .dataframe tbody tr th:only-of-type {\n",
       "        vertical-align: middle;\n",
       "    }\n",
       "\n",
       "    .dataframe tbody tr th {\n",
       "        vertical-align: top;\n",
       "    }\n",
       "\n",
       "    .dataframe thead th {\n",
       "        text-align: right;\n",
       "    }\n",
       "</style>\n",
       "<table border=\"1\" class=\"dataframe\">\n",
       "  <thead>\n",
       "    <tr style=\"text-align: right;\">\n",
       "      <th></th>\n",
       "      <th>Entity</th>\n",
       "      <th>Code</th>\n",
       "      <th>Year</th>\n",
       "      <th>Hydropower (terawatt-hours)</th>\n",
       "      <th>Solar (terawatt-hours)</th>\n",
       "      <th>Wind (terawatt-hours)</th>\n",
       "      <th>Other renewables (terawatt-hours)</th>\n",
       "    </tr>\n",
       "  </thead>\n",
       "  <tbody>\n",
       "    <tr>\n",
       "      <th>869</th>\n",
       "      <td>China</td>\n",
       "      <td>CHN</td>\n",
       "      <td>2010</td>\n",
       "      <td>711.383140</td>\n",
       "      <td>0.701000</td>\n",
       "      <td>44.622000</td>\n",
       "      <td>24.900230</td>\n",
       "    </tr>\n",
       "    <tr>\n",
       "      <th>870</th>\n",
       "      <td>China</td>\n",
       "      <td>CHN</td>\n",
       "      <td>2011</td>\n",
       "      <td>688.045000</td>\n",
       "      <td>2.610000</td>\n",
       "      <td>70.331000</td>\n",
       "      <td>27.707000</td>\n",
       "    </tr>\n",
       "    <tr>\n",
       "      <th>871</th>\n",
       "      <td>China</td>\n",
       "      <td>CHN</td>\n",
       "      <td>2012</td>\n",
       "      <td>862.794110</td>\n",
       "      <td>3.594510</td>\n",
       "      <td>95.978000</td>\n",
       "      <td>30.484845</td>\n",
       "    </tr>\n",
       "    <tr>\n",
       "      <th>872</th>\n",
       "      <td>China</td>\n",
       "      <td>CHN</td>\n",
       "      <td>2013</td>\n",
       "      <td>909.611273</td>\n",
       "      <td>8.373887</td>\n",
       "      <td>141.197000</td>\n",
       "      <td>37.286429</td>\n",
       "    </tr>\n",
       "    <tr>\n",
       "      <th>873</th>\n",
       "      <td>China</td>\n",
       "      <td>CHN</td>\n",
       "      <td>2014</td>\n",
       "      <td>1051.146674</td>\n",
       "      <td>23.512157</td>\n",
       "      <td>156.078000</td>\n",
       "      <td>46.421649</td>\n",
       "    </tr>\n",
       "    <tr>\n",
       "      <th>874</th>\n",
       "      <td>China</td>\n",
       "      <td>CHN</td>\n",
       "      <td>2015</td>\n",
       "      <td>1114.515410</td>\n",
       "      <td>43.560000</td>\n",
       "      <td>185.766000</td>\n",
       "      <td>54.070290</td>\n",
       "    </tr>\n",
       "    <tr>\n",
       "      <th>875</th>\n",
       "      <td>China</td>\n",
       "      <td>CHN</td>\n",
       "      <td>2016</td>\n",
       "      <td>1153.269500</td>\n",
       "      <td>61.686000</td>\n",
       "      <td>237.071000</td>\n",
       "      <td>62.134767</td>\n",
       "    </tr>\n",
       "    <tr>\n",
       "      <th>876</th>\n",
       "      <td>China</td>\n",
       "      <td>CHN</td>\n",
       "      <td>2017</td>\n",
       "      <td>1165.070000</td>\n",
       "      <td>117.800000</td>\n",
       "      <td>295.000000</td>\n",
       "      <td>79.597146</td>\n",
       "    </tr>\n",
       "    <tr>\n",
       "      <th>877</th>\n",
       "      <td>China</td>\n",
       "      <td>CHN</td>\n",
       "      <td>2018</td>\n",
       "      <td>1202.430000</td>\n",
       "      <td>177.500000</td>\n",
       "      <td>366.000000</td>\n",
       "      <td>90.723462</td>\n",
       "    </tr>\n",
       "    <tr>\n",
       "      <th>1850</th>\n",
       "      <td>India</td>\n",
       "      <td>IND</td>\n",
       "      <td>2010</td>\n",
       "      <td>108.744098</td>\n",
       "      <td>0.113000</td>\n",
       "      <td>19.456400</td>\n",
       "      <td>14.295000</td>\n",
       "    </tr>\n",
       "    <tr>\n",
       "      <th>1851</th>\n",
       "      <td>India</td>\n",
       "      <td>IND</td>\n",
       "      <td>2011</td>\n",
       "      <td>131.704598</td>\n",
       "      <td>0.827000</td>\n",
       "      <td>23.952300</td>\n",
       "      <td>17.137000</td>\n",
       "    </tr>\n",
       "    <tr>\n",
       "      <th>1852</th>\n",
       "      <td>India</td>\n",
       "      <td>IND</td>\n",
       "      <td>2012</td>\n",
       "      <td>115.776375</td>\n",
       "      <td>2.099000</td>\n",
       "      <td>27.432600</td>\n",
       "      <td>19.936000</td>\n",
       "    </tr>\n",
       "    <tr>\n",
       "      <th>1853</th>\n",
       "      <td>India</td>\n",
       "      <td>IND</td>\n",
       "      <td>2013</td>\n",
       "      <td>131.983020</td>\n",
       "      <td>3.433000</td>\n",
       "      <td>30.007400</td>\n",
       "      <td>22.478000</td>\n",
       "    </tr>\n",
       "    <tr>\n",
       "      <th>1854</th>\n",
       "      <td>India</td>\n",
       "      <td>IND</td>\n",
       "      <td>2014</td>\n",
       "      <td>138.996293</td>\n",
       "      <td>4.909000</td>\n",
       "      <td>33.454900</td>\n",
       "      <td>24.676000</td>\n",
       "    </tr>\n",
       "    <tr>\n",
       "      <th>1855</th>\n",
       "      <td>India</td>\n",
       "      <td>IND</td>\n",
       "      <td>2015</td>\n",
       "      <td>133.282537</td>\n",
       "      <td>6.566380</td>\n",
       "      <td>32.741380</td>\n",
       "      <td>25.818000</td>\n",
       "    </tr>\n",
       "    <tr>\n",
       "      <th>1856</th>\n",
       "      <td>India</td>\n",
       "      <td>IND</td>\n",
       "      <td>2016</td>\n",
       "      <td>128.381614</td>\n",
       "      <td>11.555980</td>\n",
       "      <td>43.452830</td>\n",
       "      <td>24.816846</td>\n",
       "    </tr>\n",
       "    <tr>\n",
       "      <th>1857</th>\n",
       "      <td>India</td>\n",
       "      <td>IND</td>\n",
       "      <td>2017</td>\n",
       "      <td>135.668322</td>\n",
       "      <td>21.522210</td>\n",
       "      <td>52.624950</td>\n",
       "      <td>21.619790</td>\n",
       "    </tr>\n",
       "    <tr>\n",
       "      <th>1858</th>\n",
       "      <td>India</td>\n",
       "      <td>IND</td>\n",
       "      <td>2018</td>\n",
       "      <td>139.667832</td>\n",
       "      <td>30.732403</td>\n",
       "      <td>60.311160</td>\n",
       "      <td>30.458697</td>\n",
       "    </tr>\n",
       "    <tr>\n",
       "      <th>4832</th>\n",
       "      <td>United States</td>\n",
       "      <td>USA</td>\n",
       "      <td>2010</td>\n",
       "      <td>257.274684</td>\n",
       "      <td>3.013036</td>\n",
       "      <td>95.608329</td>\n",
       "      <td>75.061846</td>\n",
       "    </tr>\n",
       "    <tr>\n",
       "      <th>4833</th>\n",
       "      <td>United States</td>\n",
       "      <td>USA</td>\n",
       "      <td>2011</td>\n",
       "      <td>316.095341</td>\n",
       "      <td>4.738904</td>\n",
       "      <td>121.390504</td>\n",
       "      <td>75.775159</td>\n",
       "    </tr>\n",
       "    <tr>\n",
       "      <th>4834</th>\n",
       "      <td>United States</td>\n",
       "      <td>USA</td>\n",
       "      <td>2012</td>\n",
       "      <td>274.030027</td>\n",
       "      <td>9.037014</td>\n",
       "      <td>142.244144</td>\n",
       "      <td>77.036102</td>\n",
       "    </tr>\n",
       "    <tr>\n",
       "      <th>4835</th>\n",
       "      <td>United States</td>\n",
       "      <td>USA</td>\n",
       "      <td>2013</td>\n",
       "      <td>266.549848</td>\n",
       "      <td>16.039695</td>\n",
       "      <td>169.535096</td>\n",
       "      <td>80.665532</td>\n",
       "    </tr>\n",
       "    <tr>\n",
       "      <th>4836</th>\n",
       "      <td>United States</td>\n",
       "      <td>USA</td>\n",
       "      <td>2014</td>\n",
       "      <td>255.750580</td>\n",
       "      <td>29.216162</td>\n",
       "      <td>183.490184</td>\n",
       "      <td>84.070229</td>\n",
       "    </tr>\n",
       "    <tr>\n",
       "      <th>4837</th>\n",
       "      <td>United States</td>\n",
       "      <td>USA</td>\n",
       "      <td>2015</td>\n",
       "      <td>246.453128</td>\n",
       "      <td>39.426263</td>\n",
       "      <td>192.644998</td>\n",
       "      <td>83.736265</td>\n",
       "    </tr>\n",
       "    <tr>\n",
       "      <th>4838</th>\n",
       "      <td>United States</td>\n",
       "      <td>USA</td>\n",
       "      <td>2016</td>\n",
       "      <td>263.763663</td>\n",
       "      <td>55.420202</td>\n",
       "      <td>229.285416</td>\n",
       "      <td>82.722566</td>\n",
       "    </tr>\n",
       "    <tr>\n",
       "      <th>4839</th>\n",
       "      <td>United States</td>\n",
       "      <td>USA</td>\n",
       "      <td>2017</td>\n",
       "      <td>296.806675</td>\n",
       "      <td>78.056566</td>\n",
       "      <td>256.871376</td>\n",
       "      <td>82.829829</td>\n",
       "    </tr>\n",
       "    <tr>\n",
       "      <th>4840</th>\n",
       "      <td>United States</td>\n",
       "      <td>USA</td>\n",
       "      <td>2018</td>\n",
       "      <td>288.706340</td>\n",
       "      <td>97.118182</td>\n",
       "      <td>277.729106</td>\n",
       "      <td>83.677037</td>\n",
       "    </tr>\n",
       "  </tbody>\n",
       "</table>\n",
       "</div>"
      ],
      "text/plain": [
       "             Entity Code  Year  Hydropower (terawatt-hours)  \\\n",
       "869           China  CHN  2010                   711.383140   \n",
       "870           China  CHN  2011                   688.045000   \n",
       "871           China  CHN  2012                   862.794110   \n",
       "872           China  CHN  2013                   909.611273   \n",
       "873           China  CHN  2014                  1051.146674   \n",
       "874           China  CHN  2015                  1114.515410   \n",
       "875           China  CHN  2016                  1153.269500   \n",
       "876           China  CHN  2017                  1165.070000   \n",
       "877           China  CHN  2018                  1202.430000   \n",
       "1850          India  IND  2010                   108.744098   \n",
       "1851          India  IND  2011                   131.704598   \n",
       "1852          India  IND  2012                   115.776375   \n",
       "1853          India  IND  2013                   131.983020   \n",
       "1854          India  IND  2014                   138.996293   \n",
       "1855          India  IND  2015                   133.282537   \n",
       "1856          India  IND  2016                   128.381614   \n",
       "1857          India  IND  2017                   135.668322   \n",
       "1858          India  IND  2018                   139.667832   \n",
       "4832  United States  USA  2010                   257.274684   \n",
       "4833  United States  USA  2011                   316.095341   \n",
       "4834  United States  USA  2012                   274.030027   \n",
       "4835  United States  USA  2013                   266.549848   \n",
       "4836  United States  USA  2014                   255.750580   \n",
       "4837  United States  USA  2015                   246.453128   \n",
       "4838  United States  USA  2016                   263.763663   \n",
       "4839  United States  USA  2017                   296.806675   \n",
       "4840  United States  USA  2018                   288.706340   \n",
       "\n",
       "      Solar (terawatt-hours)  Wind (terawatt-hours)  \\\n",
       "869                 0.701000              44.622000   \n",
       "870                 2.610000              70.331000   \n",
       "871                 3.594510              95.978000   \n",
       "872                 8.373887             141.197000   \n",
       "873                23.512157             156.078000   \n",
       "874                43.560000             185.766000   \n",
       "875                61.686000             237.071000   \n",
       "876               117.800000             295.000000   \n",
       "877               177.500000             366.000000   \n",
       "1850                0.113000              19.456400   \n",
       "1851                0.827000              23.952300   \n",
       "1852                2.099000              27.432600   \n",
       "1853                3.433000              30.007400   \n",
       "1854                4.909000              33.454900   \n",
       "1855                6.566380              32.741380   \n",
       "1856               11.555980              43.452830   \n",
       "1857               21.522210              52.624950   \n",
       "1858               30.732403              60.311160   \n",
       "4832                3.013036              95.608329   \n",
       "4833                4.738904             121.390504   \n",
       "4834                9.037014             142.244144   \n",
       "4835               16.039695             169.535096   \n",
       "4836               29.216162             183.490184   \n",
       "4837               39.426263             192.644998   \n",
       "4838               55.420202             229.285416   \n",
       "4839               78.056566             256.871376   \n",
       "4840               97.118182             277.729106   \n",
       "\n",
       "      Other renewables (terawatt-hours)  \n",
       "869                           24.900230  \n",
       "870                           27.707000  \n",
       "871                           30.484845  \n",
       "872                           37.286429  \n",
       "873                           46.421649  \n",
       "874                           54.070290  \n",
       "875                           62.134767  \n",
       "876                           79.597146  \n",
       "877                           90.723462  \n",
       "1850                          14.295000  \n",
       "1851                          17.137000  \n",
       "1852                          19.936000  \n",
       "1853                          22.478000  \n",
       "1854                          24.676000  \n",
       "1855                          25.818000  \n",
       "1856                          24.816846  \n",
       "1857                          21.619790  \n",
       "1858                          30.458697  \n",
       "4832                          75.061846  \n",
       "4833                          75.775159  \n",
       "4834                          77.036102  \n",
       "4835                          80.665532  \n",
       "4836                          84.070229  \n",
       "4837                          83.736265  \n",
       "4838                          82.722566  \n",
       "4839                          82.829829  \n",
       "4840                          83.677037  "
      ]
     },
     "execution_count": 7,
     "metadata": {},
     "output_type": "execute_result"
    },
    {
     "data": {
      "application/javascript": [
       "\n",
       "            setTimeout(function() {\n",
       "                var nbb_cell_id = 7;\n",
       "                var nbb_unformatted_code = \"rec_year\";\n",
       "                var nbb_formatted_code = \"rec_year\";\n",
       "                var nbb_cells = Jupyter.notebook.get_cells();\n",
       "                for (var i = 0; i < nbb_cells.length; ++i) {\n",
       "                    if (nbb_cells[i].input_prompt_number == nbb_cell_id) {\n",
       "                        if (nbb_cells[i].get_text() == nbb_unformatted_code) {\n",
       "                             nbb_cells[i].set_text(nbb_formatted_code);\n",
       "                        }\n",
       "                        break;\n",
       "                    }\n",
       "                }\n",
       "            }, 500);\n",
       "            "
      ],
      "text/plain": [
       "<IPython.core.display.Javascript object>"
      ]
     },
     "metadata": {},
     "output_type": "display_data"
    }
   ],
   "source": [
    "rec_year"
   ]
  },
  {
   "cell_type": "markdown",
   "metadata": {},
   "source": [
    "There is around a 54% chance that if a value was chosen from the U.S solar energy production it would be larger than a value from China's solar energy production. In other words, for 54% of the years from 1965 to 2018, the United States had produced more solar energy than China. However, when we take a look at the Solar Energy Produced vs Year Plot, we see China has recently surpassed the United States in solar energy produced. One reason for this may be because the United States has shifted its priorities on solar energy and decided to focus on other renewable energy production. Another possibility could be that China has increased its priority on solar energy production and have decided to focus more on solar energy opposed to other renewables.\n",
    "\n",
    "When comparing the United States and India, there is around a 56% chance that if a value was chosen from the U.S solar production, it would be larger than a value from India's solar energy production. However, using the point plot, we can see since 2010, the United States has consistently produced more solar energy than India. Additionally, the gap between the two countries has continued to widen. This is a good representation that solar energy in the United States is continuing to develop and production is consistently growing. "
   ]
  },
  {
   "cell_type": "code",
   "execution_count": 20,
   "metadata": {},
   "outputs": [
    {
     "data": {
      "text/plain": [
       "Text(0.5, 1.0, 'Solar Energy Production')"
      ]
     },
     "execution_count": 20,
     "metadata": {},
     "output_type": "execute_result"
    },
    {
     "data": {
      "image/png": "[encoded data removed]",
      "text/plain": [
       "<Figure size 432x288 with 1 Axes>"
      ]
     },
     "metadata": {
      "needs_background": "light"
     },
     "output_type": "display_data"
    },
    {
     "data": {
      "application/javascript": [
       "\n",
       "            setTimeout(function() {\n",
       "                var nbb_cell_id = 20;\n",
       "                var nbb_unformatted_code = \"sns.lineplot(\\n    x=\\\"Year\\\", y=\\\"Solar (terawatt-hours)\\\", hue=\\\"Entity\\\", data=top_energy\\n).set_title(\\\"Solar Energy Production\\\")\";\n",
       "                var nbb_formatted_code = \"sns.lineplot(\\n    x=\\\"Year\\\", y=\\\"Solar (terawatt-hours)\\\", hue=\\\"Entity\\\", data=top_energy\\n).set_title(\\\"Solar Energy Production\\\")\";\n",
       "                var nbb_cells = Jupyter.notebook.get_cells();\n",
       "                for (var i = 0; i < nbb_cells.length; ++i) {\n",
       "                    if (nbb_cells[i].input_prompt_number == nbb_cell_id) {\n",
       "                        if (nbb_cells[i].get_text() == nbb_unformatted_code) {\n",
       "                             nbb_cells[i].set_text(nbb_formatted_code);\n",
       "                        }\n",
       "                        break;\n",
       "                    }\n",
       "                }\n",
       "            }, 500);\n",
       "            "
      ],
      "text/plain": [
       "<IPython.core.display.Javascript object>"
      ]
     },
     "metadata": {},
     "output_type": "display_data"
    }
   ],
   "source": [
    "sns.lineplot(\n",
    "    x=\"Year\", y=\"Solar (terawatt-hours)\", hue=\"Entity\", data=top_energy\n",
    ").set_title(\"Solar Energy Production\")"
   ]
  },
  {
   "cell_type": "code",
   "execution_count": 6,
   "metadata": {},
   "outputs": [
    {
     "data": {
      "application/javascript": [
       "\n",
       "            setTimeout(function() {\n",
       "                var nbb_cell_id = 6;\n",
       "                var nbb_unformatted_code = \"early_yr = top_energy[top_energy['Year'] == 2010]\";\n",
       "                var nbb_formatted_code = \"early_yr = top_energy[top_energy[\\\"Year\\\"] == 2010]\";\n",
       "                var nbb_cells = Jupyter.notebook.get_cells();\n",
       "                for (var i = 0; i < nbb_cells.length; ++i) {\n",
       "                    if (nbb_cells[i].input_prompt_number == nbb_cell_id) {\n",
       "                        if (nbb_cells[i].get_text() == nbb_unformatted_code) {\n",
       "                             nbb_cells[i].set_text(nbb_formatted_code);\n",
       "                        }\n",
       "                        break;\n",
       "                    }\n",
       "                }\n",
       "            }, 500);\n",
       "            "
      ],
      "text/plain": [
       "<IPython.core.display.Javascript object>"
      ]
     },
     "metadata": {},
     "output_type": "display_data"
    }
   ],
   "source": [
    "early_yr = top_energy[top_energy['Year'] == 2010]"
   ]
  },
  {
   "cell_type": "code",
   "execution_count": 8,
   "metadata": {},
   "outputs": [
    {
     "data": {
      "application/javascript": [
       "\n",
       "            setTimeout(function() {\n",
       "                var nbb_cell_id = 8;\n",
       "                var nbb_unformatted_code = \"late_yr = top_energy[top_energy['Year'] == 2018]\";\n",
       "                var nbb_formatted_code = \"late_yr = top_energy[top_energy[\\\"Year\\\"] == 2018]\";\n",
       "                var nbb_cells = Jupyter.notebook.get_cells();\n",
       "                for (var i = 0; i < nbb_cells.length; ++i) {\n",
       "                    if (nbb_cells[i].input_prompt_number == nbb_cell_id) {\n",
       "                        if (nbb_cells[i].get_text() == nbb_unformatted_code) {\n",
       "                             nbb_cells[i].set_text(nbb_formatted_code);\n",
       "                        }\n",
       "                        break;\n",
       "                    }\n",
       "                }\n",
       "            }, 500);\n",
       "            "
      ],
      "text/plain": [
       "<IPython.core.display.Javascript object>"
      ]
     },
     "metadata": {},
     "output_type": "display_data"
    }
   ],
   "source": [
    "late_yr = top_energy[top_energy[\"Year\"] == 2018]"
   ]
  },
  {
   "cell_type": "code",
   "execution_count": 12,
   "metadata": {},
   "outputs": [
    {
     "data": {
      "application/javascript": [
       "\n",
       "            setTimeout(function() {\n",
       "                var nbb_cell_id = 12;\n",
       "                var nbb_unformatted_code = \"yr = top_energy[top_energy['Year'] == 2000]\";\n",
       "                var nbb_formatted_code = \"yr = top_energy[top_energy[\\\"Year\\\"] == 2000]\";\n",
       "                var nbb_cells = Jupyter.notebook.get_cells();\n",
       "                for (var i = 0; i < nbb_cells.length; ++i) {\n",
       "                    if (nbb_cells[i].input_prompt_number == nbb_cell_id) {\n",
       "                        if (nbb_cells[i].get_text() == nbb_unformatted_code) {\n",
       "                             nbb_cells[i].set_text(nbb_formatted_code);\n",
       "                        }\n",
       "                        break;\n",
       "                    }\n",
       "                }\n",
       "            }, 500);\n",
       "            "
      ],
      "text/plain": [
       "<IPython.core.display.Javascript object>"
      ]
     },
     "metadata": {},
     "output_type": "display_data"
    }
   ],
   "source": [
    "yr = top_energy[top_energy[\"Year\"] == 2000]"
   ]
  },
  {
   "cell_type": "code",
   "execution_count": 10,
   "metadata": {},
   "outputs": [
    {
     "data": {
      "text/plain": [
       "Text(0.5, 1.0, 'Solar Production in 2010')"
      ]
     },
     "execution_count": 10,
     "metadata": {},
     "output_type": "execute_result"
    },
    {
     "data": {
      "image/png": "[encoded data removed]",
      "text/plain": [
       "<Figure size 432x288 with 1 Axes>"
      ]
     },
     "metadata": {
      "needs_background": "light"
     },
     "output_type": "display_data"
    },
    {
     "data": {
      "application/javascript": [
       "\n",
       "            setTimeout(function() {\n",
       "                var nbb_cell_id = 10;\n",
       "                var nbb_unformatted_code = \"sns.barplot(\\n    x=(\\\"Year\\\"), y=\\\"Solar (terawatt-hours)\\\", hue=\\\"Entity\\\", data=early_yr\\n).set_title('Solar Production in 2010')\";\n",
       "                var nbb_formatted_code = \"sns.barplot(\\n    x=(\\\"Year\\\"), y=\\\"Solar (terawatt-hours)\\\", hue=\\\"Entity\\\", data=early_yr\\n).set_title(\\\"Solar Production in 2010\\\")\";\n",
       "                var nbb_cells = Jupyter.notebook.get_cells();\n",
       "                for (var i = 0; i < nbb_cells.length; ++i) {\n",
       "                    if (nbb_cells[i].input_prompt_number == nbb_cell_id) {\n",
       "                        if (nbb_cells[i].get_text() == nbb_unformatted_code) {\n",
       "                             nbb_cells[i].set_text(nbb_formatted_code);\n",
       "                        }\n",
       "                        break;\n",
       "                    }\n",
       "                }\n",
       "            }, 500);\n",
       "            "
      ],
      "text/plain": [
       "<IPython.core.display.Javascript object>"
      ]
     },
     "metadata": {},
     "output_type": "display_data"
    }
   ],
   "source": [
    "sns.barplot(\n",
    "    x=(\"Year\"), y=\"Solar (terawatt-hours)\", hue=\"Entity\", data=early_yr\n",
    ").set_title(\"Solar Production in 2010\")"
   ]
  },
  {
   "cell_type": "code",
   "execution_count": 11,
   "metadata": {},
   "outputs": [
    {
     "data": {
      "text/plain": [
       "Text(0.5, 1.0, 'Solar Production in 2018')"
      ]
     },
     "execution_count": 11,
     "metadata": {},
     "output_type": "execute_result"
    },
    {
     "data": {
      "image/png": "[encoded data removed]",
      "text/plain": [
       "<Figure size 432x288 with 1 Axes>"
      ]
     },
     "metadata": {
      "needs_background": "light"
     },
     "output_type": "display_data"
    },
    {
     "data": {
      "application/javascript": [
       "\n",
       "            setTimeout(function() {\n",
       "                var nbb_cell_id = 11;\n",
       "                var nbb_unformatted_code = \"sns.barplot(x=(\\\"Year\\\"), y=\\\"Solar (terawatt-hours)\\\", hue=\\\"Entity\\\", data=late_yr).set_title('Solar Production in 2018')\";\n",
       "                var nbb_formatted_code = \"sns.barplot(\\n    x=(\\\"Year\\\"), y=\\\"Solar (terawatt-hours)\\\", hue=\\\"Entity\\\", data=late_yr\\n).set_title(\\\"Solar Production in 2018\\\")\";\n",
       "                var nbb_cells = Jupyter.notebook.get_cells();\n",
       "                for (var i = 0; i < nbb_cells.length; ++i) {\n",
       "                    if (nbb_cells[i].input_prompt_number == nbb_cell_id) {\n",
       "                        if (nbb_cells[i].get_text() == nbb_unformatted_code) {\n",
       "                             nbb_cells[i].set_text(nbb_formatted_code);\n",
       "                        }\n",
       "                        break;\n",
       "                    }\n",
       "                }\n",
       "            }, 500);\n",
       "            "
      ],
      "text/plain": [
       "<IPython.core.display.Javascript object>"
      ]
     },
     "metadata": {},
     "output_type": "display_data"
    }
   ],
   "source": [
    "sns.barplot(\n",
    "    x=(\"Year\"), y=\"Solar (terawatt-hours)\", hue=\"Entity\", data=late_yr\n",
    ").set_title(\"Solar Production in 2018\")"
   ]
  },
  {
   "cell_type": "code",
   "execution_count": 13,
   "metadata": {},
   "outputs": [
    {
     "data": {
      "text/plain": [
       "Text(0.5, 1.0, 'Solar Production in 2000')"
      ]
     },
     "execution_count": 13,
     "metadata": {},
     "output_type": "execute_result"
    },
    {
     "data": {
      "image/png": "[encoded data removed]",
      "text/plain": [
       "<Figure size 432x288 with 1 Axes>"
      ]
     },
     "metadata": {
      "needs_background": "light"
     },
     "output_type": "display_data"
    },
    {
     "data": {
      "application/javascript": [
       "\n",
       "            setTimeout(function() {\n",
       "                var nbb_cell_id = 13;\n",
       "                var nbb_unformatted_code = \"sns.barplot(\\n    x=(\\\"Year\\\"), y=\\\"Solar (terawatt-hours)\\\", hue=\\\"Entity\\\", data=yr\\n).set_title(\\\"Solar Production in 2000\\\")\";\n",
       "                var nbb_formatted_code = \"sns.barplot(x=(\\\"Year\\\"), y=\\\"Solar (terawatt-hours)\\\", hue=\\\"Entity\\\", data=yr).set_title(\\n    \\\"Solar Production in 2000\\\"\\n)\";\n",
       "                var nbb_cells = Jupyter.notebook.get_cells();\n",
       "                for (var i = 0; i < nbb_cells.length; ++i) {\n",
       "                    if (nbb_cells[i].input_prompt_number == nbb_cell_id) {\n",
       "                        if (nbb_cells[i].get_text() == nbb_unformatted_code) {\n",
       "                             nbb_cells[i].set_text(nbb_formatted_code);\n",
       "                        }\n",
       "                        break;\n",
       "                    }\n",
       "                }\n",
       "            }, 500);\n",
       "            "
      ],
      "text/plain": [
       "<IPython.core.display.Javascript object>"
      ]
     },
     "metadata": {},
     "output_type": "display_data"
    }
   ],
   "source": [
    "sns.barplot(x=(\"Year\"), y=\"Solar (terawatt-hours)\", hue=\"Entity\", data=yr).set_title(\n",
    "    \"Solar Production in 2000\"\n",
    ")"
   ]
  },
  {
   "cell_type": "code",
   "execution_count": 17,
   "metadata": {},
   "outputs": [
    {
     "data": {
      "image/png": "[encoded data removed]",
      "text/plain": [
       "<Figure size 432x288 with 1 Axes>"
      ]
     },
     "metadata": {
      "needs_background": "light"
     },
     "output_type": "display_data"
    },
    {
     "data": {
      "application/javascript": [
       "\n",
       "            setTimeout(function() {\n",
       "                var nbb_cell_id = 17;\n",
       "                var nbb_unformatted_code = \"ax = sns.pointplot(x=\\\"Year\\\", y=\\\"Solar (terawatt-hours)\\\", hue=\\\"Entity\\\", data=rec_year).set_title('Solar Energy Production')\";\n",
       "                var nbb_formatted_code = \"ax = sns.pointplot(\\n    x=\\\"Year\\\", y=\\\"Solar (terawatt-hours)\\\", hue=\\\"Entity\\\", data=rec_year\\n).set_title(\\\"Solar Energy Production\\\")\";\n",
       "                var nbb_cells = Jupyter.notebook.get_cells();\n",
       "                for (var i = 0; i < nbb_cells.length; ++i) {\n",
       "                    if (nbb_cells[i].input_prompt_number == nbb_cell_id) {\n",
       "                        if (nbb_cells[i].get_text() == nbb_unformatted_code) {\n",
       "                             nbb_cells[i].set_text(nbb_formatted_code);\n",
       "                        }\n",
       "                        break;\n",
       "                    }\n",
       "                }\n",
       "            }, 500);\n",
       "            "
      ],
      "text/plain": [
       "<IPython.core.display.Javascript object>"
      ]
     },
     "metadata": {},
     "output_type": "display_data"
    }
   ],
   "source": [
    "ax = sns.pointplot(\n",
    "    x=\"Year\", y=\"Solar (terawatt-hours)\", hue=\"Entity\", data=rec_year\n",
    ").set_title(\"Solar Energy Production\")"
   ]
  },
  {
   "cell_type": "code",
   "execution_count": 9,
   "metadata": {},
   "outputs": [
    {
     "name": "stdout",
     "output_type": "stream",
     "text": [
      "There is no significant difference. Cannot reject the null hypothesis\n",
      "0.12251965106037972\n",
      "[0.04595743267799342, 0.03352119293398198, 0.47934734052822003]\n",
      "[False False False]\n"
     ]
    },
    {
     "data": {
      "application/javascript": [
       "\n",
       "            setTimeout(function() {\n",
       "                var nbb_cell_id = 9;\n",
       "                var nbb_unformatted_code = \"t, p = stats.kruskal(\\n    top_energy.loc[top_energy[\\\"Entity\\\"] == \\\"United States\\\", [\\\"Wind (terawatt-hours)\\\"]],\\n    top_energy.loc[top_energy[\\\"Entity\\\"] == \\\"China\\\", [\\\"Wind (terawatt-hours)\\\"]],\\n    top_energy.loc[top_energy[\\\"Entity\\\"] == \\\"India\\\", [\\\"Wind (terawatt-hours)\\\"]],\\n)\\nif p < 0.05:\\n    print(\\\"There is a significant difference. Reject the null hypothesis\\\")\\nelse:\\n    print(\\\"There is no significant difference. Cannot reject the null hypothesis\\\")\\nprint(p)\\n_, p1 = stats.mannwhitneyu(us[\\\"Wind (terawatt-hours)\\\"], china[\\\"Wind (terawatt-hours)\\\"])\\n_, p2 = stats.mannwhitneyu(us[\\\"Wind (terawatt-hours)\\\"], india[\\\"Wind (terawatt-hours)\\\"])\\n_, p3 = stats.mannwhitneyu(\\n    china[\\\"Wind (terawatt-hours)\\\"], india[\\\"Wind (terawatt-hours)\\\"]\\n)\\n\\np_values = [p1, p2, p3]\\nreject, corr_p, sidak, bonf = multipletests(p_values, alpha=0.05)\\nprint(p_values)\\nprint(reject)\";\n",
       "                var nbb_formatted_code = \"t, p = stats.kruskal(\\n    top_energy.loc[top_energy[\\\"Entity\\\"] == \\\"United States\\\", [\\\"Wind (terawatt-hours)\\\"]],\\n    top_energy.loc[top_energy[\\\"Entity\\\"] == \\\"China\\\", [\\\"Wind (terawatt-hours)\\\"]],\\n    top_energy.loc[top_energy[\\\"Entity\\\"] == \\\"India\\\", [\\\"Wind (terawatt-hours)\\\"]],\\n)\\nif p < 0.05:\\n    print(\\\"There is a significant difference. Reject the null hypothesis\\\")\\nelse:\\n    print(\\\"There is no significant difference. Cannot reject the null hypothesis\\\")\\nprint(p)\\n_, p1 = stats.mannwhitneyu(us[\\\"Wind (terawatt-hours)\\\"], china[\\\"Wind (terawatt-hours)\\\"])\\n_, p2 = stats.mannwhitneyu(us[\\\"Wind (terawatt-hours)\\\"], india[\\\"Wind (terawatt-hours)\\\"])\\n_, p3 = stats.mannwhitneyu(\\n    china[\\\"Wind (terawatt-hours)\\\"], india[\\\"Wind (terawatt-hours)\\\"]\\n)\\n\\np_values = [p1, p2, p3]\\nreject, corr_p, sidak, bonf = multipletests(p_values, alpha=0.05)\\nprint(p_values)\\nprint(reject)\";\n",
       "                var nbb_cells = Jupyter.notebook.get_cells();\n",
       "                for (var i = 0; i < nbb_cells.length; ++i) {\n",
       "                    if (nbb_cells[i].input_prompt_number == nbb_cell_id) {\n",
       "                        if (nbb_cells[i].get_text() == nbb_unformatted_code) {\n",
       "                             nbb_cells[i].set_text(nbb_formatted_code);\n",
       "                        }\n",
       "                        break;\n",
       "                    }\n",
       "                }\n",
       "            }, 500);\n",
       "            "
      ],
      "text/plain": [
       "<IPython.core.display.Javascript object>"
      ]
     },
     "metadata": {},
     "output_type": "display_data"
    }
   ],
   "source": [
    "t, p = stats.kruskal(\n",
    "    top_energy.loc[top_energy[\"Entity\"] == \"United States\", [\"Wind (terawatt-hours)\"]],\n",
    "    top_energy.loc[top_energy[\"Entity\"] == \"China\", [\"Wind (terawatt-hours)\"]],\n",
    "    top_energy.loc[top_energy[\"Entity\"] == \"India\", [\"Wind (terawatt-hours)\"]],\n",
    ")\n",
    "if p < 0.05:\n",
    "    print(\"There is a significant difference. Reject the null hypothesis\")\n",
    "else:\n",
    "    print(\"There is no significant difference. Cannot reject the null hypothesis\")\n",
    "print(p)\n",
    "_, p1 = stats.mannwhitneyu(us[\"Wind (terawatt-hours)\"], china[\"Wind (terawatt-hours)\"])\n",
    "_, p2 = stats.mannwhitneyu(us[\"Wind (terawatt-hours)\"], india[\"Wind (terawatt-hours)\"])\n",
    "_, p3 = stats.mannwhitneyu(\n",
    "    china[\"Wind (terawatt-hours)\"], india[\"Wind (terawatt-hours)\"]\n",
    ")\n",
    "\n",
    "p_values = [p1, p2, p3]\n",
    "reject, corr_p, sidak, bonf = multipletests(p_values, alpha=0.05)\n",
    "print(p_values)\n",
    "print(reject)"
   ]
  },
  {
   "cell_type": "markdown",
   "metadata": {},
   "source": [
    "There was no significant difference found between wind energy production in the U.S, China, and India. I predict the reason for this is because most of the data before the year 2010 was close to 0 for the top three countries. Thus there was no major significant difference during the first ~35 years. It wasn't until around the 2000's that the data started to differ in wind energy production. Therefore, we are unable to reject the null hypothesis. "
   ]
  },
  {
   "cell_type": "code",
   "execution_count": 21,
   "metadata": {},
   "outputs": [
    {
     "data": {
      "text/plain": [
       "Text(0.5, 1.0, 'Wind Energy Production')"
      ]
     },
     "execution_count": 21,
     "metadata": {},
     "output_type": "execute_result"
    },
    {
     "data": {
      "image/png": "[encoded data removed]",
      "text/plain": [
       "<Figure size 432x288 with 1 Axes>"
      ]
     },
     "metadata": {
      "needs_background": "light"
     },
     "output_type": "display_data"
    },
    {
     "data": {
      "application/javascript": [
       "\n",
       "            setTimeout(function() {\n",
       "                var nbb_cell_id = 21;\n",
       "                var nbb_unformatted_code = \"sns.lineplot(\\n    x=\\\"Year\\\", y=\\\"Wind (terawatt-hours)\\\", hue=\\\"Entity\\\", data=top_energy\\n).set_title(\\\"Wind Energy Production\\\")\";\n",
       "                var nbb_formatted_code = \"sns.lineplot(\\n    x=\\\"Year\\\", y=\\\"Wind (terawatt-hours)\\\", hue=\\\"Entity\\\", data=top_energy\\n).set_title(\\\"Wind Energy Production\\\")\";\n",
       "                var nbb_cells = Jupyter.notebook.get_cells();\n",
       "                for (var i = 0; i < nbb_cells.length; ++i) {\n",
       "                    if (nbb_cells[i].input_prompt_number == nbb_cell_id) {\n",
       "                        if (nbb_cells[i].get_text() == nbb_unformatted_code) {\n",
       "                             nbb_cells[i].set_text(nbb_formatted_code);\n",
       "                        }\n",
       "                        break;\n",
       "                    }\n",
       "                }\n",
       "            }, 500);\n",
       "            "
      ],
      "text/plain": [
       "<IPython.core.display.Javascript object>"
      ]
     },
     "metadata": {},
     "output_type": "display_data"
    }
   ],
   "source": [
    "sns.lineplot(\n",
    "    x=\"Year\", y=\"Wind (terawatt-hours)\", hue=\"Entity\", data=top_energy\n",
    ").set_title(\"Wind Energy Production\")"
   ]
  },
  {
   "cell_type": "code",
   "execution_count": 18,
   "metadata": {},
   "outputs": [
    {
     "data": {
      "image/png": "[encoded data removed]",
      "text/plain": [
       "<Figure size 432x288 with 1 Axes>"
      ]
     },
     "metadata": {
      "needs_background": "light"
     },
     "output_type": "display_data"
    },
    {
     "data": {
      "application/javascript": [
       "\n",
       "            setTimeout(function() {\n",
       "                var nbb_cell_id = 18;\n",
       "                var nbb_unformatted_code = \"ax = sns.pointplot(x=\\\"Year\\\", y=\\\"Wind (terawatt-hours)\\\", hue=\\\"Entity\\\", data=rec_year).set_title('Wind Energy Production')\";\n",
       "                var nbb_formatted_code = \"ax = sns.pointplot(\\n    x=\\\"Year\\\", y=\\\"Wind (terawatt-hours)\\\", hue=\\\"Entity\\\", data=rec_year\\n).set_title(\\\"Wind Energy Production\\\")\";\n",
       "                var nbb_cells = Jupyter.notebook.get_cells();\n",
       "                for (var i = 0; i < nbb_cells.length; ++i) {\n",
       "                    if (nbb_cells[i].input_prompt_number == nbb_cell_id) {\n",
       "                        if (nbb_cells[i].get_text() == nbb_unformatted_code) {\n",
       "                             nbb_cells[i].set_text(nbb_formatted_code);\n",
       "                        }\n",
       "                        break;\n",
       "                    }\n",
       "                }\n",
       "            }, 500);\n",
       "            "
      ],
      "text/plain": [
       "<IPython.core.display.Javascript object>"
      ]
     },
     "metadata": {},
     "output_type": "display_data"
    }
   ],
   "source": [
    "ax = sns.pointplot(\n",
    "    x=\"Year\", y=\"Wind (terawatt-hours)\", hue=\"Entity\", data=rec_year\n",
    ").set_title(\"Wind Energy Production\")"
   ]
  },
  {
   "cell_type": "code",
   "execution_count": null,
   "metadata": {},
   "outputs": [],
   "source": []
  }
 ],
 "metadata": {
  "kernelspec": {
   "display_name": "Python 3",
   "language": "python",
   "name": "python3"
  },
  "language_info": {
   "codemirror_mode": {
    "name": "ipython",
    "version": 3
   },
   "file_extension": ".py",
   "mimetype": "text/x-python",
   "name": "python",
   "nbconvert_exporter": "python",
   "pygments_lexer": "ipython3",
   "version": "3.7.6"
  }
 },
 "nbformat": 4,
 "nbformat_minor": 4
}
