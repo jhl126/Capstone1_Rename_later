{
 "cells": [
  {
   "cell_type": "code",
   "execution_count": 4,
   "metadata": {},
   "outputs": [
    {
     "name": "stdout",
     "output_type": "stream",
     "text": [
      "C:\\Users\\jlim7\\OneDrive\\Documents\\GitHub\\Capstone1_Rename_later\n",
      "['.git', '.gitignore', '.ipynb_checkpoints', '769175_1325857_bundle_archive.zip', 'Data Analysis.ipynb', 'Initial EDA.ipynb', 'modern-renewable-energy-consumption.csv', 'Presentation.ipynb', 'README.md', 'Research Proposal.ipynb']\n"
     ]
    },
    {
     "data": {
      "application/javascript": [
       "\n",
       "            setTimeout(function() {\n",
       "                var nbb_cell_id = 4;\n",
       "                var nbb_unformatted_code = \"%reload_ext nb_black\\n\\nimport pandas as pd\\nimport numpy as np\\nfrom scipy import stats\\nimport statsmodels.api as sm\\nfrom statsmodels.stats.multitest import multipletests\\nimport seaborn as sns\\nimport matplotlib.pyplot as plt\\nfrom statsmodels.graphics.gofplots import qqplot\\n\\n%matplotlib inline\\nimport os\\n\\nprint(os.getcwd())\\n\\nprint(os.listdir(os.getcwd()))\\nenergy = pd.read_csv(\\\"modern-renewable-energy-consumption.csv\\\")\";\n",
       "                var nbb_formatted_code = \"%reload_ext nb_black\\n\\nimport pandas as pd\\nimport numpy as np\\nfrom scipy import stats\\nimport statsmodels.api as sm\\nfrom statsmodels.stats.multitest import multipletests\\nimport seaborn as sns\\nimport matplotlib.pyplot as plt\\nfrom statsmodels.graphics.gofplots import qqplot\\n\\n%matplotlib inline\\nimport os\\n\\nprint(os.getcwd())\\n\\nprint(os.listdir(os.getcwd()))\\nenergy = pd.read_csv(\\\"modern-renewable-energy-consumption.csv\\\")\";\n",
       "                var nbb_cells = Jupyter.notebook.get_cells();\n",
       "                for (var i = 0; i < nbb_cells.length; ++i) {\n",
       "                    if (nbb_cells[i].input_prompt_number == nbb_cell_id) {\n",
       "                        if (nbb_cells[i].get_text() == nbb_unformatted_code) {\n",
       "                             nbb_cells[i].set_text(nbb_formatted_code);\n",
       "                        }\n",
       "                        break;\n",
       "                    }\n",
       "                }\n",
       "            }, 500);\n",
       "            "
      ],
      "text/plain": [
       "<IPython.core.display.Javascript object>"
      ]
     },
     "metadata": {},
     "output_type": "display_data"
    },
    {
     "data": {
      "application/javascript": [
       "\n",
       "            setTimeout(function() {\n",
       "                var nbb_cell_id = 4;\n",
       "                var nbb_unformatted_code = \"%reload_ext nb_black\\n\\nimport pandas as pd\\nimport numpy as np\\nfrom scipy import stats\\nimport statsmodels.api as sm\\nfrom statsmodels.stats.multitest import multipletests\\nimport seaborn as sns\\nimport matplotlib.pyplot as plt\\nfrom statsmodels.graphics.gofplots import qqplot\\n\\n%matplotlib inline\\nimport os\\n\\nprint(os.getcwd())\\n\\nprint(os.listdir(os.getcwd()))\\nenergy = pd.read_csv(\\\"modern-renewable-energy-consumption.csv\\\")\";\n",
       "                var nbb_formatted_code = \"%reload_ext nb_black\\n\\nimport pandas as pd\\nimport numpy as np\\nfrom scipy import stats\\nimport statsmodels.api as sm\\nfrom statsmodels.stats.multitest import multipletests\\nimport seaborn as sns\\nimport matplotlib.pyplot as plt\\nfrom statsmodels.graphics.gofplots import qqplot\\n\\n%matplotlib inline\\nimport os\\n\\nprint(os.getcwd())\\n\\nprint(os.listdir(os.getcwd()))\\nenergy = pd.read_csv(\\\"modern-renewable-energy-consumption.csv\\\")\";\n",
       "                var nbb_cells = Jupyter.notebook.get_cells();\n",
       "                for (var i = 0; i < nbb_cells.length; ++i) {\n",
       "                    if (nbb_cells[i].input_prompt_number == nbb_cell_id) {\n",
       "                        if (nbb_cells[i].get_text() == nbb_unformatted_code) {\n",
       "                             nbb_cells[i].set_text(nbb_formatted_code);\n",
       "                        }\n",
       "                        break;\n",
       "                    }\n",
       "                }\n",
       "            }, 500);\n",
       "            "
      ],
      "text/plain": [
       "<IPython.core.display.Javascript object>"
      ]
     },
     "metadata": {},
     "output_type": "display_data"
    }
   ],
   "source": [
    "%reload_ext nb_black\n",
    "\n",
    "import pandas as pd\n",
    "import numpy as np\n",
    "from scipy import stats\n",
    "import statsmodels.api as sm\n",
    "from statsmodels.stats.multitest import multipletests\n",
    "import seaborn as sns\n",
    "import matplotlib.pyplot as plt\n",
    "from statsmodels.graphics.gofplots import qqplot\n",
    "\n",
    "%matplotlib inline\n",
    "import os\n",
    "\n",
    "print(os.getcwd())\n",
    "\n",
    "print(os.listdir(os.getcwd()))\n",
    "energy = pd.read_csv(\"modern-renewable-energy-consumption.csv\")"
   ]
  },
  {
   "cell_type": "code",
   "execution_count": 12,
   "metadata": {},
   "outputs": [
    {
     "data": {
      "application/javascript": [
       "\n",
       "            setTimeout(function() {\n",
       "                var nbb_cell_id = 12;\n",
       "                var nbb_unformatted_code = \"top = [\\\"United States\\\", \\\"China\\\", \\\"India\\\"]\\ntop_energy = energy[energy[\\\"Entity\\\"].isin(top)]\\nus = energy[energy[\\\"Entity\\\"] == \\\"United States\\\"]\\nchina = energy[energy[\\\"Entity\\\"] == \\\"China\\\"]\\nindia = energy[energy[\\\"Entity\\\"] == \\\"India\\\"]\";\n",
       "                var nbb_formatted_code = \"top = [\\\"United States\\\", \\\"China\\\", \\\"India\\\"]\\ntop_energy = energy[energy[\\\"Entity\\\"].isin(top)]\\nus = energy[energy[\\\"Entity\\\"] == \\\"United States\\\"]\\nchina = energy[energy[\\\"Entity\\\"] == \\\"China\\\"]\\nindia = energy[energy[\\\"Entity\\\"] == \\\"India\\\"]\";\n",
       "                var nbb_cells = Jupyter.notebook.get_cells();\n",
       "                for (var i = 0; i < nbb_cells.length; ++i) {\n",
       "                    if (nbb_cells[i].input_prompt_number == nbb_cell_id) {\n",
       "                        if (nbb_cells[i].get_text() == nbb_unformatted_code) {\n",
       "                             nbb_cells[i].set_text(nbb_formatted_code);\n",
       "                        }\n",
       "                        break;\n",
       "                    }\n",
       "                }\n",
       "            }, 500);\n",
       "            "
      ],
      "text/plain": [
       "<IPython.core.display.Javascript object>"
      ]
     },
     "metadata": {},
     "output_type": "display_data"
    },
    {
     "data": {
      "application/javascript": [
       "\n",
       "            setTimeout(function() {\n",
       "                var nbb_cell_id = 12;\n",
       "                var nbb_unformatted_code = \"top = [\\\"United States\\\", \\\"China\\\", \\\"India\\\"]\\ntop_energy = energy[energy[\\\"Entity\\\"].isin(top)]\\nus = energy[energy[\\\"Entity\\\"] == \\\"United States\\\"]\\nchina = energy[energy[\\\"Entity\\\"] == \\\"China\\\"]\\nindia = energy[energy[\\\"Entity\\\"] == \\\"India\\\"]\";\n",
       "                var nbb_formatted_code = \"top = [\\\"United States\\\", \\\"China\\\", \\\"India\\\"]\\ntop_energy = energy[energy[\\\"Entity\\\"].isin(top)]\\nus = energy[energy[\\\"Entity\\\"] == \\\"United States\\\"]\\nchina = energy[energy[\\\"Entity\\\"] == \\\"China\\\"]\\nindia = energy[energy[\\\"Entity\\\"] == \\\"India\\\"]\";\n",
       "                var nbb_cells = Jupyter.notebook.get_cells();\n",
       "                for (var i = 0; i < nbb_cells.length; ++i) {\n",
       "                    if (nbb_cells[i].input_prompt_number == nbb_cell_id) {\n",
       "                        if (nbb_cells[i].get_text() == nbb_unformatted_code) {\n",
       "                             nbb_cells[i].set_text(nbb_formatted_code);\n",
       "                        }\n",
       "                        break;\n",
       "                    }\n",
       "                }\n",
       "            }, 500);\n",
       "            "
      ],
      "text/plain": [
       "<IPython.core.display.Javascript object>"
      ]
     },
     "metadata": {},
     "output_type": "display_data"
    }
   ],
   "source": [
    "top = [\"United States\", \"China\", \"India\"]\n",
    "top_energy = energy[energy[\"Entity\"].isin(top)]\n",
    "us = energy[energy[\"Entity\"] == \"United States\"]\n",
    "china = energy[energy[\"Entity\"] == \"China\"]\n",
    "india = energy[energy[\"Entity\"] == \"India\"]"
   ]
  },
  {
   "cell_type": "code",
   "execution_count": 26,
   "metadata": {},
   "outputs": [
    {
     "data": {
      "image/png": "[encoded data removed]",
      "text/plain": [
       "<Figure size 432x288 with 1 Axes>"
      ]
     },
     "metadata": {
      "needs_background": "light"
     },
     "output_type": "display_data"
    },
    {
     "data": {
      "application/javascript": [
       "\n",
       "            setTimeout(function() {\n",
       "                var nbb_cell_id = 26;\n",
       "                var nbb_unformatted_code = \"# Start with this and the wind plot to show the rapid growth of solar and wind energy within the last decade. (Explains\\n# why renewable energy is important and how according to past trends it is expected to continue on its rapid growth)\\nplt.plot(us[\\\"Year\\\"], us[\\\"Solar (terawatt-hours)\\\"], \\\"-b\\\", label=\\\"US\\\")\\nplt.plot(china[\\\"Year\\\"], china[\\\"Solar (terawatt-hours)\\\"], \\\"-r\\\", label=\\\"China\\\")\\nplt.plot(india[\\\"Year\\\"], india[\\\"Solar (terawatt-hours)\\\"], \\\"-g\\\", label=\\\" India\\\")\\nplt.title(\\\"Solar Energy Production\\\")\\nplt.xlabel(\\\"Year\\\")\\nplt.ylabel(\\\"Energy Produced (Terawatt-Hours)\\\")\\nplt.legend(loc=\\\"upper left\\\")\\nplt.show()\";\n",
       "                var nbb_formatted_code = \"# Start with this and the wind plot to show the rapid growth of solar and wind energy within the last decade. (Explains\\n# why renewable energy is important and how according to past trends it is expected to continue on its rapid growth)\\nplt.plot(us[\\\"Year\\\"], us[\\\"Solar (terawatt-hours)\\\"], \\\"-b\\\", label=\\\"US\\\")\\nplt.plot(china[\\\"Year\\\"], china[\\\"Solar (terawatt-hours)\\\"], \\\"-r\\\", label=\\\"China\\\")\\nplt.plot(india[\\\"Year\\\"], india[\\\"Solar (terawatt-hours)\\\"], \\\"-g\\\", label=\\\" India\\\")\\nplt.title(\\\"Solar Energy Production\\\")\\nplt.xlabel(\\\"Year\\\")\\nplt.ylabel(\\\"Energy Produced (Terawatt-Hours)\\\")\\nplt.legend(loc=\\\"upper left\\\")\\nplt.show()\";\n",
       "                var nbb_cells = Jupyter.notebook.get_cells();\n",
       "                for (var i = 0; i < nbb_cells.length; ++i) {\n",
       "                    if (nbb_cells[i].input_prompt_number == nbb_cell_id) {\n",
       "                        if (nbb_cells[i].get_text() == nbb_unformatted_code) {\n",
       "                             nbb_cells[i].set_text(nbb_formatted_code);\n",
       "                        }\n",
       "                        break;\n",
       "                    }\n",
       "                }\n",
       "            }, 500);\n",
       "            "
      ],
      "text/plain": [
       "<IPython.core.display.Javascript object>"
      ]
     },
     "metadata": {},
     "output_type": "display_data"
    },
    {
     "data": {
      "application/javascript": [
       "\n",
       "            setTimeout(function() {\n",
       "                var nbb_cell_id = 26;\n",
       "                var nbb_unformatted_code = \"# Start with this and the wind plot to show the rapid growth of solar and wind energy within the last decade. (Explains\\n# why renewable energy is important and how according to past trends it is expected to continue on its rapid growth)\\nplt.plot(us[\\\"Year\\\"], us[\\\"Solar (terawatt-hours)\\\"], \\\"-b\\\", label=\\\"US\\\")\\nplt.plot(china[\\\"Year\\\"], china[\\\"Solar (terawatt-hours)\\\"], \\\"-r\\\", label=\\\"China\\\")\\nplt.plot(india[\\\"Year\\\"], india[\\\"Solar (terawatt-hours)\\\"], \\\"-g\\\", label=\\\" India\\\")\\nplt.title(\\\"Solar Energy Production\\\")\\nplt.xlabel(\\\"Year\\\")\\nplt.ylabel(\\\"Energy Produced (Terawatt-Hours)\\\")\\nplt.legend(loc=\\\"upper left\\\")\\nplt.show()\";\n",
       "                var nbb_formatted_code = \"# Start with this and the wind plot to show the rapid growth of solar and wind energy within the last decade. (Explains\\n# why renewable energy is important and how according to past trends it is expected to continue on its rapid growth)\\nplt.plot(us[\\\"Year\\\"], us[\\\"Solar (terawatt-hours)\\\"], \\\"-b\\\", label=\\\"US\\\")\\nplt.plot(china[\\\"Year\\\"], china[\\\"Solar (terawatt-hours)\\\"], \\\"-r\\\", label=\\\"China\\\")\\nplt.plot(india[\\\"Year\\\"], india[\\\"Solar (terawatt-hours)\\\"], \\\"-g\\\", label=\\\" India\\\")\\nplt.title(\\\"Solar Energy Production\\\")\\nplt.xlabel(\\\"Year\\\")\\nplt.ylabel(\\\"Energy Produced (Terawatt-Hours)\\\")\\nplt.legend(loc=\\\"upper left\\\")\\nplt.show()\";\n",
       "                var nbb_cells = Jupyter.notebook.get_cells();\n",
       "                for (var i = 0; i < nbb_cells.length; ++i) {\n",
       "                    if (nbb_cells[i].input_prompt_number == nbb_cell_id) {\n",
       "                        if (nbb_cells[i].get_text() == nbb_unformatted_code) {\n",
       "                             nbb_cells[i].set_text(nbb_formatted_code);\n",
       "                        }\n",
       "                        break;\n",
       "                    }\n",
       "                }\n",
       "            }, 500);\n",
       "            "
      ],
      "text/plain": [
       "<IPython.core.display.Javascript object>"
      ]
     },
     "metadata": {},
     "output_type": "display_data"
    }
   ],
   "source": [
    "# Start with this and the wind plot to show the rapid growth of solar and wind energy within the last decade. (Explains\n",
    "# why renewable energy is important and how according to past trends it is expected to continue on its rapid growth)\n",
    "plt.plot(us[\"Year\"], us[\"Solar (terawatt-hours)\"], \"-b\", label=\"US\")\n",
    "plt.plot(china[\"Year\"], china[\"Solar (terawatt-hours)\"], \"-r\", label=\"China\")\n",
    "plt.plot(india[\"Year\"], india[\"Solar (terawatt-hours)\"], \"-g\", label=\" India\")\n",
    "plt.title(\"Solar Energy Production\")\n",
    "plt.xlabel(\"Year\")\n",
    "plt.ylabel(\"Energy Produced (Terawatt-Hours)\")\n",
    "plt.legend(loc=\"upper left\")\n",
    "plt.show()"
   ]
  },
  {
   "cell_type": "code",
   "execution_count": 24,
   "metadata": {},
   "outputs": [
    {
     "data": {
      "image/png": "[encoded data removed]",
      "text/plain": [
       "<Figure size 432x288 with 1 Axes>"
      ]
     },
     "metadata": {
      "needs_background": "light"
     },
     "output_type": "display_data"
    },
    {
     "data": {
      "application/javascript": [
       "\n",
       "            setTimeout(function() {\n",
       "                var nbb_cell_id = 24;\n",
       "                var nbb_unformatted_code = \"plt.plot(us[\\\"Year\\\"], us[\\\"Wind (terawatt-hours)\\\"], \\\"-b\\\", label=\\\"US\\\")\\nplt.plot(china[\\\"Year\\\"], china[\\\"Wind (terawatt-hours)\\\"], \\\"-r\\\", label=\\\"China\\\")\\nplt.plot(india[\\\"Year\\\"], india[\\\"Wind (terawatt-hours)\\\"], \\\"-g\\\", label=\\\" India\\\")\\nplt.title(\\\"Wind Energy Production\\\")\\nplt.xlabel(\\\"Year\\\")\\nplt.ylabel(\\\"Energy Produced (Terawatt-Hours)\\\")\\nplt.legend(loc=\\\"upper left\\\")\\nplt.show()\";\n",
       "                var nbb_formatted_code = \"plt.plot(us[\\\"Year\\\"], us[\\\"Wind (terawatt-hours)\\\"], \\\"-b\\\", label=\\\"US\\\")\\nplt.plot(china[\\\"Year\\\"], china[\\\"Wind (terawatt-hours)\\\"], \\\"-r\\\", label=\\\"China\\\")\\nplt.plot(india[\\\"Year\\\"], india[\\\"Wind (terawatt-hours)\\\"], \\\"-g\\\", label=\\\" India\\\")\\nplt.title(\\\"Wind Energy Production\\\")\\nplt.xlabel(\\\"Year\\\")\\nplt.ylabel(\\\"Energy Produced (Terawatt-Hours)\\\")\\nplt.legend(loc=\\\"upper left\\\")\\nplt.show()\";\n",
       "                var nbb_cells = Jupyter.notebook.get_cells();\n",
       "                for (var i = 0; i < nbb_cells.length; ++i) {\n",
       "                    if (nbb_cells[i].input_prompt_number == nbb_cell_id) {\n",
       "                        if (nbb_cells[i].get_text() == nbb_unformatted_code) {\n",
       "                             nbb_cells[i].set_text(nbb_formatted_code);\n",
       "                        }\n",
       "                        break;\n",
       "                    }\n",
       "                }\n",
       "            }, 500);\n",
       "            "
      ],
      "text/plain": [
       "<IPython.core.display.Javascript object>"
      ]
     },
     "metadata": {},
     "output_type": "display_data"
    },
    {
     "data": {
      "application/javascript": [
       "\n",
       "            setTimeout(function() {\n",
       "                var nbb_cell_id = 24;\n",
       "                var nbb_unformatted_code = \"plt.plot(us[\\\"Year\\\"], us[\\\"Wind (terawatt-hours)\\\"], \\\"-b\\\", label=\\\"US\\\")\\nplt.plot(china[\\\"Year\\\"], china[\\\"Wind (terawatt-hours)\\\"], \\\"-r\\\", label=\\\"China\\\")\\nplt.plot(india[\\\"Year\\\"], india[\\\"Wind (terawatt-hours)\\\"], \\\"-g\\\", label=\\\" India\\\")\\nplt.title(\\\"Wind Energy Production\\\")\\nplt.xlabel(\\\"Year\\\")\\nplt.ylabel(\\\"Energy Produced (Terawatt-Hours)\\\")\\nplt.legend(loc=\\\"upper left\\\")\\nplt.show()\";\n",
       "                var nbb_formatted_code = \"plt.plot(us[\\\"Year\\\"], us[\\\"Wind (terawatt-hours)\\\"], \\\"-b\\\", label=\\\"US\\\")\\nplt.plot(china[\\\"Year\\\"], china[\\\"Wind (terawatt-hours)\\\"], \\\"-r\\\", label=\\\"China\\\")\\nplt.plot(india[\\\"Year\\\"], india[\\\"Wind (terawatt-hours)\\\"], \\\"-g\\\", label=\\\" India\\\")\\nplt.title(\\\"Wind Energy Production\\\")\\nplt.xlabel(\\\"Year\\\")\\nplt.ylabel(\\\"Energy Produced (Terawatt-Hours)\\\")\\nplt.legend(loc=\\\"upper left\\\")\\nplt.show()\";\n",
       "                var nbb_cells = Jupyter.notebook.get_cells();\n",
       "                for (var i = 0; i < nbb_cells.length; ++i) {\n",
       "                    if (nbb_cells[i].input_prompt_number == nbb_cell_id) {\n",
       "                        if (nbb_cells[i].get_text() == nbb_unformatted_code) {\n",
       "                             nbb_cells[i].set_text(nbb_formatted_code);\n",
       "                        }\n",
       "                        break;\n",
       "                    }\n",
       "                }\n",
       "            }, 500);\n",
       "            "
      ],
      "text/plain": [
       "<IPython.core.display.Javascript object>"
      ]
     },
     "metadata": {},
     "output_type": "display_data"
    }
   ],
   "source": [
    "plt.plot(us[\"Year\"], us[\"Wind (terawatt-hours)\"], \"-b\", label=\"US\")\n",
    "plt.plot(china[\"Year\"], china[\"Wind (terawatt-hours)\"], \"-r\", label=\"China\")\n",
    "plt.plot(india[\"Year\"], india[\"Wind (terawatt-hours)\"], \"-g\", label=\" India\")\n",
    "plt.title(\"Wind Energy Production\")\n",
    "plt.xlabel(\"Year\")\n",
    "plt.ylabel(\"Energy Produced (Terawatt-Hours)\")\n",
    "plt.legend(loc=\"upper left\")\n",
    "plt.show()"
   ]
  },
  {
   "cell_type": "markdown",
   "metadata": {},
   "source": [
    "This data set illustrates the production of renewable energy sources for 99 different countries all around the world from the years 1965 to 2018. The energy sources include hydropower, solar, wind, geothermal and modern biofuel.\n",
    "The data set was obtained from https://www.kaggle.com/khadeejahalghadeer/renewable-energy-generation-world-1965-to-2018. \n",
    "The creator of this data set obtained the data from BP's Statistcal Review of World Energy and can be found at http://www.bp.com/statisticalreview.\n",
    "\n",
    "According to statista, in 2019 the top three energy consuming countries were China, the United States, and India. (Include chart on the website as a visual https://www.statista.com/statistics/263455/primary-energy-consumption-of-selected-countries/) \n",
    "I analyzed the kaggle data to determine if there was a significant difference between the production of solar and wind energy in the US versus the production of solar and wind energy in China and India."
   ]
  },
  {
   "cell_type": "code",
   "execution_count": 16,
   "metadata": {},
   "outputs": [
    {
     "name": "stdout",
     "output_type": "stream",
     "text": [
      "There is a significant difference. Reject the null hypothesis\n",
      "0.006402094683951255\n",
      "[0.012935468271930638, 0.001493744735485237, 0.1375139249718007]\n",
      "[ True  True False]\n"
     ]
    },
    {
     "data": {
      "application/javascript": [
       "\n",
       "            setTimeout(function() {\n",
       "                var nbb_cell_id = 16;\n",
       "                var nbb_unformatted_code = \"t, p = stats.kruskal(\\n    top_energy.loc[top_energy[\\\"Entity\\\"] == \\\"United States\\\", [\\\"Solar (terawatt-hours)\\\"]],\\n    top_energy.loc[top_energy[\\\"Entity\\\"] == \\\"China\\\", [\\\"Solar (terawatt-hours)\\\"]],\\n    top_energy.loc[top_energy[\\\"Entity\\\"] == \\\"India\\\", [\\\"Solar (terawatt-hours)\\\"]],\\n)\\nif p < 0.05:\\n    print(\\\"There is a significant difference. Reject the null hypothesis\\\")\\nelse:\\n    print(\\\"There is no significant difference. Cannot reject the null hypothesis\\\")\\nprint(p)\\n_, p1 = stats.mannwhitneyu(\\n    us[\\\"Solar (terawatt-hours)\\\"], china[\\\"Solar (terawatt-hours)\\\"]\\n)\\n_, p2 = stats.mannwhitneyu(\\n    us[\\\"Solar (terawatt-hours)\\\"], india[\\\"Solar (terawatt-hours)\\\"]\\n)\\n_, p3 = stats.mannwhitneyu(\\n    china[\\\"Solar (terawatt-hours)\\\"], india[\\\"Solar (terawatt-hours)\\\"]\\n)\\n\\np_values = [p1, p2, p3]\\nreject, corr_p, sidak, bonf = multipletests(p_values, alpha=0.05)\\nprint(p_values)\\nprint(reject)\";\n",
       "                var nbb_formatted_code = \"t, p = stats.kruskal(\\n    top_energy.loc[top_energy[\\\"Entity\\\"] == \\\"United States\\\", [\\\"Solar (terawatt-hours)\\\"]],\\n    top_energy.loc[top_energy[\\\"Entity\\\"] == \\\"China\\\", [\\\"Solar (terawatt-hours)\\\"]],\\n    top_energy.loc[top_energy[\\\"Entity\\\"] == \\\"India\\\", [\\\"Solar (terawatt-hours)\\\"]],\\n)\\nif p < 0.05:\\n    print(\\\"There is a significant difference. Reject the null hypothesis\\\")\\nelse:\\n    print(\\\"There is no significant difference. Cannot reject the null hypothesis\\\")\\nprint(p)\\n_, p1 = stats.mannwhitneyu(\\n    us[\\\"Solar (terawatt-hours)\\\"], china[\\\"Solar (terawatt-hours)\\\"]\\n)\\n_, p2 = stats.mannwhitneyu(\\n    us[\\\"Solar (terawatt-hours)\\\"], india[\\\"Solar (terawatt-hours)\\\"]\\n)\\n_, p3 = stats.mannwhitneyu(\\n    china[\\\"Solar (terawatt-hours)\\\"], india[\\\"Solar (terawatt-hours)\\\"]\\n)\\n\\np_values = [p1, p2, p3]\\nreject, corr_p, sidak, bonf = multipletests(p_values, alpha=0.05)\\nprint(p_values)\\nprint(reject)\";\n",
       "                var nbb_cells = Jupyter.notebook.get_cells();\n",
       "                for (var i = 0; i < nbb_cells.length; ++i) {\n",
       "                    if (nbb_cells[i].input_prompt_number == nbb_cell_id) {\n",
       "                        if (nbb_cells[i].get_text() == nbb_unformatted_code) {\n",
       "                             nbb_cells[i].set_text(nbb_formatted_code);\n",
       "                        }\n",
       "                        break;\n",
       "                    }\n",
       "                }\n",
       "            }, 500);\n",
       "            "
      ],
      "text/plain": [
       "<IPython.core.display.Javascript object>"
      ]
     },
     "metadata": {},
     "output_type": "display_data"
    },
    {
     "data": {
      "application/javascript": [
       "\n",
       "            setTimeout(function() {\n",
       "                var nbb_cell_id = 16;\n",
       "                var nbb_unformatted_code = \"t, p = stats.kruskal(\\n    top_energy.loc[top_energy[\\\"Entity\\\"] == \\\"United States\\\", [\\\"Solar (terawatt-hours)\\\"]],\\n    top_energy.loc[top_energy[\\\"Entity\\\"] == \\\"China\\\", [\\\"Solar (terawatt-hours)\\\"]],\\n    top_energy.loc[top_energy[\\\"Entity\\\"] == \\\"India\\\", [\\\"Solar (terawatt-hours)\\\"]],\\n)\\nif p < 0.05:\\n    print(\\\"There is a significant difference. Reject the null hypothesis\\\")\\nelse:\\n    print(\\\"There is no significant difference. Cannot reject the null hypothesis\\\")\\nprint(p)\\n_, p1 = stats.mannwhitneyu(\\n    us[\\\"Solar (terawatt-hours)\\\"], china[\\\"Solar (terawatt-hours)\\\"]\\n)\\n_, p2 = stats.mannwhitneyu(\\n    us[\\\"Solar (terawatt-hours)\\\"], india[\\\"Solar (terawatt-hours)\\\"]\\n)\\n_, p3 = stats.mannwhitneyu(\\n    china[\\\"Solar (terawatt-hours)\\\"], india[\\\"Solar (terawatt-hours)\\\"]\\n)\\n\\np_values = [p1, p2, p3]\\nreject, corr_p, sidak, bonf = multipletests(p_values, alpha=0.05)\\nprint(p_values)\\nprint(reject)\";\n",
       "                var nbb_formatted_code = \"t, p = stats.kruskal(\\n    top_energy.loc[top_energy[\\\"Entity\\\"] == \\\"United States\\\", [\\\"Solar (terawatt-hours)\\\"]],\\n    top_energy.loc[top_energy[\\\"Entity\\\"] == \\\"China\\\", [\\\"Solar (terawatt-hours)\\\"]],\\n    top_energy.loc[top_energy[\\\"Entity\\\"] == \\\"India\\\", [\\\"Solar (terawatt-hours)\\\"]],\\n)\\nif p < 0.05:\\n    print(\\\"There is a significant difference. Reject the null hypothesis\\\")\\nelse:\\n    print(\\\"There is no significant difference. Cannot reject the null hypothesis\\\")\\nprint(p)\\n_, p1 = stats.mannwhitneyu(\\n    us[\\\"Solar (terawatt-hours)\\\"], china[\\\"Solar (terawatt-hours)\\\"]\\n)\\n_, p2 = stats.mannwhitneyu(\\n    us[\\\"Solar (terawatt-hours)\\\"], india[\\\"Solar (terawatt-hours)\\\"]\\n)\\n_, p3 = stats.mannwhitneyu(\\n    china[\\\"Solar (terawatt-hours)\\\"], india[\\\"Solar (terawatt-hours)\\\"]\\n)\\n\\np_values = [p1, p2, p3]\\nreject, corr_p, sidak, bonf = multipletests(p_values, alpha=0.05)\\nprint(p_values)\\nprint(reject)\";\n",
       "                var nbb_cells = Jupyter.notebook.get_cells();\n",
       "                for (var i = 0; i < nbb_cells.length; ++i) {\n",
       "                    if (nbb_cells[i].input_prompt_number == nbb_cell_id) {\n",
       "                        if (nbb_cells[i].get_text() == nbb_unformatted_code) {\n",
       "                             nbb_cells[i].set_text(nbb_formatted_code);\n",
       "                        }\n",
       "                        break;\n",
       "                    }\n",
       "                }\n",
       "            }, 500);\n",
       "            "
      ],
      "text/plain": [
       "<IPython.core.display.Javascript object>"
      ]
     },
     "metadata": {},
     "output_type": "display_data"
    }
   ],
   "source": [
    "t, p = stats.kruskal(\n",
    "    top_energy.loc[top_energy[\"Entity\"] == \"United States\", [\"Solar (terawatt-hours)\"]],\n",
    "    top_energy.loc[top_energy[\"Entity\"] == \"China\", [\"Solar (terawatt-hours)\"]],\n",
    "    top_energy.loc[top_energy[\"Entity\"] == \"India\", [\"Solar (terawatt-hours)\"]],\n",
    ")\n",
    "if p < 0.05:\n",
    "    print(\"There is a significant difference. Reject the null hypothesis\")\n",
    "else:\n",
    "    print(\"There is no significant difference. Cannot reject the null hypothesis\")\n",
    "print(p)\n",
    "_, p1 = stats.mannwhitneyu(\n",
    "    us[\"Solar (terawatt-hours)\"], china[\"Solar (terawatt-hours)\"]\n",
    ")\n",
    "_, p2 = stats.mannwhitneyu(\n",
    "    us[\"Solar (terawatt-hours)\"], india[\"Solar (terawatt-hours)\"]\n",
    ")\n",
    "_, p3 = stats.mannwhitneyu(\n",
    "    china[\"Solar (terawatt-hours)\"], india[\"Solar (terawatt-hours)\"]\n",
    ")\n",
    "\n",
    "p_values = [p1, p2, p3]\n",
    "reject, corr_p, sidak, bonf = multipletests(p_values, alpha=0.05)\n",
    "print(p_values)\n",
    "print(reject)"
   ]
  },
  {
   "cell_type": "code",
   "execution_count": 28,
   "metadata": {},
   "outputs": [
    {
     "name": "stdout",
     "output_type": "stream",
     "text": [
      "0.5432098765432098\n",
      "0.565843621399177\n"
     ]
    },
    {
     "data": {
      "application/javascript": [
       "\n",
       "            setTimeout(function() {\n",
       "                var nbb_cell_id = 28;\n",
       "                var nbb_unformatted_code = \"def cles_ind(x1, x2):\\n    x1 = np.array(x1)\\n    x2 = np.array(x2)\\n\\n    diff = x1[:, None] - x2\\n    cles = max((diff < 0).sum(), (diff > 0).sum()) / diff.size\\n\\n    return cles\\n\\n\\nx1 = us[\\\"Solar (terawatt-hours)\\\"]\\nx2 = china[\\\"Solar (terawatt-hours)\\\"]\\nx3 = india[\\\"Solar (terawatt-hours)\\\"]\\nprint(cles_ind(x1, x2))\\nprint(cles_ind(x1, x3))\";\n",
       "                var nbb_formatted_code = \"def cles_ind(x1, x2):\\n    x1 = np.array(x1)\\n    x2 = np.array(x2)\\n\\n    diff = x1[:, None] - x2\\n    cles = max((diff < 0).sum(), (diff > 0).sum()) / diff.size\\n\\n    return cles\\n\\n\\nx1 = us[\\\"Solar (terawatt-hours)\\\"]\\nx2 = china[\\\"Solar (terawatt-hours)\\\"]\\nx3 = india[\\\"Solar (terawatt-hours)\\\"]\\nprint(cles_ind(x1, x2))\\nprint(cles_ind(x1, x3))\";\n",
       "                var nbb_cells = Jupyter.notebook.get_cells();\n",
       "                for (var i = 0; i < nbb_cells.length; ++i) {\n",
       "                    if (nbb_cells[i].input_prompt_number == nbb_cell_id) {\n",
       "                        if (nbb_cells[i].get_text() == nbb_unformatted_code) {\n",
       "                             nbb_cells[i].set_text(nbb_formatted_code);\n",
       "                        }\n",
       "                        break;\n",
       "                    }\n",
       "                }\n",
       "            }, 500);\n",
       "            "
      ],
      "text/plain": [
       "<IPython.core.display.Javascript object>"
      ]
     },
     "metadata": {},
     "output_type": "display_data"
    },
    {
     "data": {
      "application/javascript": [
       "\n",
       "            setTimeout(function() {\n",
       "                var nbb_cell_id = 28;\n",
       "                var nbb_unformatted_code = \"def cles_ind(x1, x2):\\n    x1 = np.array(x1)\\n    x2 = np.array(x2)\\n\\n    diff = x1[:, None] - x2\\n    cles = max((diff < 0).sum(), (diff > 0).sum()) / diff.size\\n\\n    return cles\\n\\n\\nx1 = us[\\\"Solar (terawatt-hours)\\\"]\\nx2 = china[\\\"Solar (terawatt-hours)\\\"]\\nx3 = india[\\\"Solar (terawatt-hours)\\\"]\\nprint(cles_ind(x1, x2))\\nprint(cles_ind(x1, x3))\";\n",
       "                var nbb_formatted_code = \"def cles_ind(x1, x2):\\n    x1 = np.array(x1)\\n    x2 = np.array(x2)\\n\\n    diff = x1[:, None] - x2\\n    cles = max((diff < 0).sum(), (diff > 0).sum()) / diff.size\\n\\n    return cles\\n\\n\\nx1 = us[\\\"Solar (terawatt-hours)\\\"]\\nx2 = china[\\\"Solar (terawatt-hours)\\\"]\\nx3 = india[\\\"Solar (terawatt-hours)\\\"]\\nprint(cles_ind(x1, x2))\\nprint(cles_ind(x1, x3))\";\n",
       "                var nbb_cells = Jupyter.notebook.get_cells();\n",
       "                for (var i = 0; i < nbb_cells.length; ++i) {\n",
       "                    if (nbb_cells[i].input_prompt_number == nbb_cell_id) {\n",
       "                        if (nbb_cells[i].get_text() == nbb_unformatted_code) {\n",
       "                             nbb_cells[i].set_text(nbb_formatted_code);\n",
       "                        }\n",
       "                        break;\n",
       "                    }\n",
       "                }\n",
       "            }, 500);\n",
       "            "
      ],
      "text/plain": [
       "<IPython.core.display.Javascript object>"
      ]
     },
     "metadata": {},
     "output_type": "display_data"
    }
   ],
   "source": [
    "def cles_ind(x1, x2):\n",
    "    x1 = np.array(x1)\n",
    "    x2 = np.array(x2)\n",
    "\n",
    "    diff = x1[:, None] - x2\n",
    "    cles = max((diff < 0).sum(), (diff > 0).sum()) / diff.size\n",
    "\n",
    "    return cles\n",
    "\n",
    "\n",
    "x1 = us[\"Solar (terawatt-hours)\"]\n",
    "x2 = china[\"Solar (terawatt-hours)\"]\n",
    "x3 = india[\"Solar (terawatt-hours)\"]\n",
    "print(cles_ind(x1, x2))\n",
    "print(cles_ind(x1, x3))"
   ]
  },
  {
   "cell_type": "markdown",
   "metadata": {},
   "source": [
    "There is around a 54% chance that if a value was chosen from the U.S solar energy production it would be larger than a value from China's solar energy production. In other words, for 54% of the years from 1965 to 2018, the United States had produced more solar energy than China. However, when we take a look at the Solar Energy Produced vs Year Plot, we see China has recently surpassed the United States in solar energy produced. One reason for this may be because the United States has shifted its priorities on solar energy and decided to focus on other renewable energy production. Another possibility could be that China has increased its priority on solar energy production and have decided to focus more on solar energy opposed to other renewables.\n",
    "\n",
    "When comparing the United States and India, there is around a 56% chance that if a value was chosen from the U.S solar production, it would be larger than a value from India's solar energy production."
   ]
  },
  {
   "cell_type": "code",
   "execution_count": 22,
   "metadata": {},
   "outputs": [
    {
     "name": "stdout",
     "output_type": "stream",
     "text": [
      "There is no significant difference. Cannot reject the null hypothesis\n",
      "0.12251965106037972\n",
      "[0.04595743267799342, 0.03352119293398198, 0.47934734052822003]\n",
      "[False False False]\n"
     ]
    },
    {
     "data": {
      "application/javascript": [
       "\n",
       "            setTimeout(function() {\n",
       "                var nbb_cell_id = 22;\n",
       "                var nbb_unformatted_code = \"t, p = stats.kruskal(\\n    top_energy.loc[top_energy[\\\"Entity\\\"] == \\\"United States\\\", [\\\"Wind (terawatt-hours)\\\"]],\\n    top_energy.loc[top_energy[\\\"Entity\\\"] == \\\"China\\\", [\\\"Wind (terawatt-hours)\\\"]],\\n    top_energy.loc[top_energy[\\\"Entity\\\"] == \\\"India\\\", [\\\"Wind (terawatt-hours)\\\"]],\\n)\\nif p < 0.05:\\n    print(\\\"There is a significant difference. Reject the null hypothesis\\\")\\nelse:\\n    print(\\\"There is no significant difference. Cannot reject the null hypothesis\\\")\\nprint(p)\\n_, p1 = stats.mannwhitneyu(us[\\\"Wind (terawatt-hours)\\\"], china[\\\"Wind (terawatt-hours)\\\"])\\n_, p2 = stats.mannwhitneyu(us[\\\"Wind (terawatt-hours)\\\"], india[\\\"Wind (terawatt-hours)\\\"])\\n_, p3 = stats.mannwhitneyu(\\n    china[\\\"Wind (terawatt-hours)\\\"], india[\\\"Wind (terawatt-hours)\\\"]\\n)\\n\\np_values = [p1, p2, p3]\\nreject, corr_p, sidak, bonf = multipletests(p_values, alpha=0.05)\\nprint(p_values)\\nprint(reject)\";\n",
       "                var nbb_formatted_code = \"t, p = stats.kruskal(\\n    top_energy.loc[top_energy[\\\"Entity\\\"] == \\\"United States\\\", [\\\"Wind (terawatt-hours)\\\"]],\\n    top_energy.loc[top_energy[\\\"Entity\\\"] == \\\"China\\\", [\\\"Wind (terawatt-hours)\\\"]],\\n    top_energy.loc[top_energy[\\\"Entity\\\"] == \\\"India\\\", [\\\"Wind (terawatt-hours)\\\"]],\\n)\\nif p < 0.05:\\n    print(\\\"There is a significant difference. Reject the null hypothesis\\\")\\nelse:\\n    print(\\\"There is no significant difference. Cannot reject the null hypothesis\\\")\\nprint(p)\\n_, p1 = stats.mannwhitneyu(us[\\\"Wind (terawatt-hours)\\\"], china[\\\"Wind (terawatt-hours)\\\"])\\n_, p2 = stats.mannwhitneyu(us[\\\"Wind (terawatt-hours)\\\"], india[\\\"Wind (terawatt-hours)\\\"])\\n_, p3 = stats.mannwhitneyu(\\n    china[\\\"Wind (terawatt-hours)\\\"], india[\\\"Wind (terawatt-hours)\\\"]\\n)\\n\\np_values = [p1, p2, p3]\\nreject, corr_p, sidak, bonf = multipletests(p_values, alpha=0.05)\\nprint(p_values)\\nprint(reject)\";\n",
       "                var nbb_cells = Jupyter.notebook.get_cells();\n",
       "                for (var i = 0; i < nbb_cells.length; ++i) {\n",
       "                    if (nbb_cells[i].input_prompt_number == nbb_cell_id) {\n",
       "                        if (nbb_cells[i].get_text() == nbb_unformatted_code) {\n",
       "                             nbb_cells[i].set_text(nbb_formatted_code);\n",
       "                        }\n",
       "                        break;\n",
       "                    }\n",
       "                }\n",
       "            }, 500);\n",
       "            "
      ],
      "text/plain": [
       "<IPython.core.display.Javascript object>"
      ]
     },
     "metadata": {},
     "output_type": "display_data"
    },
    {
     "data": {
      "application/javascript": [
       "\n",
       "            setTimeout(function() {\n",
       "                var nbb_cell_id = 22;\n",
       "                var nbb_unformatted_code = \"t, p = stats.kruskal(\\n    top_energy.loc[top_energy[\\\"Entity\\\"] == \\\"United States\\\", [\\\"Wind (terawatt-hours)\\\"]],\\n    top_energy.loc[top_energy[\\\"Entity\\\"] == \\\"China\\\", [\\\"Wind (terawatt-hours)\\\"]],\\n    top_energy.loc[top_energy[\\\"Entity\\\"] == \\\"India\\\", [\\\"Wind (terawatt-hours)\\\"]],\\n)\\nif p < 0.05:\\n    print(\\\"There is a significant difference. Reject the null hypothesis\\\")\\nelse:\\n    print(\\\"There is no significant difference. Cannot reject the null hypothesis\\\")\\nprint(p)\\n_, p1 = stats.mannwhitneyu(us[\\\"Wind (terawatt-hours)\\\"], china[\\\"Wind (terawatt-hours)\\\"])\\n_, p2 = stats.mannwhitneyu(us[\\\"Wind (terawatt-hours)\\\"], india[\\\"Wind (terawatt-hours)\\\"])\\n_, p3 = stats.mannwhitneyu(\\n    china[\\\"Wind (terawatt-hours)\\\"], india[\\\"Wind (terawatt-hours)\\\"]\\n)\\n\\np_values = [p1, p2, p3]\\nreject, corr_p, sidak, bonf = multipletests(p_values, alpha=0.05)\\nprint(p_values)\\nprint(reject)\";\n",
       "                var nbb_formatted_code = \"t, p = stats.kruskal(\\n    top_energy.loc[top_energy[\\\"Entity\\\"] == \\\"United States\\\", [\\\"Wind (terawatt-hours)\\\"]],\\n    top_energy.loc[top_energy[\\\"Entity\\\"] == \\\"China\\\", [\\\"Wind (terawatt-hours)\\\"]],\\n    top_energy.loc[top_energy[\\\"Entity\\\"] == \\\"India\\\", [\\\"Wind (terawatt-hours)\\\"]],\\n)\\nif p < 0.05:\\n    print(\\\"There is a significant difference. Reject the null hypothesis\\\")\\nelse:\\n    print(\\\"There is no significant difference. Cannot reject the null hypothesis\\\")\\nprint(p)\\n_, p1 = stats.mannwhitneyu(us[\\\"Wind (terawatt-hours)\\\"], china[\\\"Wind (terawatt-hours)\\\"])\\n_, p2 = stats.mannwhitneyu(us[\\\"Wind (terawatt-hours)\\\"], india[\\\"Wind (terawatt-hours)\\\"])\\n_, p3 = stats.mannwhitneyu(\\n    china[\\\"Wind (terawatt-hours)\\\"], india[\\\"Wind (terawatt-hours)\\\"]\\n)\\n\\np_values = [p1, p2, p3]\\nreject, corr_p, sidak, bonf = multipletests(p_values, alpha=0.05)\\nprint(p_values)\\nprint(reject)\";\n",
       "                var nbb_cells = Jupyter.notebook.get_cells();\n",
       "                for (var i = 0; i < nbb_cells.length; ++i) {\n",
       "                    if (nbb_cells[i].input_prompt_number == nbb_cell_id) {\n",
       "                        if (nbb_cells[i].get_text() == nbb_unformatted_code) {\n",
       "                             nbb_cells[i].set_text(nbb_formatted_code);\n",
       "                        }\n",
       "                        break;\n",
       "                    }\n",
       "                }\n",
       "            }, 500);\n",
       "            "
      ],
      "text/plain": [
       "<IPython.core.display.Javascript object>"
      ]
     },
     "metadata": {},
     "output_type": "display_data"
    }
   ],
   "source": [
    "t, p = stats.kruskal(\n",
    "    top_energy.loc[top_energy[\"Entity\"] == \"United States\", [\"Wind (terawatt-hours)\"]],\n",
    "    top_energy.loc[top_energy[\"Entity\"] == \"China\", [\"Wind (terawatt-hours)\"]],\n",
    "    top_energy.loc[top_energy[\"Entity\"] == \"India\", [\"Wind (terawatt-hours)\"]],\n",
    ")\n",
    "if p < 0.05:\n",
    "    print(\"There is a significant difference. Reject the null hypothesis\")\n",
    "else:\n",
    "    print(\"There is no significant difference. Cannot reject the null hypothesis\")\n",
    "print(p)\n",
    "_, p1 = stats.mannwhitneyu(us[\"Wind (terawatt-hours)\"], china[\"Wind (terawatt-hours)\"])\n",
    "_, p2 = stats.mannwhitneyu(us[\"Wind (terawatt-hours)\"], india[\"Wind (terawatt-hours)\"])\n",
    "_, p3 = stats.mannwhitneyu(\n",
    "    china[\"Wind (terawatt-hours)\"], india[\"Wind (terawatt-hours)\"]\n",
    ")\n",
    "\n",
    "p_values = [p1, p2, p3]\n",
    "reject, corr_p, sidak, bonf = multipletests(p_values, alpha=0.05)\n",
    "print(p_values)\n",
    "print(reject)"
   ]
  },
  {
   "cell_type": "markdown",
   "metadata": {},
   "source": [
    "There was no significant difference found between wind energy production in the U.S, China, and India. "
   ]
  }
 ],
 "metadata": {
  "kernelspec": {
   "display_name": "Python 3",
   "language": "python",
   "name": "python3"
  },
  "language_info": {
   "codemirror_mode": {
    "name": "ipython",
    "version": 3
   },
   "file_extension": ".py",
   "mimetype": "text/x-python",
   "name": "python",
   "nbconvert_exporter": "python",
   "pygments_lexer": "ipython3",
   "version": "3.7.6"
  }
 },
 "nbformat": 4,
 "nbformat_minor": 4
}
